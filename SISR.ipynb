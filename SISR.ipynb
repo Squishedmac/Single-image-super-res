{
 "cells": [
  {
   "cell_type": "code",
   "execution_count": 1,
   "id": "ae5f5fb0",
   "metadata": {},
   "outputs": [],
   "source": [
    "import torch\n",
    "import matplotlib\n",
    "import matplotlib.pyplot as plt\n",
    "import time\n",
    "import h5py\n",
    "import torch.optim as optim\n",
    "import torch.nn as nn\n",
    "import numpy as np\n",
    "import math\n",
    "from glob import *\n",
    "import cv2\n",
    "import os\n",
    "import torch.nn.functional as F\n",
    "from torch.utils.data import DataLoader, Dataset\n",
    "from tqdm import tqdm\n",
    "from sklearn.model_selection import train_test_split\n",
    "from torchvision.utils import save_image\n",
    "matplotlib.style.use('ggplot')"
   ]
  },
  {
   "cell_type": "code",
   "execution_count": 2,
   "id": "dbbb85d5",
   "metadata": {},
   "outputs": [],
   "source": [
    "# learning parameters\n",
    "batch_size = 64 # batch size, reduce if facing OOM error\n",
    "epochs = 500 # number of epochs to train the SRCNN model for\n",
    "lr = 0.0001 # the learning rate\n",
    "device = 'cuda' if torch.cuda.is_available() else 'cpu'"
   ]
  },
  {
   "cell_type": "code",
   "execution_count": 3,
   "id": "e21ab7c1",
   "metadata": {},
   "outputs": [],
   "source": [
    "# input image dimensions\n",
    "img_rows, img_cols = 33, 33\n",
    "out_rows, out_cols = 33, 33"
   ]
  },
  {
   "cell_type": "code",
   "execution_count": 4,
   "id": "8bfbcd38",
   "metadata": {},
   "outputs": [],
   "source": [
    "file = h5py.File('input/train_mscale.h5')\n",
    "# `in_train` has shape (21884, 33, 33, 1) which corresponds to\n",
    "# 21884 image patches of 33 pixels height & width and 1 color channel\n",
    "in_train = file['data'][:] # the training data\n",
    "out_train = file['label'][:] # the training labels\n",
    "file.close()\n",
    "# change the values to float32\n",
    "in_train = in_train.astype('float32')\n",
    "out_train = out_train.astype('float32')"
   ]
  },
  {
   "cell_type": "code",
   "execution_count": 5,
   "id": "d76a454b",
   "metadata": {},
   "outputs": [
    {
     "data": {
      "text/plain": [
       "21824"
      ]
     },
     "execution_count": 5,
     "metadata": {},
     "output_type": "execute_result"
    }
   ],
   "source": [
    "len(in_train)"
   ]
  },
  {
   "cell_type": "code",
   "execution_count": 6,
   "id": "44a583b1",
   "metadata": {},
   "outputs": [
    {
     "name": "stdout",
     "output_type": "stream",
     "text": [
      "Training samples:  16368\n",
      "Validation samples:  5456\n"
     ]
    }
   ],
   "source": [
    "(x_train, x_val, y_train, y_val) = train_test_split(in_train, out_train, test_size=0.25)\n",
    "print('Training samples: ', x_train.shape[0])\n",
    "print('Validation samples: ', x_val.shape[0])"
   ]
  },
  {
   "cell_type": "code",
   "execution_count": 7,
   "id": "7ec05151",
   "metadata": {},
   "outputs": [],
   "source": [
    "class SRCNNDataset(Dataset):\n",
    "    def __init__(self, image_data, labels):\n",
    "        self.image_data = image_data\n",
    "        self.labels = labels\n",
    "    def __len__(self):\n",
    "        return (len(self.image_data))\n",
    "    def __getitem__(self, index):\n",
    "        image = self.image_data[index]\n",
    "        label = self.labels[index]\n",
    "        return (\n",
    "            torch.tensor(image, dtype=torch.float),\n",
    "            torch.tensor(label, dtype=torch.float)\n",
    "        )"
   ]
  },
  {
   "cell_type": "code",
   "execution_count": 8,
   "id": "8ed62108",
   "metadata": {},
   "outputs": [],
   "source": [
    "# train and validation data\n",
    "train_data = SRCNNDataset(x_train, y_train)\n",
    "val_data = SRCNNDataset(x_val, y_val)\n",
    "# train and validation loaders\n",
    "train_loader = DataLoader(train_data, batch_size=batch_size)\n",
    "val_loader = DataLoader(val_data, batch_size=batch_size)"
   ]
  },
  {
   "cell_type": "code",
   "execution_count": 9,
   "id": "3fd676b5",
   "metadata": {},
   "outputs": [],
   "source": [
    "class SRCNN(nn.Module):\n",
    "    def __init__(self):\n",
    "        super(SRCNN, self).__init__()\n",
    "        self.conv1 = nn.Conv2d(1, 32, kernel_size=3, padding=1, padding_mode='replicate')\n",
    "        self.conv2 = nn.Conv2d(32, 64, kernel_size=5, padding=2, padding_mode='replicate')\n",
    "        self.conv3=nn.Conv2d(64, 128, kernel_size=7, padding=3, padding_mode='replicate')\n",
    "        self.conv4=nn.Conv2d(128, 64, kernel_size=7, padding=3, padding_mode='replicate')\n",
    "        self.conv5 = nn.Conv2d(64, 32, kernel_size=5, padding=2, padding_mode='replicate')\n",
    "        self.conv6 = nn.Conv2d(32, 1, kernel_size=3, padding=1, padding_mode='replicate')\n",
    "    def forward(self, x):\n",
    "        \n",
    "        x1 = F.relu(self.conv1(x))\n",
    "#         print(x1.size())\n",
    "        x2 = F.relu(self.conv2(x1))\n",
    "#         print(x2.size())\n",
    "        x3= F.relu(self.conv3(x2))\n",
    "#         print(x3.size())\n",
    "        x4= F.relu(self.conv4(x3))\n",
    "#         print(x4.size())\n",
    "        x5= F.relu(self.conv5(x4+x2))\n",
    "#         print(x5.size())\n",
    "        x6=self.conv6(x5+x1)\n",
    "        return x6"
   ]
  },
  {
   "cell_type": "code",
   "execution_count": 10,
   "id": "3ac65205",
   "metadata": {},
   "outputs": [
    {
     "name": "stdout",
     "output_type": "stream",
     "text": [
      "Computation device:  cuda\n",
      "SRCNN(\n",
      "  (conv1): Conv2d(1, 32, kernel_size=(3, 3), stride=(1, 1), padding=(1, 1), padding_mode=replicate)\n",
      "  (conv2): Conv2d(32, 64, kernel_size=(5, 5), stride=(1, 1), padding=(2, 2), padding_mode=replicate)\n",
      "  (conv3): Conv2d(64, 128, kernel_size=(7, 7), stride=(1, 1), padding=(3, 3), padding_mode=replicate)\n",
      "  (conv4): Conv2d(128, 64, kernel_size=(7, 7), stride=(1, 1), padding=(3, 3), padding_mode=replicate)\n",
      "  (conv5): Conv2d(64, 32, kernel_size=(5, 5), stride=(1, 1), padding=(2, 2), padding_mode=replicate)\n",
      "  (conv6): Conv2d(32, 1, kernel_size=(3, 3), stride=(1, 1), padding=(1, 1), padding_mode=replicate)\n",
      ")\n"
     ]
    }
   ],
   "source": [
    "print('Computation device: ', device)\n",
    "model = SRCNN().to(device)\n",
    "print(model)"
   ]
  },
  {
   "cell_type": "code",
   "execution_count": 11,
   "id": "8deba85f",
   "metadata": {},
   "outputs": [],
   "source": [
    "optimizer = optim.Adam(model.parameters(), lr=lr)\n",
    "# loss function \n",
    "criterion = nn.MSELoss()"
   ]
  },
  {
   "cell_type": "code",
   "execution_count": 12,
   "id": "75ac80f6",
   "metadata": {},
   "outputs": [],
   "source": [
    "def psnr(label, outputs, max_val=1.):\n",
    "    \"\"\"\n",
    "    Compute Peak Signal to Noise Ratio (the higher the better).\n",
    "    PSNR = 20 * log10(MAXp) - 10 * log10(MSE).\n",
    "    https://en.wikipedia.org/wiki/Peak_signal-to-noise_ratio#Definition\n",
    "    First we need to convert torch tensors to NumPy operable.\n",
    "    \"\"\"\n",
    "    label = label.cpu().detach().numpy()\n",
    "    outputs = outputs.cpu().detach().numpy()\n",
    "    img_diff = outputs - label\n",
    "    rmse = math.sqrt(np.mean((img_diff) ** 2))\n",
    "    if rmse == 0:\n",
    "        return 100\n",
    "    else:\n",
    "        PSNR = 20 * math.log10(max_val / rmse)\n",
    "        return PSNR"
   ]
  },
  {
   "cell_type": "code",
   "execution_count": 13,
   "id": "6f1f02cc",
   "metadata": {},
   "outputs": [],
   "source": [
    "def train(model, dataloader):\n",
    "    model.train()\n",
    "    running_loss = 0.0\n",
    "    running_psnr = 0.0\n",
    "    for bi, data in tqdm(enumerate(dataloader), total=int(len(train_data)/dataloader.batch_size)):\n",
    "        image_data = data[0].to(device)\n",
    "        label = data[1].to(device)\n",
    "        \n",
    "        # zero grad the optimizer\n",
    "        optimizer.zero_grad()\n",
    "        outputs = model(image_data)\n",
    "        loss = criterion(outputs, label)\n",
    "\n",
    "        # backpropagation\n",
    "        loss.backward()\n",
    "        # update the parameters\n",
    "        optimizer.step()\n",
    "\n",
    "        # add loss of each item (total items in a batch = batch size)\n",
    "        running_loss += loss.item()\n",
    "        # calculate batch psnr (once every `batch_size` iterations)\n",
    "        batch_psnr =  psnr(label, outputs)\n",
    "        running_psnr += batch_psnr\n",
    "\n",
    "    final_loss = running_loss/len(dataloader.dataset)\n",
    "    final_psnr = running_psnr/int(len(train_data)/dataloader.batch_size)\n",
    "    return final_loss, final_psnr"
   ]
  },
  {
   "cell_type": "code",
   "execution_count": 14,
   "id": "95b9e7a5",
   "metadata": {},
   "outputs": [],
   "source": [
    "def validate(model, dataloader, epoch):\n",
    "    model.eval()\n",
    "    running_loss = 0.0\n",
    "    running_psnr = 0.0\n",
    "    with torch.no_grad():\n",
    "        for bi, data in tqdm(enumerate(dataloader), total=int(len(val_data)/dataloader.batch_size)):\n",
    "            image_data = data[0].to(device)\n",
    "            label = data[1].to(device)\n",
    "            \n",
    "            outputs = model(image_data)\n",
    "            loss = criterion(outputs, label)\n",
    "            # add loss of each item (total items in a batch = batch size) \n",
    "            running_loss += loss.item()\n",
    "            # calculate batch psnr (once every `batch_size` iterations)\n",
    "            batch_psnr = psnr(label, outputs)\n",
    "            running_psnr += batch_psnr\n",
    "        outputs = outputs.cpu()\n",
    "        save_image(outputs, f\"val_outputs/val_sr{epoch}.png\")\n",
    "    final_loss = running_loss/len(dataloader.dataset)\n",
    "    final_psnr = running_psnr/int(len(val_data)/dataloader.batch_size)\n",
    "    return final_loss, final_psnr"
   ]
  },
  {
   "cell_type": "code",
   "execution_count": 15,
   "id": "78b0fc70",
   "metadata": {
    "scrolled": true
   },
   "outputs": [
    {
     "name": "stdout",
     "output_type": "stream",
     "text": [
      "Epoch 1 of 500\n"
     ]
    },
    {
     "name": "stderr",
     "output_type": "stream",
     "text": [
      "256it [00:18, 13.85it/s]                                                                                               \n",
      "86it [00:01, 45.78it/s]                                                                                                \n"
     ]
    },
    {
     "name": "stdout",
     "output_type": "stream",
     "text": [
      "Train PSNR: 24.499\n",
      "Val PSNR: 27.544\n",
      "Epoch 2 of 500\n"
     ]
    },
    {
     "name": "stderr",
     "output_type": "stream",
     "text": [
      "256it [00:13, 19.25it/s]                                                                                               \n",
      "86it [00:01, 45.71it/s]                                                                                                \n"
     ]
    },
    {
     "name": "stdout",
     "output_type": "stream",
     "text": [
      "Train PSNR: 27.783\n",
      "Val PSNR: 28.088\n",
      "Epoch 3 of 500\n"
     ]
    },
    {
     "name": "stderr",
     "output_type": "stream",
     "text": [
      "256it [00:13, 19.22it/s]                                                                                               \n",
      "86it [00:01, 45.69it/s]                                                                                                \n"
     ]
    },
    {
     "name": "stdout",
     "output_type": "stream",
     "text": [
      "Train PSNR: 28.071\n",
      "Val PSNR: 28.306\n",
      "Epoch 4 of 500\n"
     ]
    },
    {
     "name": "stderr",
     "output_type": "stream",
     "text": [
      "256it [00:13, 19.20it/s]                                                                                               \n",
      "86it [00:01, 45.57it/s]                                                                                                \n"
     ]
    },
    {
     "name": "stdout",
     "output_type": "stream",
     "text": [
      "Train PSNR: 28.192\n",
      "Val PSNR: 28.405\n",
      "Epoch 5 of 500\n"
     ]
    },
    {
     "name": "stderr",
     "output_type": "stream",
     "text": [
      "256it [00:13, 19.19it/s]                                                                                               \n",
      "86it [00:01, 45.41it/s]                                                                                                \n"
     ]
    },
    {
     "name": "stdout",
     "output_type": "stream",
     "text": [
      "Train PSNR: 28.270\n",
      "Val PSNR: 28.469\n",
      "Epoch 6 of 500\n"
     ]
    },
    {
     "name": "stderr",
     "output_type": "stream",
     "text": [
      "256it [00:13, 19.20it/s]                                                                                               \n",
      "86it [00:01, 45.49it/s]                                                                                                \n"
     ]
    },
    {
     "name": "stdout",
     "output_type": "stream",
     "text": [
      "Train PSNR: 28.315\n",
      "Val PSNR: 28.512\n",
      "Epoch 7 of 500\n"
     ]
    },
    {
     "name": "stderr",
     "output_type": "stream",
     "text": [
      "256it [00:13, 19.19it/s]                                                                                               \n",
      "86it [00:01, 45.43it/s]                                                                                                \n"
     ]
    },
    {
     "name": "stdout",
     "output_type": "stream",
     "text": [
      "Train PSNR: 28.350\n",
      "Val PSNR: 28.502\n",
      "Epoch 8 of 500\n"
     ]
    },
    {
     "name": "stderr",
     "output_type": "stream",
     "text": [
      "256it [00:13, 19.19it/s]                                                                                               \n",
      "86it [00:01, 45.49it/s]                                                                                                \n"
     ]
    },
    {
     "name": "stdout",
     "output_type": "stream",
     "text": [
      "Train PSNR: 28.378\n",
      "Val PSNR: 28.538\n",
      "Epoch 9 of 500\n"
     ]
    },
    {
     "name": "stderr",
     "output_type": "stream",
     "text": [
      "256it [00:13, 19.17it/s]                                                                                               \n",
      "86it [00:01, 45.38it/s]                                                                                                \n"
     ]
    },
    {
     "name": "stdout",
     "output_type": "stream",
     "text": [
      "Train PSNR: 28.264\n",
      "Val PSNR: 28.593\n",
      "Epoch 10 of 500\n"
     ]
    },
    {
     "name": "stderr",
     "output_type": "stream",
     "text": [
      "256it [00:13, 19.19it/s]                                                                                               \n",
      "86it [00:01, 45.36it/s]                                                                                                \n"
     ]
    },
    {
     "name": "stdout",
     "output_type": "stream",
     "text": [
      "Train PSNR: 28.460\n",
      "Val PSNR: 28.629\n",
      "Epoch 11 of 500\n"
     ]
    },
    {
     "name": "stderr",
     "output_type": "stream",
     "text": [
      "256it [00:13, 19.14it/s]                                                                                               \n",
      "86it [00:01, 45.59it/s]                                                                                                \n"
     ]
    },
    {
     "name": "stdout",
     "output_type": "stream",
     "text": [
      "Train PSNR: 28.486\n",
      "Val PSNR: 28.654\n",
      "Epoch 12 of 500\n"
     ]
    },
    {
     "name": "stderr",
     "output_type": "stream",
     "text": [
      "256it [00:13, 19.15it/s]                                                                                               \n",
      "86it [00:01, 45.50it/s]                                                                                                \n"
     ]
    },
    {
     "name": "stdout",
     "output_type": "stream",
     "text": [
      "Train PSNR: 28.487\n",
      "Val PSNR: 28.649\n",
      "Epoch 13 of 500\n"
     ]
    },
    {
     "name": "stderr",
     "output_type": "stream",
     "text": [
      "256it [00:13, 19.15it/s]                                                                                               \n",
      "86it [00:01, 45.31it/s]                                                                                                \n"
     ]
    },
    {
     "name": "stdout",
     "output_type": "stream",
     "text": [
      "Train PSNR: 28.498\n",
      "Val PSNR: 28.695\n",
      "Epoch 14 of 500\n"
     ]
    },
    {
     "name": "stderr",
     "output_type": "stream",
     "text": [
      "256it [00:13, 19.11it/s]                                                                                               \n",
      "86it [00:01, 44.98it/s]                                                                                                \n"
     ]
    },
    {
     "name": "stdout",
     "output_type": "stream",
     "text": [
      "Train PSNR: 28.522\n",
      "Val PSNR: 28.656\n",
      "Epoch 15 of 500\n"
     ]
    },
    {
     "name": "stderr",
     "output_type": "stream",
     "text": [
      "256it [00:13, 18.98it/s]                                                                                               \n",
      "86it [00:01, 45.45it/s]                                                                                                \n"
     ]
    },
    {
     "name": "stdout",
     "output_type": "stream",
     "text": [
      "Train PSNR: 28.539\n",
      "Val PSNR: 28.741\n",
      "Epoch 16 of 500\n"
     ]
    },
    {
     "name": "stderr",
     "output_type": "stream",
     "text": [
      "256it [00:13, 19.06it/s]                                                                                               \n",
      "86it [00:01, 45.09it/s]                                                                                                \n"
     ]
    },
    {
     "name": "stdout",
     "output_type": "stream",
     "text": [
      "Train PSNR: 28.564\n",
      "Val PSNR: 28.721\n",
      "Epoch 17 of 500\n"
     ]
    },
    {
     "name": "stderr",
     "output_type": "stream",
     "text": [
      "256it [00:13, 19.06it/s]                                                                                               \n",
      "86it [00:01, 45.13it/s]                                                                                                \n"
     ]
    },
    {
     "name": "stdout",
     "output_type": "stream",
     "text": [
      "Train PSNR: 28.586\n",
      "Val PSNR: 28.768\n",
      "Epoch 18 of 500\n"
     ]
    },
    {
     "name": "stderr",
     "output_type": "stream",
     "text": [
      "256it [00:13, 19.07it/s]                                                                                               \n",
      "86it [00:01, 44.97it/s]                                                                                                \n"
     ]
    },
    {
     "name": "stdout",
     "output_type": "stream",
     "text": [
      "Train PSNR: 28.610\n",
      "Val PSNR: 28.804\n",
      "Epoch 19 of 500\n"
     ]
    },
    {
     "name": "stderr",
     "output_type": "stream",
     "text": [
      "256it [00:13, 19.03it/s]                                                                                               \n",
      "86it [00:01, 44.39it/s]                                                                                                \n"
     ]
    },
    {
     "name": "stdout",
     "output_type": "stream",
     "text": [
      "Train PSNR: 28.645\n",
      "Val PSNR: 28.810\n",
      "Epoch 20 of 500\n"
     ]
    },
    {
     "name": "stderr",
     "output_type": "stream",
     "text": [
      "256it [00:13, 19.03it/s]                                                                                               \n",
      "86it [00:01, 45.19it/s]                                                                                                \n"
     ]
    },
    {
     "name": "stdout",
     "output_type": "stream",
     "text": [
      "Train PSNR: 28.673\n",
      "Val PSNR: 28.869\n",
      "Epoch 21 of 500\n"
     ]
    },
    {
     "name": "stderr",
     "output_type": "stream",
     "text": [
      "256it [00:13, 19.06it/s]                                                                                               \n",
      "86it [00:01, 45.02it/s]                                                                                                \n"
     ]
    },
    {
     "name": "stdout",
     "output_type": "stream",
     "text": [
      "Train PSNR: 28.698\n",
      "Val PSNR: 28.887\n",
      "Epoch 22 of 500\n"
     ]
    },
    {
     "name": "stderr",
     "output_type": "stream",
     "text": [
      "256it [00:13, 19.07it/s]                                                                                               \n",
      "86it [00:01, 44.91it/s]                                                                                                \n"
     ]
    },
    {
     "name": "stdout",
     "output_type": "stream",
     "text": [
      "Train PSNR: 28.734\n",
      "Val PSNR: 28.932\n",
      "Epoch 23 of 500\n"
     ]
    },
    {
     "name": "stderr",
     "output_type": "stream",
     "text": [
      "256it [00:13, 19.05it/s]                                                                                               \n",
      "86it [00:01, 45.04it/s]                                                                                                \n"
     ]
    },
    {
     "name": "stdout",
     "output_type": "stream",
     "text": [
      "Train PSNR: 28.759\n",
      "Val PSNR: 28.959\n",
      "Epoch 24 of 500\n"
     ]
    },
    {
     "name": "stderr",
     "output_type": "stream",
     "text": [
      "256it [00:13, 19.05it/s]                                                                                               \n",
      "86it [00:01, 45.01it/s]                                                                                                \n"
     ]
    },
    {
     "name": "stdout",
     "output_type": "stream",
     "text": [
      "Train PSNR: 28.788\n",
      "Val PSNR: 28.987\n",
      "Epoch 25 of 500\n"
     ]
    },
    {
     "name": "stderr",
     "output_type": "stream",
     "text": [
      "256it [00:13, 19.04it/s]                                                                                               \n",
      "86it [00:01, 45.04it/s]                                                                                                \n"
     ]
    },
    {
     "name": "stdout",
     "output_type": "stream",
     "text": [
      "Train PSNR: 28.816\n",
      "Val PSNR: 29.020\n",
      "Epoch 26 of 500\n"
     ]
    },
    {
     "name": "stderr",
     "output_type": "stream",
     "text": [
      "256it [00:13, 18.89it/s]                                                                                               \n",
      "86it [00:01, 44.44it/s]                                                                                                \n"
     ]
    },
    {
     "name": "stdout",
     "output_type": "stream",
     "text": [
      "Train PSNR: 28.848\n",
      "Val PSNR: 29.039\n",
      "Epoch 27 of 500\n"
     ]
    },
    {
     "name": "stderr",
     "output_type": "stream",
     "text": [
      "256it [00:13, 18.72it/s]                                                                                               \n",
      "86it [00:01, 44.14it/s]                                                                                                \n"
     ]
    },
    {
     "name": "stdout",
     "output_type": "stream",
     "text": [
      "Train PSNR: 28.867\n",
      "Val PSNR: 29.075\n",
      "Epoch 28 of 500\n"
     ]
    },
    {
     "name": "stderr",
     "output_type": "stream",
     "text": [
      "256it [00:13, 18.84it/s]                                                                                               \n",
      "86it [00:01, 43.78it/s]                                                                                                \n"
     ]
    },
    {
     "name": "stdout",
     "output_type": "stream",
     "text": [
      "Train PSNR: 28.896\n",
      "Val PSNR: 29.096\n",
      "Epoch 29 of 500\n"
     ]
    },
    {
     "name": "stderr",
     "output_type": "stream",
     "text": [
      "256it [00:13, 18.71it/s]                                                                                               \n",
      "86it [00:01, 43.65it/s]                                                                                                \n"
     ]
    },
    {
     "name": "stdout",
     "output_type": "stream",
     "text": [
      "Train PSNR: 28.918\n",
      "Val PSNR: 29.116\n",
      "Epoch 30 of 500\n"
     ]
    },
    {
     "name": "stderr",
     "output_type": "stream",
     "text": [
      "256it [00:13, 18.71it/s]                                                                                               \n",
      "86it [00:01, 43.66it/s]                                                                                                \n"
     ]
    },
    {
     "name": "stdout",
     "output_type": "stream",
     "text": [
      "Train PSNR: 28.929\n",
      "Val PSNR: 29.138\n",
      "Epoch 31 of 500\n"
     ]
    },
    {
     "name": "stderr",
     "output_type": "stream",
     "text": [
      "256it [00:13, 18.70it/s]                                                                                               \n",
      "86it [00:01, 43.65it/s]                                                                                                \n"
     ]
    },
    {
     "name": "stdout",
     "output_type": "stream",
     "text": [
      "Train PSNR: 28.969\n",
      "Val PSNR: 29.161\n",
      "Epoch 32 of 500\n"
     ]
    },
    {
     "name": "stderr",
     "output_type": "stream",
     "text": [
      "256it [00:13, 18.71it/s]                                                                                               \n",
      "86it [00:01, 43.67it/s]                                                                                                \n"
     ]
    },
    {
     "name": "stdout",
     "output_type": "stream",
     "text": [
      "Train PSNR: 28.979\n",
      "Val PSNR: 29.171\n",
      "Epoch 33 of 500\n"
     ]
    },
    {
     "name": "stderr",
     "output_type": "stream",
     "text": [
      "256it [00:13, 18.70it/s]                                                                                               \n",
      "86it [00:01, 43.70it/s]                                                                                                \n"
     ]
    },
    {
     "name": "stdout",
     "output_type": "stream",
     "text": [
      "Train PSNR: 29.000\n",
      "Val PSNR: 29.193\n",
      "Epoch 34 of 500\n"
     ]
    },
    {
     "name": "stderr",
     "output_type": "stream",
     "text": [
      "256it [00:13, 18.72it/s]                                                                                               \n",
      "86it [00:01, 43.66it/s]                                                                                                \n"
     ]
    },
    {
     "name": "stdout",
     "output_type": "stream",
     "text": [
      "Train PSNR: 29.015\n",
      "Val PSNR: 29.203\n",
      "Epoch 35 of 500\n"
     ]
    },
    {
     "name": "stderr",
     "output_type": "stream",
     "text": [
      "256it [00:13, 18.72it/s]                                                                                               \n",
      "86it [00:01, 43.59it/s]                                                                                                \n"
     ]
    },
    {
     "name": "stdout",
     "output_type": "stream",
     "text": [
      "Train PSNR: 29.040\n",
      "Val PSNR: 29.174\n",
      "Epoch 36 of 500\n"
     ]
    },
    {
     "name": "stderr",
     "output_type": "stream",
     "text": [
      "256it [00:13, 18.71it/s]                                                                                               \n",
      "86it [00:01, 43.66it/s]                                                                                                \n"
     ]
    },
    {
     "name": "stdout",
     "output_type": "stream",
     "text": [
      "Train PSNR: 29.047\n",
      "Val PSNR: 29.229\n",
      "Epoch 37 of 500\n"
     ]
    },
    {
     "name": "stderr",
     "output_type": "stream",
     "text": [
      "256it [00:13, 18.72it/s]                                                                                               \n",
      "86it [00:01, 43.69it/s]                                                                                                \n"
     ]
    },
    {
     "name": "stdout",
     "output_type": "stream",
     "text": [
      "Train PSNR: 29.062\n",
      "Val PSNR: 29.229\n",
      "Epoch 38 of 500\n"
     ]
    },
    {
     "name": "stderr",
     "output_type": "stream",
     "text": [
      "256it [00:13, 18.68it/s]                                                                                               \n",
      "86it [00:02, 42.73it/s]                                                                                                \n"
     ]
    },
    {
     "name": "stdout",
     "output_type": "stream",
     "text": [
      "Train PSNR: 29.080\n",
      "Val PSNR: 29.213\n",
      "Epoch 39 of 500\n"
     ]
    },
    {
     "name": "stderr",
     "output_type": "stream",
     "text": [
      "256it [00:16, 15.78it/s]                                                                                               \n",
      "86it [00:03, 25.15it/s]                                                                                                \n"
     ]
    },
    {
     "name": "stdout",
     "output_type": "stream",
     "text": [
      "Train PSNR: 29.092\n",
      "Val PSNR: 29.214\n",
      "Epoch 40 of 500\n"
     ]
    },
    {
     "name": "stderr",
     "output_type": "stream",
     "text": [
      "256it [00:26,  9.72it/s]                                                                                               \n",
      "86it [00:03, 25.26it/s]                                                                                                \n"
     ]
    },
    {
     "name": "stdout",
     "output_type": "stream",
     "text": [
      "Train PSNR: 29.109\n",
      "Val PSNR: 29.275\n",
      "Epoch 41 of 500\n"
     ]
    },
    {
     "name": "stderr",
     "output_type": "stream",
     "text": [
      "256it [00:25, 10.06it/s]                                                                                               \n",
      "86it [00:03, 25.48it/s]                                                                                                \n"
     ]
    },
    {
     "name": "stdout",
     "output_type": "stream",
     "text": [
      "Train PSNR: 29.121\n",
      "Val PSNR: 29.299\n",
      "Epoch 42 of 500\n"
     ]
    },
    {
     "name": "stderr",
     "output_type": "stream",
     "text": [
      "256it [00:25, 10.12it/s]                                                                                               \n",
      "86it [00:03, 25.63it/s]                                                                                                \n"
     ]
    },
    {
     "name": "stdout",
     "output_type": "stream",
     "text": [
      "Train PSNR: 29.132\n",
      "Val PSNR: 29.273\n",
      "Epoch 43 of 500\n"
     ]
    },
    {
     "name": "stderr",
     "output_type": "stream",
     "text": [
      "256it [00:24, 10.36it/s]                                                                                               \n",
      "86it [00:03, 25.58it/s]                                                                                                \n"
     ]
    },
    {
     "name": "stdout",
     "output_type": "stream",
     "text": [
      "Train PSNR: 29.151\n",
      "Val PSNR: 29.318\n",
      "Epoch 44 of 500\n"
     ]
    },
    {
     "name": "stderr",
     "output_type": "stream",
     "text": [
      "256it [00:24, 10.42it/s]                                                                                               \n",
      "86it [00:03, 26.02it/s]                                                                                                \n"
     ]
    },
    {
     "name": "stdout",
     "output_type": "stream",
     "text": [
      "Train PSNR: 29.159\n",
      "Val PSNR: 29.334\n",
      "Epoch 45 of 500\n"
     ]
    },
    {
     "name": "stderr",
     "output_type": "stream",
     "text": [
      "256it [00:24, 10.53it/s]                                                                                               \n",
      "86it [00:03, 26.38it/s]                                                                                                \n"
     ]
    },
    {
     "name": "stdout",
     "output_type": "stream",
     "text": [
      "Train PSNR: 29.172\n",
      "Val PSNR: 29.346\n",
      "Epoch 46 of 500\n"
     ]
    },
    {
     "name": "stderr",
     "output_type": "stream",
     "text": [
      "256it [00:24, 10.45it/s]                                                                                               \n",
      "86it [00:03, 26.30it/s]                                                                                                \n"
     ]
    },
    {
     "name": "stdout",
     "output_type": "stream",
     "text": [
      "Train PSNR: 29.182\n",
      "Val PSNR: 29.350\n",
      "Epoch 47 of 500\n"
     ]
    },
    {
     "name": "stderr",
     "output_type": "stream",
     "text": [
      "256it [00:24, 10.50it/s]                                                                                               \n",
      "86it [00:03, 26.77it/s]                                                                                                \n"
     ]
    },
    {
     "name": "stdout",
     "output_type": "stream",
     "text": [
      "Train PSNR: 29.195\n",
      "Val PSNR: 29.362\n",
      "Epoch 48 of 500\n"
     ]
    },
    {
     "name": "stderr",
     "output_type": "stream",
     "text": [
      "256it [00:24, 10.48it/s]                                                                                               \n",
      "86it [00:03, 26.95it/s]                                                                                                \n"
     ]
    },
    {
     "name": "stdout",
     "output_type": "stream",
     "text": [
      "Train PSNR: 29.205\n",
      "Val PSNR: 29.375\n",
      "Epoch 49 of 500\n"
     ]
    },
    {
     "name": "stderr",
     "output_type": "stream",
     "text": [
      "256it [00:24, 10.54it/s]                                                                                               \n",
      "86it [00:03, 26.99it/s]                                                                                                \n"
     ]
    },
    {
     "name": "stdout",
     "output_type": "stream",
     "text": [
      "Train PSNR: 29.216\n",
      "Val PSNR: 29.384\n",
      "Epoch 50 of 500\n"
     ]
    },
    {
     "name": "stderr",
     "output_type": "stream",
     "text": [
      "256it [00:24, 10.61it/s]                                                                                               \n",
      "86it [00:03, 27.63it/s]                                                                                                \n"
     ]
    },
    {
     "name": "stdout",
     "output_type": "stream",
     "text": [
      "Train PSNR: 29.228\n",
      "Val PSNR: 29.394\n",
      "Epoch 51 of 500\n"
     ]
    },
    {
     "name": "stderr",
     "output_type": "stream",
     "text": [
      "256it [00:24, 10.62it/s]                                                                                               \n",
      "86it [00:03, 27.05it/s]                                                                                                \n"
     ]
    },
    {
     "name": "stdout",
     "output_type": "stream",
     "text": [
      "Train PSNR: 29.238\n",
      "Val PSNR: 29.396\n",
      "Epoch 52 of 500\n"
     ]
    },
    {
     "name": "stderr",
     "output_type": "stream",
     "text": [
      "256it [00:23, 10.68it/s]                                                                                               \n",
      "86it [00:03, 27.43it/s]                                                                                                \n"
     ]
    },
    {
     "name": "stdout",
     "output_type": "stream",
     "text": [
      "Train PSNR: 29.250\n",
      "Val PSNR: 29.402\n",
      "Epoch 53 of 500\n"
     ]
    },
    {
     "name": "stderr",
     "output_type": "stream",
     "text": [
      "256it [00:23, 10.68it/s]                                                                                               \n",
      "86it [00:03, 27.61it/s]                                                                                                \n"
     ]
    },
    {
     "name": "stdout",
     "output_type": "stream",
     "text": [
      "Train PSNR: 29.259\n",
      "Val PSNR: 29.409\n",
      "Epoch 54 of 500\n"
     ]
    },
    {
     "name": "stderr",
     "output_type": "stream",
     "text": [
      "256it [00:23, 10.71it/s]                                                                                               \n",
      "86it [00:03, 27.16it/s]                                                                                                \n"
     ]
    },
    {
     "name": "stdout",
     "output_type": "stream",
     "text": [
      "Train PSNR: 29.271\n",
      "Val PSNR: 29.416\n",
      "Epoch 55 of 500\n"
     ]
    },
    {
     "name": "stderr",
     "output_type": "stream",
     "text": [
      "256it [00:23, 10.71it/s]                                                                                               \n",
      "86it [00:03, 27.56it/s]                                                                                                \n"
     ]
    },
    {
     "name": "stdout",
     "output_type": "stream",
     "text": [
      "Train PSNR: 29.280\n",
      "Val PSNR: 29.426\n",
      "Epoch 56 of 500\n"
     ]
    },
    {
     "name": "stderr",
     "output_type": "stream",
     "text": [
      "256it [00:23, 10.68it/s]                                                                                               \n",
      "86it [00:03, 27.49it/s]                                                                                                \n"
     ]
    },
    {
     "name": "stdout",
     "output_type": "stream",
     "text": [
      "Train PSNR: 29.289\n",
      "Val PSNR: 29.358\n",
      "Epoch 57 of 500\n"
     ]
    },
    {
     "name": "stderr",
     "output_type": "stream",
     "text": [
      "256it [00:23, 10.71it/s]                                                                                               \n",
      "86it [00:03, 27.36it/s]                                                                                                \n"
     ]
    },
    {
     "name": "stdout",
     "output_type": "stream",
     "text": [
      "Train PSNR: 29.297\n",
      "Val PSNR: 29.439\n",
      "Epoch 58 of 500\n"
     ]
    },
    {
     "name": "stderr",
     "output_type": "stream",
     "text": [
      "256it [00:23, 10.67it/s]                                                                                               \n",
      "86it [00:03, 27.37it/s]                                                                                                \n"
     ]
    },
    {
     "name": "stdout",
     "output_type": "stream",
     "text": [
      "Train PSNR: 29.311\n",
      "Val PSNR: 29.429\n",
      "Epoch 59 of 500\n"
     ]
    },
    {
     "name": "stderr",
     "output_type": "stream",
     "text": [
      "256it [00:23, 10.72it/s]                                                                                               \n",
      "86it [00:03, 27.43it/s]                                                                                                \n"
     ]
    },
    {
     "name": "stdout",
     "output_type": "stream",
     "text": [
      "Train PSNR: 29.317\n",
      "Val PSNR: 29.449\n",
      "Epoch 60 of 500\n"
     ]
    },
    {
     "name": "stderr",
     "output_type": "stream",
     "text": [
      "256it [00:23, 10.77it/s]                                                                                               \n",
      "86it [00:03, 27.63it/s]                                                                                                \n"
     ]
    },
    {
     "name": "stdout",
     "output_type": "stream",
     "text": [
      "Train PSNR: 29.326\n",
      "Val PSNR: 29.454\n",
      "Epoch 61 of 500\n"
     ]
    },
    {
     "name": "stderr",
     "output_type": "stream",
     "text": [
      "256it [00:23, 10.77it/s]                                                                                               \n",
      "86it [00:03, 27.81it/s]                                                                                                \n"
     ]
    },
    {
     "name": "stdout",
     "output_type": "stream",
     "text": [
      "Train PSNR: 29.335\n",
      "Val PSNR: 29.462\n",
      "Epoch 62 of 500\n"
     ]
    },
    {
     "name": "stderr",
     "output_type": "stream",
     "text": [
      "256it [00:23, 10.77it/s]                                                                                               \n",
      "86it [00:03, 27.78it/s]                                                                                                \n"
     ]
    },
    {
     "name": "stdout",
     "output_type": "stream",
     "text": [
      "Train PSNR: 29.342\n",
      "Val PSNR: 29.465\n",
      "Epoch 63 of 500\n"
     ]
    },
    {
     "name": "stderr",
     "output_type": "stream",
     "text": [
      "256it [00:23, 10.78it/s]                                                                                               \n",
      "86it [00:03, 27.60it/s]                                                                                                \n"
     ]
    },
    {
     "name": "stdout",
     "output_type": "stream",
     "text": [
      "Train PSNR: 29.347\n",
      "Val PSNR: 29.459\n",
      "Epoch 64 of 500\n"
     ]
    },
    {
     "name": "stderr",
     "output_type": "stream",
     "text": [
      "256it [00:23, 10.76it/s]                                                                                               \n",
      "86it [00:03, 27.70it/s]                                                                                                \n"
     ]
    },
    {
     "name": "stdout",
     "output_type": "stream",
     "text": [
      "Train PSNR: 29.361\n",
      "Val PSNR: 29.461\n",
      "Epoch 65 of 500\n"
     ]
    },
    {
     "name": "stderr",
     "output_type": "stream",
     "text": [
      "256it [00:23, 10.78it/s]                                                                                               \n",
      "86it [00:03, 27.66it/s]                                                                                                \n"
     ]
    },
    {
     "name": "stdout",
     "output_type": "stream",
     "text": [
      "Train PSNR: 29.369\n",
      "Val PSNR: 29.467\n",
      "Epoch 66 of 500\n"
     ]
    },
    {
     "name": "stderr",
     "output_type": "stream",
     "text": [
      "256it [00:23, 10.79it/s]                                                                                               \n",
      "86it [00:03, 27.58it/s]                                                                                                \n"
     ]
    },
    {
     "name": "stdout",
     "output_type": "stream",
     "text": [
      "Train PSNR: 29.377\n",
      "Val PSNR: 29.475\n",
      "Epoch 67 of 500\n"
     ]
    },
    {
     "name": "stderr",
     "output_type": "stream",
     "text": [
      "256it [00:23, 10.81it/s]                                                                                               \n",
      "86it [00:03, 27.68it/s]                                                                                                \n"
     ]
    },
    {
     "name": "stdout",
     "output_type": "stream",
     "text": [
      "Train PSNR: 29.385\n",
      "Val PSNR: 29.484\n",
      "Epoch 68 of 500\n"
     ]
    },
    {
     "name": "stderr",
     "output_type": "stream",
     "text": [
      "256it [00:23, 10.75it/s]                                                                                               \n",
      "86it [00:03, 27.37it/s]                                                                                                \n"
     ]
    },
    {
     "name": "stdout",
     "output_type": "stream",
     "text": [
      "Train PSNR: 29.393\n",
      "Val PSNR: 29.485\n",
      "Epoch 69 of 500\n"
     ]
    },
    {
     "name": "stderr",
     "output_type": "stream",
     "text": [
      "256it [00:23, 10.79it/s]                                                                                               \n",
      "86it [00:03, 27.85it/s]                                                                                                \n"
     ]
    },
    {
     "name": "stdout",
     "output_type": "stream",
     "text": [
      "Train PSNR: 29.401\n",
      "Val PSNR: 29.483\n",
      "Epoch 70 of 500\n"
     ]
    },
    {
     "name": "stderr",
     "output_type": "stream",
     "text": [
      "256it [00:23, 10.78it/s]                                                                                               \n",
      "86it [00:03, 27.77it/s]                                                                                                \n"
     ]
    },
    {
     "name": "stdout",
     "output_type": "stream",
     "text": [
      "Train PSNR: 29.408\n",
      "Val PSNR: 29.484\n",
      "Epoch 71 of 500\n"
     ]
    },
    {
     "name": "stderr",
     "output_type": "stream",
     "text": [
      "256it [00:23, 10.80it/s]                                                                                               \n",
      "86it [00:03, 27.72it/s]                                                                                                \n"
     ]
    },
    {
     "name": "stdout",
     "output_type": "stream",
     "text": [
      "Train PSNR: 29.416\n",
      "Val PSNR: 29.498\n",
      "Epoch 72 of 500\n"
     ]
    },
    {
     "name": "stderr",
     "output_type": "stream",
     "text": [
      "256it [00:23, 10.78it/s]                                                                                               \n",
      "86it [00:03, 27.95it/s]                                                                                                \n"
     ]
    },
    {
     "name": "stdout",
     "output_type": "stream",
     "text": [
      "Train PSNR: 29.424\n",
      "Val PSNR: 29.500\n",
      "Epoch 73 of 500\n"
     ]
    },
    {
     "name": "stderr",
     "output_type": "stream",
     "text": [
      "256it [00:23, 10.84it/s]                                                                                               \n",
      "86it [00:03, 27.92it/s]                                                                                                \n"
     ]
    },
    {
     "name": "stdout",
     "output_type": "stream",
     "text": [
      "Train PSNR: 29.432\n",
      "Val PSNR: 29.504\n",
      "Epoch 74 of 500\n"
     ]
    },
    {
     "name": "stderr",
     "output_type": "stream",
     "text": [
      "256it [00:23, 10.82it/s]                                                                                               \n",
      "86it [00:03, 27.70it/s]                                                                                                \n"
     ]
    },
    {
     "name": "stdout",
     "output_type": "stream",
     "text": [
      "Train PSNR: 29.439\n",
      "Val PSNR: 29.511\n",
      "Epoch 75 of 500\n"
     ]
    },
    {
     "name": "stderr",
     "output_type": "stream",
     "text": [
      "256it [00:23, 10.82it/s]                                                                                               \n",
      "86it [00:03, 27.85it/s]                                                                                                \n"
     ]
    },
    {
     "name": "stdout",
     "output_type": "stream",
     "text": [
      "Train PSNR: 29.446\n",
      "Val PSNR: 29.513\n",
      "Epoch 76 of 500\n"
     ]
    },
    {
     "name": "stderr",
     "output_type": "stream",
     "text": [
      "256it [00:23, 10.87it/s]                                                                                               \n",
      "86it [00:03, 28.05it/s]                                                                                                \n"
     ]
    },
    {
     "name": "stdout",
     "output_type": "stream",
     "text": [
      "Train PSNR: 29.454\n",
      "Val PSNR: 29.528\n",
      "Epoch 77 of 500\n"
     ]
    },
    {
     "name": "stderr",
     "output_type": "stream",
     "text": [
      "256it [00:23, 10.81it/s]                                                                                               \n",
      "86it [00:03, 27.89it/s]                                                                                                \n"
     ]
    },
    {
     "name": "stdout",
     "output_type": "stream",
     "text": [
      "Train PSNR: 29.461\n",
      "Val PSNR: 29.524\n",
      "Epoch 78 of 500\n"
     ]
    },
    {
     "name": "stderr",
     "output_type": "stream",
     "text": [
      "256it [00:23, 10.85it/s]                                                                                               \n",
      "86it [00:03, 27.87it/s]                                                                                                \n"
     ]
    },
    {
     "name": "stdout",
     "output_type": "stream",
     "text": [
      "Train PSNR: 29.468\n",
      "Val PSNR: 29.528\n",
      "Epoch 79 of 500\n"
     ]
    },
    {
     "name": "stderr",
     "output_type": "stream",
     "text": [
      "256it [00:23, 10.86it/s]                                                                                               \n",
      "86it [00:03, 27.87it/s]                                                                                                \n"
     ]
    },
    {
     "name": "stdout",
     "output_type": "stream",
     "text": [
      "Train PSNR: 29.474\n",
      "Val PSNR: 29.535\n",
      "Epoch 80 of 500\n"
     ]
    },
    {
     "name": "stderr",
     "output_type": "stream",
     "text": [
      "256it [00:23, 10.75it/s]                                                                                               \n",
      "86it [00:03, 27.90it/s]                                                                                                \n"
     ]
    },
    {
     "name": "stdout",
     "output_type": "stream",
     "text": [
      "Train PSNR: 29.481\n",
      "Val PSNR: 29.544\n",
      "Epoch 81 of 500\n"
     ]
    },
    {
     "name": "stderr",
     "output_type": "stream",
     "text": [
      "256it [00:23, 10.80it/s]                                                                                               \n",
      "86it [00:03, 27.95it/s]                                                                                                \n"
     ]
    },
    {
     "name": "stdout",
     "output_type": "stream",
     "text": [
      "Train PSNR: 29.488\n",
      "Val PSNR: 29.549\n",
      "Epoch 82 of 500\n"
     ]
    },
    {
     "name": "stderr",
     "output_type": "stream",
     "text": [
      "256it [00:23, 10.81it/s]                                                                                               \n",
      "86it [00:03, 28.04it/s]                                                                                                \n"
     ]
    },
    {
     "name": "stdout",
     "output_type": "stream",
     "text": [
      "Train PSNR: 29.495\n",
      "Val PSNR: 29.553\n",
      "Epoch 83 of 500\n"
     ]
    },
    {
     "name": "stderr",
     "output_type": "stream",
     "text": [
      "256it [00:23, 10.81it/s]                                                                                               \n",
      "86it [00:03, 27.95it/s]                                                                                                \n"
     ]
    },
    {
     "name": "stdout",
     "output_type": "stream",
     "text": [
      "Train PSNR: 29.501\n",
      "Val PSNR: 29.564\n",
      "Epoch 84 of 500\n"
     ]
    },
    {
     "name": "stderr",
     "output_type": "stream",
     "text": [
      "256it [00:23, 10.83it/s]                                                                                               \n",
      "86it [00:03, 27.69it/s]                                                                                                \n"
     ]
    },
    {
     "name": "stdout",
     "output_type": "stream",
     "text": [
      "Train PSNR: 29.509\n",
      "Val PSNR: 29.562\n",
      "Epoch 85 of 500\n"
     ]
    },
    {
     "name": "stderr",
     "output_type": "stream",
     "text": [
      "256it [00:23, 10.80it/s]                                                                                               \n",
      "86it [00:03, 27.94it/s]                                                                                                \n"
     ]
    },
    {
     "name": "stdout",
     "output_type": "stream",
     "text": [
      "Train PSNR: 29.514\n",
      "Val PSNR: 29.574\n",
      "Epoch 86 of 500\n"
     ]
    },
    {
     "name": "stderr",
     "output_type": "stream",
     "text": [
      "256it [00:23, 10.81it/s]                                                                                               \n",
      "86it [00:03, 27.76it/s]                                                                                                \n"
     ]
    },
    {
     "name": "stdout",
     "output_type": "stream",
     "text": [
      "Train PSNR: 29.521\n",
      "Val PSNR: 29.571\n",
      "Epoch 87 of 500\n"
     ]
    },
    {
     "name": "stderr",
     "output_type": "stream",
     "text": [
      "256it [00:23, 10.84it/s]                                                                                               \n",
      "86it [00:03, 28.18it/s]                                                                                                \n"
     ]
    },
    {
     "name": "stdout",
     "output_type": "stream",
     "text": [
      "Train PSNR: 29.528\n",
      "Val PSNR: 29.580\n",
      "Epoch 88 of 500\n"
     ]
    },
    {
     "name": "stderr",
     "output_type": "stream",
     "text": [
      "256it [00:23, 10.85it/s]                                                                                               \n",
      "86it [00:03, 28.00it/s]                                                                                                \n"
     ]
    },
    {
     "name": "stdout",
     "output_type": "stream",
     "text": [
      "Train PSNR: 29.535\n",
      "Val PSNR: 29.587\n",
      "Epoch 89 of 500\n"
     ]
    },
    {
     "name": "stderr",
     "output_type": "stream",
     "text": [
      "256it [00:23, 10.82it/s]                                                                                               \n",
      "86it [00:03, 27.86it/s]                                                                                                \n"
     ]
    },
    {
     "name": "stdout",
     "output_type": "stream",
     "text": [
      "Train PSNR: 29.541\n",
      "Val PSNR: 29.591\n",
      "Epoch 90 of 500\n"
     ]
    },
    {
     "name": "stderr",
     "output_type": "stream",
     "text": [
      "256it [00:23, 10.83it/s]                                                                                               \n",
      "86it [00:03, 27.90it/s]                                                                                                \n"
     ]
    },
    {
     "name": "stdout",
     "output_type": "stream",
     "text": [
      "Train PSNR: 29.547\n",
      "Val PSNR: 29.596\n",
      "Epoch 91 of 500\n"
     ]
    },
    {
     "name": "stderr",
     "output_type": "stream",
     "text": [
      "256it [00:23, 10.85it/s]                                                                                               \n",
      "86it [00:03, 27.71it/s]                                                                                                \n"
     ]
    },
    {
     "name": "stdout",
     "output_type": "stream",
     "text": [
      "Train PSNR: 29.554\n",
      "Val PSNR: 29.600\n",
      "Epoch 92 of 500\n"
     ]
    },
    {
     "name": "stderr",
     "output_type": "stream",
     "text": [
      "256it [00:23, 10.81it/s]                                                                                               \n",
      "86it [00:03, 27.90it/s]                                                                                                \n"
     ]
    },
    {
     "name": "stdout",
     "output_type": "stream",
     "text": [
      "Train PSNR: 29.561\n",
      "Val PSNR: 29.600\n",
      "Epoch 93 of 500\n"
     ]
    },
    {
     "name": "stderr",
     "output_type": "stream",
     "text": [
      "256it [00:23, 10.87it/s]                                                                                               \n",
      "86it [00:03, 28.02it/s]                                                                                                \n"
     ]
    },
    {
     "name": "stdout",
     "output_type": "stream",
     "text": [
      "Train PSNR: 29.566\n",
      "Val PSNR: 29.603\n",
      "Epoch 94 of 500\n"
     ]
    },
    {
     "name": "stderr",
     "output_type": "stream",
     "text": [
      "256it [00:23, 10.87it/s]                                                                                               \n",
      "86it [00:03, 28.22it/s]                                                                                                \n"
     ]
    },
    {
     "name": "stdout",
     "output_type": "stream",
     "text": [
      "Train PSNR: 29.573\n",
      "Val PSNR: 29.606\n",
      "Epoch 95 of 500\n"
     ]
    },
    {
     "name": "stderr",
     "output_type": "stream",
     "text": [
      "256it [00:23, 10.86it/s]                                                                                               \n",
      "86it [00:03, 28.19it/s]                                                                                                \n"
     ]
    },
    {
     "name": "stdout",
     "output_type": "stream",
     "text": [
      "Train PSNR: 29.577\n",
      "Val PSNR: 29.613\n",
      "Epoch 96 of 500\n"
     ]
    },
    {
     "name": "stderr",
     "output_type": "stream",
     "text": [
      "256it [00:23, 10.81it/s]                                                                                               \n",
      "86it [00:03, 27.95it/s]                                                                                                \n"
     ]
    },
    {
     "name": "stdout",
     "output_type": "stream",
     "text": [
      "Train PSNR: 29.583\n",
      "Val PSNR: 29.620\n",
      "Epoch 97 of 500\n"
     ]
    },
    {
     "name": "stderr",
     "output_type": "stream",
     "text": [
      "256it [00:23, 10.81it/s]                                                                                               \n",
      "86it [00:03, 27.98it/s]                                                                                                \n"
     ]
    },
    {
     "name": "stdout",
     "output_type": "stream",
     "text": [
      "Train PSNR: 29.589\n",
      "Val PSNR: 29.624\n",
      "Epoch 98 of 500\n"
     ]
    },
    {
     "name": "stderr",
     "output_type": "stream",
     "text": [
      "256it [00:23, 10.84it/s]                                                                                               \n",
      "86it [00:03, 27.87it/s]                                                                                                \n"
     ]
    },
    {
     "name": "stdout",
     "output_type": "stream",
     "text": [
      "Train PSNR: 29.593\n",
      "Val PSNR: 29.630\n",
      "Epoch 99 of 500\n"
     ]
    },
    {
     "name": "stderr",
     "output_type": "stream",
     "text": [
      "256it [00:23, 10.86it/s]                                                                                               \n",
      "86it [00:03, 27.90it/s]                                                                                                \n"
     ]
    },
    {
     "name": "stdout",
     "output_type": "stream",
     "text": [
      "Train PSNR: 29.599\n",
      "Val PSNR: 29.632\n",
      "Epoch 100 of 500\n"
     ]
    },
    {
     "name": "stderr",
     "output_type": "stream",
     "text": [
      "256it [00:23, 10.84it/s]                                                                                               \n",
      "86it [00:03, 27.88it/s]                                                                                                \n"
     ]
    },
    {
     "name": "stdout",
     "output_type": "stream",
     "text": [
      "Train PSNR: 29.605\n",
      "Val PSNR: 29.636\n",
      "Epoch 101 of 500\n"
     ]
    },
    {
     "name": "stderr",
     "output_type": "stream",
     "text": [
      "256it [00:23, 10.84it/s]                                                                                               \n",
      "86it [00:03, 27.77it/s]                                                                                                \n"
     ]
    },
    {
     "name": "stdout",
     "output_type": "stream",
     "text": [
      "Train PSNR: 29.611\n",
      "Val PSNR: 29.639\n",
      "Epoch 102 of 500\n"
     ]
    },
    {
     "name": "stderr",
     "output_type": "stream",
     "text": [
      "256it [00:23, 10.76it/s]                                                                                               \n",
      "86it [00:03, 27.69it/s]                                                                                                \n"
     ]
    },
    {
     "name": "stdout",
     "output_type": "stream",
     "text": [
      "Train PSNR: 29.616\n",
      "Val PSNR: 29.648\n",
      "Epoch 103 of 500\n"
     ]
    },
    {
     "name": "stderr",
     "output_type": "stream",
     "text": [
      "256it [00:23, 10.78it/s]                                                                                               \n",
      "86it [00:03, 27.89it/s]                                                                                                \n"
     ]
    },
    {
     "name": "stdout",
     "output_type": "stream",
     "text": [
      "Train PSNR: 29.621\n",
      "Val PSNR: 29.650\n",
      "Epoch 104 of 500\n"
     ]
    },
    {
     "name": "stderr",
     "output_type": "stream",
     "text": [
      "256it [00:23, 10.78it/s]                                                                                               \n",
      "86it [00:03, 27.72it/s]                                                                                                \n"
     ]
    },
    {
     "name": "stdout",
     "output_type": "stream",
     "text": [
      "Train PSNR: 29.627\n",
      "Val PSNR: 29.658\n",
      "Epoch 105 of 500\n"
     ]
    },
    {
     "name": "stderr",
     "output_type": "stream",
     "text": [
      "256it [00:23, 10.78it/s]                                                                                               \n",
      "86it [00:03, 27.55it/s]                                                                                                \n"
     ]
    },
    {
     "name": "stdout",
     "output_type": "stream",
     "text": [
      "Train PSNR: 29.632\n",
      "Val PSNR: 29.661\n",
      "Epoch 106 of 500\n"
     ]
    },
    {
     "name": "stderr",
     "output_type": "stream",
     "text": [
      "256it [00:23, 10.81it/s]                                                                                               \n",
      "86it [00:03, 27.92it/s]                                                                                                \n"
     ]
    },
    {
     "name": "stdout",
     "output_type": "stream",
     "text": [
      "Train PSNR: 29.637\n",
      "Val PSNR: 29.660\n",
      "Epoch 107 of 500\n"
     ]
    },
    {
     "name": "stderr",
     "output_type": "stream",
     "text": [
      "256it [00:23, 10.82it/s]                                                                                               \n",
      "86it [00:03, 28.01it/s]                                                                                                \n"
     ]
    },
    {
     "name": "stdout",
     "output_type": "stream",
     "text": [
      "Train PSNR: 29.641\n",
      "Val PSNR: 29.669\n",
      "Epoch 108 of 500\n"
     ]
    },
    {
     "name": "stderr",
     "output_type": "stream",
     "text": [
      "256it [00:23, 10.83it/s]                                                                                               \n",
      "86it [00:03, 27.85it/s]                                                                                                \n"
     ]
    },
    {
     "name": "stdout",
     "output_type": "stream",
     "text": [
      "Train PSNR: 29.647\n",
      "Val PSNR: 29.670\n",
      "Epoch 109 of 500\n"
     ]
    },
    {
     "name": "stderr",
     "output_type": "stream",
     "text": [
      "256it [00:23, 10.89it/s]                                                                                               \n",
      "86it [00:03, 28.13it/s]                                                                                                \n"
     ]
    },
    {
     "name": "stdout",
     "output_type": "stream",
     "text": [
      "Train PSNR: 29.651\n",
      "Val PSNR: 29.677\n",
      "Epoch 110 of 500\n"
     ]
    },
    {
     "name": "stderr",
     "output_type": "stream",
     "text": [
      "256it [00:23, 10.84it/s]                                                                                               \n",
      "86it [00:03, 27.88it/s]                                                                                                \n"
     ]
    },
    {
     "name": "stdout",
     "output_type": "stream",
     "text": [
      "Train PSNR: 29.656\n",
      "Val PSNR: 29.680\n",
      "Epoch 111 of 500\n"
     ]
    },
    {
     "name": "stderr",
     "output_type": "stream",
     "text": [
      "256it [00:23, 10.79it/s]                                                                                               \n",
      "86it [00:03, 27.96it/s]                                                                                                \n"
     ]
    },
    {
     "name": "stdout",
     "output_type": "stream",
     "text": [
      "Train PSNR: 29.660\n",
      "Val PSNR: 29.681\n",
      "Epoch 112 of 500\n"
     ]
    },
    {
     "name": "stderr",
     "output_type": "stream",
     "text": [
      "256it [00:23, 10.88it/s]                                                                                               \n",
      "86it [00:03, 27.83it/s]                                                                                                \n"
     ]
    },
    {
     "name": "stdout",
     "output_type": "stream",
     "text": [
      "Train PSNR: 29.664\n",
      "Val PSNR: 29.676\n",
      "Epoch 113 of 500\n"
     ]
    },
    {
     "name": "stderr",
     "output_type": "stream",
     "text": [
      "256it [00:23, 10.88it/s]                                                                                               \n",
      "86it [00:03, 28.09it/s]                                                                                                \n"
     ]
    },
    {
     "name": "stdout",
     "output_type": "stream",
     "text": [
      "Train PSNR: 29.670\n",
      "Val PSNR: 29.672\n",
      "Epoch 114 of 500\n"
     ]
    },
    {
     "name": "stderr",
     "output_type": "stream",
     "text": [
      "256it [00:13, 18.87it/s]                                                                                               \n",
      "86it [00:01, 45.49it/s]                                                                                                \n"
     ]
    },
    {
     "name": "stdout",
     "output_type": "stream",
     "text": [
      "Train PSNR: 29.676\n",
      "Val PSNR: 29.693\n",
      "Epoch 115 of 500\n"
     ]
    },
    {
     "name": "stderr",
     "output_type": "stream",
     "text": [
      "256it [00:13, 19.23it/s]                                                                                               \n",
      "86it [00:01, 45.79it/s]                                                                                                \n"
     ]
    },
    {
     "name": "stdout",
     "output_type": "stream",
     "text": [
      "Train PSNR: 29.681\n",
      "Val PSNR: 29.697\n",
      "Epoch 116 of 500\n"
     ]
    },
    {
     "name": "stderr",
     "output_type": "stream",
     "text": [
      "256it [00:13, 19.25it/s]                                                                                               \n",
      "86it [00:01, 45.56it/s]                                                                                                \n"
     ]
    },
    {
     "name": "stdout",
     "output_type": "stream",
     "text": [
      "Train PSNR: 29.687\n",
      "Val PSNR: 29.699\n",
      "Epoch 117 of 500\n"
     ]
    },
    {
     "name": "stderr",
     "output_type": "stream",
     "text": [
      "256it [00:13, 19.20it/s]                                                                                               \n",
      "86it [00:01, 45.52it/s]                                                                                                \n"
     ]
    },
    {
     "name": "stdout",
     "output_type": "stream",
     "text": [
      "Train PSNR: 29.691\n",
      "Val PSNR: 29.706\n",
      "Epoch 118 of 500\n"
     ]
    },
    {
     "name": "stderr",
     "output_type": "stream",
     "text": [
      "256it [00:13, 19.23it/s]                                                                                               \n",
      "86it [00:01, 45.49it/s]                                                                                                \n"
     ]
    },
    {
     "name": "stdout",
     "output_type": "stream",
     "text": [
      "Train PSNR: 29.697\n",
      "Val PSNR: 29.705\n",
      "Epoch 119 of 500\n"
     ]
    },
    {
     "name": "stderr",
     "output_type": "stream",
     "text": [
      "256it [00:13, 19.17it/s]                                                                                               \n",
      "86it [00:01, 45.42it/s]                                                                                                \n"
     ]
    },
    {
     "name": "stdout",
     "output_type": "stream",
     "text": [
      "Train PSNR: 29.703\n",
      "Val PSNR: 29.709\n",
      "Epoch 120 of 500\n"
     ]
    },
    {
     "name": "stderr",
     "output_type": "stream",
     "text": [
      "256it [00:13, 19.22it/s]                                                                                               \n",
      "86it [00:01, 45.63it/s]                                                                                                \n"
     ]
    },
    {
     "name": "stdout",
     "output_type": "stream",
     "text": [
      "Train PSNR: 29.707\n",
      "Val PSNR: 29.716\n",
      "Epoch 121 of 500\n"
     ]
    },
    {
     "name": "stderr",
     "output_type": "stream",
     "text": [
      "256it [00:13, 19.20it/s]                                                                                               \n",
      "86it [00:01, 45.51it/s]                                                                                                \n"
     ]
    },
    {
     "name": "stdout",
     "output_type": "stream",
     "text": [
      "Train PSNR: 29.713\n",
      "Val PSNR: 29.720\n",
      "Epoch 122 of 500\n"
     ]
    },
    {
     "name": "stderr",
     "output_type": "stream",
     "text": [
      "256it [00:13, 19.18it/s]                                                                                               \n",
      "86it [00:01, 45.47it/s]                                                                                                \n"
     ]
    },
    {
     "name": "stdout",
     "output_type": "stream",
     "text": [
      "Train PSNR: 29.718\n",
      "Val PSNR: 29.726\n",
      "Epoch 123 of 500\n"
     ]
    },
    {
     "name": "stderr",
     "output_type": "stream",
     "text": [
      "256it [00:13, 19.14it/s]                                                                                               \n",
      "86it [00:01, 45.39it/s]                                                                                                \n"
     ]
    },
    {
     "name": "stdout",
     "output_type": "stream",
     "text": [
      "Train PSNR: 29.723\n",
      "Val PSNR: 29.724\n",
      "Epoch 124 of 500\n"
     ]
    },
    {
     "name": "stderr",
     "output_type": "stream",
     "text": [
      "256it [00:13, 19.13it/s]                                                                                               \n",
      "86it [00:01, 45.25it/s]                                                                                                \n"
     ]
    },
    {
     "name": "stdout",
     "output_type": "stream",
     "text": [
      "Train PSNR: 29.728\n",
      "Val PSNR: 29.732\n",
      "Epoch 125 of 500\n"
     ]
    },
    {
     "name": "stderr",
     "output_type": "stream",
     "text": [
      "256it [00:13, 19.11it/s]                                                                                               \n",
      "86it [00:01, 45.32it/s]                                                                                                \n"
     ]
    },
    {
     "name": "stdout",
     "output_type": "stream",
     "text": [
      "Train PSNR: 29.732\n",
      "Val PSNR: 29.737\n",
      "Epoch 126 of 500\n"
     ]
    },
    {
     "name": "stderr",
     "output_type": "stream",
     "text": [
      "256it [00:13, 19.10it/s]                                                                                               \n",
      "86it [00:01, 45.11it/s]                                                                                                \n"
     ]
    },
    {
     "name": "stdout",
     "output_type": "stream",
     "text": [
      "Train PSNR: 29.738\n",
      "Val PSNR: 29.744\n",
      "Epoch 127 of 500\n"
     ]
    },
    {
     "name": "stderr",
     "output_type": "stream",
     "text": [
      "256it [00:13, 19.08it/s]                                                                                               \n",
      "86it [00:01, 45.15it/s]                                                                                                \n"
     ]
    },
    {
     "name": "stdout",
     "output_type": "stream",
     "text": [
      "Train PSNR: 29.743\n",
      "Val PSNR: 29.744\n",
      "Epoch 128 of 500\n"
     ]
    },
    {
     "name": "stderr",
     "output_type": "stream",
     "text": [
      "256it [00:13, 18.94it/s]                                                                                               \n",
      "86it [00:01, 44.04it/s]                                                                                                \n"
     ]
    },
    {
     "name": "stdout",
     "output_type": "stream",
     "text": [
      "Train PSNR: 29.748\n",
      "Val PSNR: 29.747\n",
      "Epoch 129 of 500\n"
     ]
    },
    {
     "name": "stderr",
     "output_type": "stream",
     "text": [
      "256it [00:13, 18.89it/s]                                                                                               \n",
      "86it [00:01, 44.27it/s]                                                                                                \n"
     ]
    },
    {
     "name": "stdout",
     "output_type": "stream",
     "text": [
      "Train PSNR: 29.752\n",
      "Val PSNR: 29.754\n",
      "Epoch 130 of 500\n"
     ]
    },
    {
     "name": "stderr",
     "output_type": "stream",
     "text": [
      "256it [00:13, 18.91it/s]                                                                                               \n",
      "86it [00:01, 43.93it/s]                                                                                                \n"
     ]
    },
    {
     "name": "stdout",
     "output_type": "stream",
     "text": [
      "Train PSNR: 29.757\n",
      "Val PSNR: 29.758\n",
      "Epoch 131 of 500\n"
     ]
    },
    {
     "name": "stderr",
     "output_type": "stream",
     "text": [
      "256it [00:13, 18.70it/s]                                                                                               \n",
      "86it [00:01, 43.94it/s]                                                                                                \n"
     ]
    },
    {
     "name": "stdout",
     "output_type": "stream",
     "text": [
      "Train PSNR: 29.761\n",
      "Val PSNR: 29.762\n",
      "Epoch 132 of 500\n"
     ]
    },
    {
     "name": "stderr",
     "output_type": "stream",
     "text": [
      "256it [00:13, 18.81it/s]                                                                                               \n",
      "86it [00:01, 43.86it/s]                                                                                                \n"
     ]
    },
    {
     "name": "stdout",
     "output_type": "stream",
     "text": [
      "Train PSNR: 29.766\n",
      "Val PSNR: 29.765\n",
      "Epoch 133 of 500\n"
     ]
    },
    {
     "name": "stderr",
     "output_type": "stream",
     "text": [
      "256it [00:13, 18.57it/s]                                                                                               \n",
      "86it [00:01, 43.37it/s]                                                                                                \n"
     ]
    },
    {
     "name": "stdout",
     "output_type": "stream",
     "text": [
      "Train PSNR: 29.771\n",
      "Val PSNR: 29.768\n",
      "Epoch 134 of 500\n"
     ]
    },
    {
     "name": "stderr",
     "output_type": "stream",
     "text": [
      "256it [00:13, 18.58it/s]                                                                                               \n",
      "86it [00:01, 43.31it/s]                                                                                                \n"
     ]
    },
    {
     "name": "stdout",
     "output_type": "stream",
     "text": [
      "Train PSNR: 29.776\n",
      "Val PSNR: 29.772\n",
      "Epoch 135 of 500\n"
     ]
    },
    {
     "name": "stderr",
     "output_type": "stream",
     "text": [
      "256it [00:13, 18.58it/s]                                                                                               \n",
      "86it [00:01, 43.01it/s]                                                                                                \n"
     ]
    },
    {
     "name": "stdout",
     "output_type": "stream",
     "text": [
      "Train PSNR: 29.780\n",
      "Val PSNR: 29.775\n",
      "Epoch 136 of 500\n"
     ]
    },
    {
     "name": "stderr",
     "output_type": "stream",
     "text": [
      "256it [00:13, 18.56it/s]                                                                                               \n",
      "86it [00:01, 43.32it/s]                                                                                                \n"
     ]
    },
    {
     "name": "stdout",
     "output_type": "stream",
     "text": [
      "Train PSNR: 29.785\n",
      "Val PSNR: 29.780\n",
      "Epoch 137 of 500\n"
     ]
    },
    {
     "name": "stderr",
     "output_type": "stream",
     "text": [
      "256it [00:13, 18.56it/s]                                                                                               \n",
      "86it [00:01, 43.37it/s]                                                                                                \n"
     ]
    },
    {
     "name": "stdout",
     "output_type": "stream",
     "text": [
      "Train PSNR: 29.790\n",
      "Val PSNR: 29.782\n",
      "Epoch 138 of 500\n"
     ]
    },
    {
     "name": "stderr",
     "output_type": "stream",
     "text": [
      "256it [00:13, 18.57it/s]                                                                                               \n",
      "86it [00:01, 43.06it/s]                                                                                                \n"
     ]
    },
    {
     "name": "stdout",
     "output_type": "stream",
     "text": [
      "Train PSNR: 29.794\n",
      "Val PSNR: 29.784\n",
      "Epoch 139 of 500\n"
     ]
    },
    {
     "name": "stderr",
     "output_type": "stream",
     "text": [
      "256it [00:13, 18.55it/s]                                                                                               \n",
      "86it [00:01, 43.29it/s]                                                                                                \n"
     ]
    },
    {
     "name": "stdout",
     "output_type": "stream",
     "text": [
      "Train PSNR: 29.799\n",
      "Val PSNR: 29.787\n",
      "Epoch 140 of 500\n"
     ]
    },
    {
     "name": "stderr",
     "output_type": "stream",
     "text": [
      "256it [00:13, 18.58it/s]                                                                                               \n",
      "86it [00:02, 42.45it/s]                                                                                                \n"
     ]
    },
    {
     "name": "stdout",
     "output_type": "stream",
     "text": [
      "Train PSNR: 29.804\n",
      "Val PSNR: 29.789\n",
      "Epoch 141 of 500\n"
     ]
    },
    {
     "name": "stderr",
     "output_type": "stream",
     "text": [
      "256it [00:13, 18.48it/s]                                                                                               \n",
      "86it [00:01, 43.01it/s]                                                                                                \n"
     ]
    },
    {
     "name": "stdout",
     "output_type": "stream",
     "text": [
      "Train PSNR: 29.809\n",
      "Val PSNR: 29.791\n",
      "Epoch 142 of 500\n"
     ]
    },
    {
     "name": "stderr",
     "output_type": "stream",
     "text": [
      "256it [00:13, 18.48it/s]                                                                                               \n",
      "86it [00:01, 43.09it/s]                                                                                                \n"
     ]
    },
    {
     "name": "stdout",
     "output_type": "stream",
     "text": [
      "Train PSNR: 29.812\n",
      "Val PSNR: 29.794\n",
      "Epoch 143 of 500\n"
     ]
    },
    {
     "name": "stderr",
     "output_type": "stream",
     "text": [
      "256it [00:13, 18.47it/s]                                                                                               \n",
      "86it [00:01, 43.01it/s]                                                                                                \n"
     ]
    },
    {
     "name": "stdout",
     "output_type": "stream",
     "text": [
      "Train PSNR: 29.817\n",
      "Val PSNR: 29.796\n",
      "Epoch 144 of 500\n"
     ]
    },
    {
     "name": "stderr",
     "output_type": "stream",
     "text": [
      "256it [00:13, 18.42it/s]                                                                                               \n",
      "86it [00:02, 42.92it/s]                                                                                                \n"
     ]
    },
    {
     "name": "stdout",
     "output_type": "stream",
     "text": [
      "Train PSNR: 29.821\n",
      "Val PSNR: 29.797\n",
      "Epoch 145 of 500\n"
     ]
    },
    {
     "name": "stderr",
     "output_type": "stream",
     "text": [
      "256it [00:13, 18.41it/s]                                                                                               \n",
      "86it [00:02, 42.88it/s]                                                                                                \n"
     ]
    },
    {
     "name": "stdout",
     "output_type": "stream",
     "text": [
      "Train PSNR: 29.825\n",
      "Val PSNR: 29.800\n",
      "Epoch 146 of 500\n"
     ]
    },
    {
     "name": "stderr",
     "output_type": "stream",
     "text": [
      "256it [00:13, 18.37it/s]                                                                                               \n",
      "86it [00:02, 42.84it/s]                                                                                                \n"
     ]
    },
    {
     "name": "stdout",
     "output_type": "stream",
     "text": [
      "Train PSNR: 29.828\n",
      "Val PSNR: 29.804\n",
      "Epoch 147 of 500\n"
     ]
    },
    {
     "name": "stderr",
     "output_type": "stream",
     "text": [
      "256it [00:13, 18.37it/s]                                                                                               \n",
      "86it [00:02, 42.90it/s]                                                                                                \n"
     ]
    },
    {
     "name": "stdout",
     "output_type": "stream",
     "text": [
      "Train PSNR: 29.832\n",
      "Val PSNR: 29.807\n",
      "Epoch 148 of 500\n"
     ]
    },
    {
     "name": "stderr",
     "output_type": "stream",
     "text": [
      "256it [00:13, 18.39it/s]                                                                                               \n",
      "86it [00:02, 42.73it/s]                                                                                                \n"
     ]
    },
    {
     "name": "stdout",
     "output_type": "stream",
     "text": [
      "Train PSNR: 29.835\n",
      "Val PSNR: 29.807\n",
      "Epoch 149 of 500\n"
     ]
    },
    {
     "name": "stderr",
     "output_type": "stream",
     "text": [
      "256it [00:13, 18.37it/s]                                                                                               \n",
      "86it [00:02, 42.79it/s]                                                                                                \n"
     ]
    },
    {
     "name": "stdout",
     "output_type": "stream",
     "text": [
      "Train PSNR: 29.839\n",
      "Val PSNR: 29.808\n",
      "Epoch 150 of 500\n"
     ]
    },
    {
     "name": "stderr",
     "output_type": "stream",
     "text": [
      "256it [00:13, 18.36it/s]                                                                                               \n",
      "86it [00:02, 42.89it/s]                                                                                                \n"
     ]
    },
    {
     "name": "stdout",
     "output_type": "stream",
     "text": [
      "Train PSNR: 29.843\n",
      "Val PSNR: 29.807\n",
      "Epoch 151 of 500\n"
     ]
    },
    {
     "name": "stderr",
     "output_type": "stream",
     "text": [
      "256it [00:13, 18.38it/s]                                                                                               \n",
      "86it [00:02, 42.86it/s]                                                                                                \n"
     ]
    },
    {
     "name": "stdout",
     "output_type": "stream",
     "text": [
      "Train PSNR: 29.846\n",
      "Val PSNR: 29.809\n",
      "Epoch 152 of 500\n"
     ]
    },
    {
     "name": "stderr",
     "output_type": "stream",
     "text": [
      "256it [00:13, 18.39it/s]                                                                                               \n",
      "86it [00:02, 42.84it/s]                                                                                                \n"
     ]
    },
    {
     "name": "stdout",
     "output_type": "stream",
     "text": [
      "Train PSNR: 29.850\n",
      "Val PSNR: 29.811\n",
      "Epoch 153 of 500\n"
     ]
    },
    {
     "name": "stderr",
     "output_type": "stream",
     "text": [
      "256it [00:17, 14.35it/s]                                                                                               \n",
      "86it [00:03, 25.24it/s]                                                                                                \n"
     ]
    },
    {
     "name": "stdout",
     "output_type": "stream",
     "text": [
      "Train PSNR: 29.854\n",
      "Val PSNR: 29.812\n",
      "Epoch 154 of 500\n"
     ]
    },
    {
     "name": "stderr",
     "output_type": "stream",
     "text": [
      "256it [00:26,  9.78it/s]                                                                                               \n",
      "86it [00:03, 25.13it/s]                                                                                                \n"
     ]
    },
    {
     "name": "stdout",
     "output_type": "stream",
     "text": [
      "Train PSNR: 29.858\n",
      "Val PSNR: 29.815\n",
      "Epoch 155 of 500\n"
     ]
    },
    {
     "name": "stderr",
     "output_type": "stream",
     "text": [
      "256it [00:25, 10.06it/s]                                                                                               \n",
      "86it [00:03, 25.28it/s]                                                                                                \n"
     ]
    },
    {
     "name": "stdout",
     "output_type": "stream",
     "text": [
      "Train PSNR: 29.862\n",
      "Val PSNR: 29.820\n",
      "Epoch 156 of 500\n"
     ]
    },
    {
     "name": "stderr",
     "output_type": "stream",
     "text": [
      "256it [00:25, 10.21it/s]                                                                                               \n",
      "86it [00:03, 25.73it/s]                                                                                                \n"
     ]
    },
    {
     "name": "stdout",
     "output_type": "stream",
     "text": [
      "Train PSNR: 29.867\n",
      "Val PSNR: 29.822\n",
      "Epoch 157 of 500\n"
     ]
    },
    {
     "name": "stderr",
     "output_type": "stream",
     "text": [
      "256it [00:24, 10.28it/s]                                                                                               \n",
      "86it [00:03, 25.70it/s]                                                                                                \n"
     ]
    },
    {
     "name": "stdout",
     "output_type": "stream",
     "text": [
      "Train PSNR: 29.870\n",
      "Val PSNR: 29.824\n",
      "Epoch 158 of 500\n"
     ]
    },
    {
     "name": "stderr",
     "output_type": "stream",
     "text": [
      "256it [00:24, 10.48it/s]                                                                                               \n",
      "86it [00:03, 25.98it/s]                                                                                                \n"
     ]
    },
    {
     "name": "stdout",
     "output_type": "stream",
     "text": [
      "Train PSNR: 29.874\n",
      "Val PSNR: 29.827\n",
      "Epoch 159 of 500\n"
     ]
    },
    {
     "name": "stderr",
     "output_type": "stream",
     "text": [
      "256it [00:24, 10.55it/s]                                                                                               \n",
      "86it [00:03, 25.78it/s]                                                                                                \n"
     ]
    },
    {
     "name": "stdout",
     "output_type": "stream",
     "text": [
      "Train PSNR: 29.879\n",
      "Val PSNR: 29.830\n",
      "Epoch 160 of 500\n"
     ]
    },
    {
     "name": "stderr",
     "output_type": "stream",
     "text": [
      "256it [00:24, 10.55it/s]                                                                                               \n",
      "86it [00:03, 26.33it/s]                                                                                                \n"
     ]
    },
    {
     "name": "stdout",
     "output_type": "stream",
     "text": [
      "Train PSNR: 29.883\n",
      "Val PSNR: 29.832\n",
      "Epoch 161 of 500\n"
     ]
    },
    {
     "name": "stderr",
     "output_type": "stream",
     "text": [
      "256it [00:24, 10.66it/s]                                                                                               \n",
      "86it [00:03, 27.02it/s]                                                                                                \n"
     ]
    },
    {
     "name": "stdout",
     "output_type": "stream",
     "text": [
      "Train PSNR: 29.887\n",
      "Val PSNR: 29.834\n",
      "Epoch 162 of 500\n"
     ]
    },
    {
     "name": "stderr",
     "output_type": "stream",
     "text": [
      "256it [00:24, 10.65it/s]                                                                                               \n",
      "86it [00:03, 26.89it/s]                                                                                                \n"
     ]
    },
    {
     "name": "stdout",
     "output_type": "stream",
     "text": [
      "Train PSNR: 29.891\n",
      "Val PSNR: 29.836\n",
      "Epoch 163 of 500\n"
     ]
    },
    {
     "name": "stderr",
     "output_type": "stream",
     "text": [
      "256it [00:24, 10.66it/s]                                                                                               \n",
      "86it [00:03, 26.87it/s]                                                                                                \n"
     ]
    },
    {
     "name": "stdout",
     "output_type": "stream",
     "text": [
      "Train PSNR: 29.895\n",
      "Val PSNR: 29.835\n",
      "Epoch 164 of 500\n"
     ]
    },
    {
     "name": "stderr",
     "output_type": "stream",
     "text": [
      "256it [00:23, 10.72it/s]                                                                                               \n",
      "86it [00:03, 27.25it/s]                                                                                                \n"
     ]
    },
    {
     "name": "stdout",
     "output_type": "stream",
     "text": [
      "Train PSNR: 29.899\n",
      "Val PSNR: 29.838\n",
      "Epoch 165 of 500\n"
     ]
    },
    {
     "name": "stderr",
     "output_type": "stream",
     "text": [
      "256it [00:23, 10.73it/s]                                                                                               \n",
      "86it [00:03, 27.24it/s]                                                                                                \n"
     ]
    },
    {
     "name": "stdout",
     "output_type": "stream",
     "text": [
      "Train PSNR: 29.903\n",
      "Val PSNR: 29.840\n",
      "Epoch 166 of 500\n"
     ]
    },
    {
     "name": "stderr",
     "output_type": "stream",
     "text": [
      "256it [00:23, 10.72it/s]                                                                                               \n",
      "86it [00:03, 27.74it/s]                                                                                                \n"
     ]
    },
    {
     "name": "stdout",
     "output_type": "stream",
     "text": [
      "Train PSNR: 29.907\n",
      "Val PSNR: 29.842\n",
      "Epoch 167 of 500\n"
     ]
    },
    {
     "name": "stderr",
     "output_type": "stream",
     "text": [
      "256it [00:23, 10.72it/s]                                                                                               \n",
      "86it [00:03, 27.34it/s]                                                                                                \n"
     ]
    },
    {
     "name": "stdout",
     "output_type": "stream",
     "text": [
      "Train PSNR: 29.911\n",
      "Val PSNR: 29.845\n",
      "Epoch 168 of 500\n"
     ]
    },
    {
     "name": "stderr",
     "output_type": "stream",
     "text": [
      "256it [00:23, 10.77it/s]                                                                                               \n",
      "86it [00:03, 27.27it/s]                                                                                                \n"
     ]
    },
    {
     "name": "stdout",
     "output_type": "stream",
     "text": [
      "Train PSNR: 29.915\n",
      "Val PSNR: 29.848\n",
      "Epoch 169 of 500\n"
     ]
    },
    {
     "name": "stderr",
     "output_type": "stream",
     "text": [
      "256it [00:23, 10.81it/s]                                                                                               \n",
      "86it [00:03, 27.70it/s]                                                                                                \n"
     ]
    },
    {
     "name": "stdout",
     "output_type": "stream",
     "text": [
      "Train PSNR: 29.919\n",
      "Val PSNR: 29.848\n",
      "Epoch 170 of 500\n"
     ]
    },
    {
     "name": "stderr",
     "output_type": "stream",
     "text": [
      "256it [00:23, 10.84it/s]                                                                                               \n",
      "86it [00:03, 27.42it/s]                                                                                                \n"
     ]
    },
    {
     "name": "stdout",
     "output_type": "stream",
     "text": [
      "Train PSNR: 29.922\n",
      "Val PSNR: 29.849\n",
      "Epoch 171 of 500\n"
     ]
    },
    {
     "name": "stderr",
     "output_type": "stream",
     "text": [
      "256it [00:23, 10.84it/s]                                                                                               \n",
      "86it [00:03, 27.44it/s]                                                                                                \n"
     ]
    },
    {
     "name": "stdout",
     "output_type": "stream",
     "text": [
      "Train PSNR: 29.925\n",
      "Val PSNR: 29.853\n",
      "Epoch 172 of 500\n"
     ]
    },
    {
     "name": "stderr",
     "output_type": "stream",
     "text": [
      "256it [00:23, 10.83it/s]                                                                                               \n",
      "86it [00:03, 27.59it/s]                                                                                                \n"
     ]
    },
    {
     "name": "stdout",
     "output_type": "stream",
     "text": [
      "Train PSNR: 29.928\n",
      "Val PSNR: 29.855\n",
      "Epoch 173 of 500\n"
     ]
    },
    {
     "name": "stderr",
     "output_type": "stream",
     "text": [
      "256it [00:23, 10.87it/s]                                                                                               \n",
      "86it [00:03, 27.70it/s]                                                                                                \n"
     ]
    },
    {
     "name": "stdout",
     "output_type": "stream",
     "text": [
      "Train PSNR: 29.931\n",
      "Val PSNR: 29.854\n",
      "Epoch 174 of 500\n"
     ]
    },
    {
     "name": "stderr",
     "output_type": "stream",
     "text": [
      "256it [00:23, 10.88it/s]                                                                                               \n",
      "86it [00:03, 27.80it/s]                                                                                                \n"
     ]
    },
    {
     "name": "stdout",
     "output_type": "stream",
     "text": [
      "Train PSNR: 29.935\n",
      "Val PSNR: 29.856\n",
      "Epoch 175 of 500\n"
     ]
    },
    {
     "name": "stderr",
     "output_type": "stream",
     "text": [
      "256it [00:23, 10.87it/s]                                                                                               \n",
      "86it [00:03, 27.49it/s]                                                                                                \n"
     ]
    },
    {
     "name": "stdout",
     "output_type": "stream",
     "text": [
      "Train PSNR: 29.937\n",
      "Val PSNR: 29.854\n",
      "Epoch 176 of 500\n"
     ]
    },
    {
     "name": "stderr",
     "output_type": "stream",
     "text": [
      "256it [00:23, 10.89it/s]                                                                                               \n",
      "86it [00:03, 27.68it/s]                                                                                                \n"
     ]
    },
    {
     "name": "stdout",
     "output_type": "stream",
     "text": [
      "Train PSNR: 29.941\n",
      "Val PSNR: 29.857\n",
      "Epoch 177 of 500\n"
     ]
    },
    {
     "name": "stderr",
     "output_type": "stream",
     "text": [
      "256it [00:23, 10.92it/s]                                                                                               \n",
      "86it [00:03, 27.88it/s]                                                                                                \n"
     ]
    },
    {
     "name": "stdout",
     "output_type": "stream",
     "text": [
      "Train PSNR: 29.945\n",
      "Val PSNR: 29.858\n",
      "Epoch 178 of 500\n"
     ]
    },
    {
     "name": "stderr",
     "output_type": "stream",
     "text": [
      "256it [00:23, 10.88it/s]                                                                                               \n",
      "86it [00:03, 27.73it/s]                                                                                                \n"
     ]
    },
    {
     "name": "stdout",
     "output_type": "stream",
     "text": [
      "Train PSNR: 29.949\n",
      "Val PSNR: 29.858\n",
      "Epoch 179 of 500\n"
     ]
    },
    {
     "name": "stderr",
     "output_type": "stream",
     "text": [
      "256it [00:23, 10.93it/s]                                                                                               \n",
      "86it [00:03, 27.98it/s]                                                                                                \n"
     ]
    },
    {
     "name": "stdout",
     "output_type": "stream",
     "text": [
      "Train PSNR: 29.952\n",
      "Val PSNR: 29.863\n",
      "Epoch 180 of 500\n"
     ]
    },
    {
     "name": "stderr",
     "output_type": "stream",
     "text": [
      "256it [00:23, 10.94it/s]                                                                                               \n",
      "86it [00:03, 27.90it/s]                                                                                                \n"
     ]
    },
    {
     "name": "stdout",
     "output_type": "stream",
     "text": [
      "Train PSNR: 29.956\n",
      "Val PSNR: 29.864\n",
      "Epoch 181 of 500\n"
     ]
    },
    {
     "name": "stderr",
     "output_type": "stream",
     "text": [
      "256it [00:23, 10.91it/s]                                                                                               \n",
      "86it [00:03, 27.90it/s]                                                                                                \n"
     ]
    },
    {
     "name": "stdout",
     "output_type": "stream",
     "text": [
      "Train PSNR: 29.960\n",
      "Val PSNR: 29.865\n",
      "Epoch 182 of 500\n"
     ]
    },
    {
     "name": "stderr",
     "output_type": "stream",
     "text": [
      "256it [00:23, 10.89it/s]                                                                                               \n",
      "86it [00:03, 27.79it/s]                                                                                                \n"
     ]
    },
    {
     "name": "stdout",
     "output_type": "stream",
     "text": [
      "Train PSNR: 29.964\n",
      "Val PSNR: 29.871\n",
      "Epoch 183 of 500\n"
     ]
    },
    {
     "name": "stderr",
     "output_type": "stream",
     "text": [
      "256it [00:23, 10.92it/s]                                                                                               \n",
      "86it [00:03, 28.04it/s]                                                                                                \n"
     ]
    },
    {
     "name": "stdout",
     "output_type": "stream",
     "text": [
      "Train PSNR: 29.968\n",
      "Val PSNR: 29.873\n",
      "Epoch 184 of 500\n"
     ]
    },
    {
     "name": "stderr",
     "output_type": "stream",
     "text": [
      "256it [00:23, 10.89it/s]                                                                                               \n",
      "86it [00:03, 27.70it/s]                                                                                                \n"
     ]
    },
    {
     "name": "stdout",
     "output_type": "stream",
     "text": [
      "Train PSNR: 29.972\n",
      "Val PSNR: 29.876\n",
      "Epoch 185 of 500\n"
     ]
    },
    {
     "name": "stderr",
     "output_type": "stream",
     "text": [
      "256it [00:23, 10.90it/s]                                                                                               \n",
      "86it [00:03, 27.68it/s]                                                                                                \n"
     ]
    },
    {
     "name": "stdout",
     "output_type": "stream",
     "text": [
      "Train PSNR: 29.975\n",
      "Val PSNR: 29.877\n",
      "Epoch 186 of 500\n"
     ]
    },
    {
     "name": "stderr",
     "output_type": "stream",
     "text": [
      "256it [00:23, 10.89it/s]                                                                                               \n",
      "86it [00:03, 27.98it/s]                                                                                                \n"
     ]
    },
    {
     "name": "stdout",
     "output_type": "stream",
     "text": [
      "Train PSNR: 29.978\n",
      "Val PSNR: 29.879\n",
      "Epoch 187 of 500\n"
     ]
    },
    {
     "name": "stderr",
     "output_type": "stream",
     "text": [
      "256it [00:23, 10.93it/s]                                                                                               \n",
      "86it [00:03, 28.15it/s]                                                                                                \n"
     ]
    },
    {
     "name": "stdout",
     "output_type": "stream",
     "text": [
      "Train PSNR: 29.981\n",
      "Val PSNR: 29.881\n",
      "Epoch 188 of 500\n"
     ]
    },
    {
     "name": "stderr",
     "output_type": "stream",
     "text": [
      "256it [00:23, 10.91it/s]                                                                                               \n",
      "86it [00:03, 27.84it/s]                                                                                                \n"
     ]
    },
    {
     "name": "stdout",
     "output_type": "stream",
     "text": [
      "Train PSNR: 29.985\n",
      "Val PSNR: 29.882\n",
      "Epoch 189 of 500\n"
     ]
    },
    {
     "name": "stderr",
     "output_type": "stream",
     "text": [
      "256it [00:23, 10.93it/s]                                                                                               \n",
      "86it [00:03, 27.92it/s]                                                                                                \n"
     ]
    },
    {
     "name": "stdout",
     "output_type": "stream",
     "text": [
      "Train PSNR: 29.988\n",
      "Val PSNR: 29.884\n",
      "Epoch 190 of 500\n"
     ]
    },
    {
     "name": "stderr",
     "output_type": "stream",
     "text": [
      "256it [00:23, 10.93it/s]                                                                                               \n",
      "86it [00:03, 28.16it/s]                                                                                                \n"
     ]
    },
    {
     "name": "stdout",
     "output_type": "stream",
     "text": [
      "Train PSNR: 29.991\n",
      "Val PSNR: 29.886\n",
      "Epoch 191 of 500\n"
     ]
    },
    {
     "name": "stderr",
     "output_type": "stream",
     "text": [
      "256it [00:23, 10.96it/s]                                                                                               \n",
      "86it [00:03, 27.79it/s]                                                                                                \n"
     ]
    },
    {
     "name": "stdout",
     "output_type": "stream",
     "text": [
      "Train PSNR: 29.994\n",
      "Val PSNR: 29.888\n",
      "Epoch 192 of 500\n"
     ]
    },
    {
     "name": "stderr",
     "output_type": "stream",
     "text": [
      "256it [00:23, 10.95it/s]                                                                                               \n",
      "86it [00:03, 28.24it/s]                                                                                                \n"
     ]
    },
    {
     "name": "stdout",
     "output_type": "stream",
     "text": [
      "Train PSNR: 29.996\n",
      "Val PSNR: 29.887\n",
      "Epoch 193 of 500\n"
     ]
    },
    {
     "name": "stderr",
     "output_type": "stream",
     "text": [
      "256it [00:23, 10.94it/s]                                                                                               \n",
      "86it [00:03, 28.06it/s]                                                                                                \n"
     ]
    },
    {
     "name": "stdout",
     "output_type": "stream",
     "text": [
      "Train PSNR: 29.998\n",
      "Val PSNR: 29.886\n",
      "Epoch 194 of 500\n"
     ]
    },
    {
     "name": "stderr",
     "output_type": "stream",
     "text": [
      "256it [00:23, 10.98it/s]                                                                                               \n",
      "86it [00:03, 27.96it/s]                                                                                                \n"
     ]
    },
    {
     "name": "stdout",
     "output_type": "stream",
     "text": [
      "Train PSNR: 30.000\n",
      "Val PSNR: 29.883\n",
      "Epoch 195 of 500\n"
     ]
    },
    {
     "name": "stderr",
     "output_type": "stream",
     "text": [
      "256it [00:23, 10.91it/s]                                                                                               \n",
      "86it [00:03, 27.73it/s]                                                                                                \n"
     ]
    },
    {
     "name": "stdout",
     "output_type": "stream",
     "text": [
      "Train PSNR: 30.001\n",
      "Val PSNR: 29.880\n",
      "Epoch 196 of 500\n"
     ]
    },
    {
     "name": "stderr",
     "output_type": "stream",
     "text": [
      "256it [00:23, 10.90it/s]                                                                                               \n",
      "86it [00:03, 27.91it/s]                                                                                                \n"
     ]
    },
    {
     "name": "stdout",
     "output_type": "stream",
     "text": [
      "Train PSNR: 30.004\n",
      "Val PSNR: 29.879\n",
      "Epoch 197 of 500\n"
     ]
    },
    {
     "name": "stderr",
     "output_type": "stream",
     "text": [
      "256it [00:23, 10.91it/s]                                                                                               \n",
      "86it [00:03, 27.90it/s]                                                                                                \n"
     ]
    },
    {
     "name": "stdout",
     "output_type": "stream",
     "text": [
      "Train PSNR: 30.007\n",
      "Val PSNR: 29.876\n",
      "Epoch 198 of 500\n"
     ]
    },
    {
     "name": "stderr",
     "output_type": "stream",
     "text": [
      "256it [00:23, 10.93it/s]                                                                                               \n",
      "86it [00:03, 28.27it/s]                                                                                                \n"
     ]
    },
    {
     "name": "stdout",
     "output_type": "stream",
     "text": [
      "Train PSNR: 30.010\n",
      "Val PSNR: 29.875\n",
      "Epoch 199 of 500\n"
     ]
    },
    {
     "name": "stderr",
     "output_type": "stream",
     "text": [
      "256it [00:23, 10.96it/s]                                                                                               \n",
      "86it [00:03, 28.08it/s]                                                                                                \n"
     ]
    },
    {
     "name": "stdout",
     "output_type": "stream",
     "text": [
      "Train PSNR: 30.013\n",
      "Val PSNR: 29.875\n",
      "Epoch 200 of 500\n"
     ]
    },
    {
     "name": "stderr",
     "output_type": "stream",
     "text": [
      "256it [00:23, 10.91it/s]                                                                                               \n",
      "86it [00:03, 27.93it/s]                                                                                                \n"
     ]
    },
    {
     "name": "stdout",
     "output_type": "stream",
     "text": [
      "Train PSNR: 30.015\n",
      "Val PSNR: 29.877\n",
      "Epoch 201 of 500\n"
     ]
    },
    {
     "name": "stderr",
     "output_type": "stream",
     "text": [
      "256it [00:23, 10.90it/s]                                                                                               \n",
      "86it [00:03, 27.86it/s]                                                                                                \n"
     ]
    },
    {
     "name": "stdout",
     "output_type": "stream",
     "text": [
      "Train PSNR: 30.018\n",
      "Val PSNR: 29.881\n",
      "Epoch 202 of 500\n"
     ]
    },
    {
     "name": "stderr",
     "output_type": "stream",
     "text": [
      "256it [00:23, 10.90it/s]                                                                                               \n",
      "86it [00:03, 27.88it/s]                                                                                                \n"
     ]
    },
    {
     "name": "stdout",
     "output_type": "stream",
     "text": [
      "Train PSNR: 30.020\n",
      "Val PSNR: 29.884\n",
      "Epoch 203 of 500\n"
     ]
    },
    {
     "name": "stderr",
     "output_type": "stream",
     "text": [
      "256it [00:23, 10.92it/s]                                                                                               \n",
      "86it [00:03, 28.10it/s]                                                                                                \n"
     ]
    },
    {
     "name": "stdout",
     "output_type": "stream",
     "text": [
      "Train PSNR: 30.023\n",
      "Val PSNR: 29.889\n",
      "Epoch 204 of 500\n"
     ]
    },
    {
     "name": "stderr",
     "output_type": "stream",
     "text": [
      "256it [00:23, 10.95it/s]                                                                                               \n",
      "86it [00:03, 27.89it/s]                                                                                                \n"
     ]
    },
    {
     "name": "stdout",
     "output_type": "stream",
     "text": [
      "Train PSNR: 30.024\n",
      "Val PSNR: 29.891\n",
      "Epoch 205 of 500\n"
     ]
    },
    {
     "name": "stderr",
     "output_type": "stream",
     "text": [
      "256it [00:23, 10.94it/s]                                                                                               \n",
      "86it [00:03, 28.03it/s]                                                                                                \n"
     ]
    },
    {
     "name": "stdout",
     "output_type": "stream",
     "text": [
      "Train PSNR: 30.024\n",
      "Val PSNR: 29.893\n",
      "Epoch 206 of 500\n"
     ]
    },
    {
     "name": "stderr",
     "output_type": "stream",
     "text": [
      "256it [00:23, 10.96it/s]                                                                                               \n",
      "86it [00:03, 27.99it/s]                                                                                                \n"
     ]
    },
    {
     "name": "stdout",
     "output_type": "stream",
     "text": [
      "Train PSNR: 30.027\n",
      "Val PSNR: 29.900\n",
      "Epoch 207 of 500\n"
     ]
    },
    {
     "name": "stderr",
     "output_type": "stream",
     "text": [
      "256it [00:23, 10.94it/s]                                                                                               \n",
      "86it [00:03, 28.02it/s]                                                                                                \n"
     ]
    },
    {
     "name": "stdout",
     "output_type": "stream",
     "text": [
      "Train PSNR: 30.030\n",
      "Val PSNR: 29.902\n",
      "Epoch 208 of 500\n"
     ]
    },
    {
     "name": "stderr",
     "output_type": "stream",
     "text": [
      "256it [00:23, 10.99it/s]                                                                                               \n",
      "86it [00:03, 28.12it/s]                                                                                                \n"
     ]
    },
    {
     "name": "stdout",
     "output_type": "stream",
     "text": [
      "Train PSNR: 30.033\n",
      "Val PSNR: 29.908\n",
      "Epoch 209 of 500\n"
     ]
    },
    {
     "name": "stderr",
     "output_type": "stream",
     "text": [
      "256it [00:23, 10.95it/s]                                                                                               \n",
      "86it [00:03, 27.97it/s]                                                                                                \n"
     ]
    },
    {
     "name": "stdout",
     "output_type": "stream",
     "text": [
      "Train PSNR: 30.038\n",
      "Val PSNR: 29.911\n",
      "Epoch 210 of 500\n"
     ]
    },
    {
     "name": "stderr",
     "output_type": "stream",
     "text": [
      "256it [00:23, 10.93it/s]                                                                                               \n",
      "86it [00:03, 28.02it/s]                                                                                                \n"
     ]
    },
    {
     "name": "stdout",
     "output_type": "stream",
     "text": [
      "Train PSNR: 30.041\n",
      "Val PSNR: 29.910\n",
      "Epoch 211 of 500\n"
     ]
    },
    {
     "name": "stderr",
     "output_type": "stream",
     "text": [
      "256it [00:23, 10.95it/s]                                                                                               \n",
      "86it [00:03, 28.31it/s]                                                                                                \n"
     ]
    },
    {
     "name": "stdout",
     "output_type": "stream",
     "text": [
      "Train PSNR: 30.045\n",
      "Val PSNR: 29.914\n",
      "Epoch 212 of 500\n"
     ]
    },
    {
     "name": "stderr",
     "output_type": "stream",
     "text": [
      "256it [00:23, 10.99it/s]                                                                                               \n",
      "86it [00:03, 28.14it/s]                                                                                                \n"
     ]
    },
    {
     "name": "stdout",
     "output_type": "stream",
     "text": [
      "Train PSNR: 30.048\n",
      "Val PSNR: 29.912\n",
      "Epoch 213 of 500\n"
     ]
    },
    {
     "name": "stderr",
     "output_type": "stream",
     "text": [
      "256it [00:23, 10.98it/s]                                                                                               \n",
      "86it [00:03, 28.00it/s]                                                                                                \n"
     ]
    },
    {
     "name": "stdout",
     "output_type": "stream",
     "text": [
      "Train PSNR: 30.050\n",
      "Val PSNR: 29.916\n",
      "Epoch 214 of 500\n"
     ]
    },
    {
     "name": "stderr",
     "output_type": "stream",
     "text": [
      "256it [00:23, 10.96it/s]                                                                                               \n",
      "86it [00:03, 28.12it/s]                                                                                                \n"
     ]
    },
    {
     "name": "stdout",
     "output_type": "stream",
     "text": [
      "Train PSNR: 30.051\n",
      "Val PSNR: 29.911\n",
      "Epoch 215 of 500\n"
     ]
    },
    {
     "name": "stderr",
     "output_type": "stream",
     "text": [
      "256it [00:23, 10.97it/s]                                                                                               \n",
      "86it [00:03, 28.03it/s]                                                                                                \n"
     ]
    },
    {
     "name": "stdout",
     "output_type": "stream",
     "text": [
      "Train PSNR: 30.049\n",
      "Val PSNR: 29.905\n",
      "Epoch 216 of 500\n"
     ]
    },
    {
     "name": "stderr",
     "output_type": "stream",
     "text": [
      "256it [00:22, 11.26it/s]                                                                                               \n",
      "86it [00:01, 44.51it/s]                                                                                                \n"
     ]
    },
    {
     "name": "stdout",
     "output_type": "stream",
     "text": [
      "Train PSNR: 30.045\n",
      "Val PSNR: 29.893\n",
      "Epoch 217 of 500\n"
     ]
    },
    {
     "name": "stderr",
     "output_type": "stream",
     "text": [
      "256it [00:13, 19.20it/s]                                                                                               \n",
      "86it [00:01, 45.55it/s]                                                                                                \n"
     ]
    },
    {
     "name": "stdout",
     "output_type": "stream",
     "text": [
      "Train PSNR: 30.046\n",
      "Val PSNR: 29.899\n",
      "Epoch 218 of 500\n"
     ]
    },
    {
     "name": "stderr",
     "output_type": "stream",
     "text": [
      "256it [00:13, 19.30it/s]                                                                                               \n",
      "86it [00:01, 45.73it/s]                                                                                                \n"
     ]
    },
    {
     "name": "stdout",
     "output_type": "stream",
     "text": [
      "Train PSNR: 30.052\n",
      "Val PSNR: 29.910\n",
      "Epoch 219 of 500\n"
     ]
    },
    {
     "name": "stderr",
     "output_type": "stream",
     "text": [
      "256it [00:13, 19.27it/s]                                                                                               \n",
      "86it [00:01, 45.75it/s]                                                                                                \n"
     ]
    },
    {
     "name": "stdout",
     "output_type": "stream",
     "text": [
      "Train PSNR: 30.059\n",
      "Val PSNR: 29.916\n",
      "Epoch 220 of 500\n"
     ]
    },
    {
     "name": "stderr",
     "output_type": "stream",
     "text": [
      "256it [00:13, 19.24it/s]                                                                                               \n",
      "86it [00:01, 45.52it/s]                                                                                                \n"
     ]
    },
    {
     "name": "stdout",
     "output_type": "stream",
     "text": [
      "Train PSNR: 30.066\n",
      "Val PSNR: 29.920\n",
      "Epoch 221 of 500\n"
     ]
    },
    {
     "name": "stderr",
     "output_type": "stream",
     "text": [
      "256it [00:13, 19.21it/s]                                                                                               \n",
      "86it [00:01, 44.84it/s]                                                                                                \n"
     ]
    },
    {
     "name": "stdout",
     "output_type": "stream",
     "text": [
      "Train PSNR: 30.072\n",
      "Val PSNR: 29.922\n",
      "Epoch 222 of 500\n"
     ]
    },
    {
     "name": "stderr",
     "output_type": "stream",
     "text": [
      "256it [00:17, 14.76it/s]                                                                                               \n",
      "86it [00:03, 23.71it/s]                                                                                                \n"
     ]
    },
    {
     "name": "stdout",
     "output_type": "stream",
     "text": [
      "Train PSNR: 30.079\n",
      "Val PSNR: 29.929\n",
      "Epoch 223 of 500\n"
     ]
    },
    {
     "name": "stderr",
     "output_type": "stream",
     "text": [
      "256it [1:53:23, 26.58s/it]                                                                                             \n",
      "86it [00:02, 39.29it/s]                                                                                                \n"
     ]
    },
    {
     "name": "stdout",
     "output_type": "stream",
     "text": [
      "Train PSNR: 30.084\n",
      "Val PSNR: 29.932\n",
      "Epoch 224 of 500\n"
     ]
    },
    {
     "name": "stderr",
     "output_type": "stream",
     "text": [
      "256it [00:15, 16.61it/s]                                                                                               \n",
      "86it [00:02, 39.27it/s]                                                                                                \n"
     ]
    },
    {
     "name": "stdout",
     "output_type": "stream",
     "text": [
      "Train PSNR: 30.089\n",
      "Val PSNR: 29.937\n",
      "Epoch 225 of 500\n"
     ]
    },
    {
     "name": "stderr",
     "output_type": "stream",
     "text": [
      "256it [00:14, 18.05it/s]                                                                                               \n",
      "86it [00:01, 43.29it/s]                                                                                                \n"
     ]
    },
    {
     "name": "stdout",
     "output_type": "stream",
     "text": [
      "Train PSNR: 30.095\n",
      "Val PSNR: 29.940\n",
      "Epoch 226 of 500\n"
     ]
    },
    {
     "name": "stderr",
     "output_type": "stream",
     "text": [
      "256it [00:13, 18.77it/s]                                                                                               \n",
      "86it [00:04, 19.90it/s]                                                                                                \n"
     ]
    },
    {
     "name": "stdout",
     "output_type": "stream",
     "text": [
      "Train PSNR: 30.099\n",
      "Val PSNR: 29.939\n",
      "Epoch 227 of 500\n"
     ]
    },
    {
     "name": "stderr",
     "output_type": "stream",
     "text": [
      "256it [00:14, 17.10it/s]                                                                                               \n",
      "86it [00:02, 38.98it/s]                                                                                                \n"
     ]
    },
    {
     "name": "stdout",
     "output_type": "stream",
     "text": [
      "Train PSNR: 30.104\n",
      "Val PSNR: 29.945\n",
      "Epoch 228 of 500\n"
     ]
    },
    {
     "name": "stderr",
     "output_type": "stream",
     "text": [
      "256it [00:15, 16.18it/s]                                                                                               \n",
      "86it [00:02, 37.37it/s]                                                                                                \n"
     ]
    },
    {
     "name": "stdout",
     "output_type": "stream",
     "text": [
      "Train PSNR: 30.108\n",
      "Val PSNR: 29.947\n",
      "Epoch 229 of 500\n"
     ]
    },
    {
     "name": "stderr",
     "output_type": "stream",
     "text": [
      "256it [00:14, 17.14it/s]                                                                                               \n",
      "86it [00:02, 37.84it/s]                                                                                                \n"
     ]
    },
    {
     "name": "stdout",
     "output_type": "stream",
     "text": [
      "Train PSNR: 30.112\n",
      "Val PSNR: 29.948\n",
      "Epoch 230 of 500\n"
     ]
    },
    {
     "name": "stderr",
     "output_type": "stream",
     "text": [
      "256it [00:15, 16.83it/s]                                                                                               \n",
      "86it [00:01, 45.12it/s]                                                                                                \n"
     ]
    },
    {
     "name": "stdout",
     "output_type": "stream",
     "text": [
      "Train PSNR: 30.116\n",
      "Val PSNR: 29.950\n",
      "Epoch 231 of 500\n"
     ]
    },
    {
     "name": "stderr",
     "output_type": "stream",
     "text": [
      "256it [00:13, 19.17it/s]                                                                                               \n",
      "86it [00:01, 45.91it/s]                                                                                                \n"
     ]
    },
    {
     "name": "stdout",
     "output_type": "stream",
     "text": [
      "Train PSNR: 30.118\n",
      "Val PSNR: 29.950\n",
      "Epoch 232 of 500\n"
     ]
    },
    {
     "name": "stderr",
     "output_type": "stream",
     "text": [
      "256it [00:13, 19.31it/s]                                                                                               \n",
      "86it [00:01, 46.11it/s]                                                                                                \n"
     ]
    },
    {
     "name": "stdout",
     "output_type": "stream",
     "text": [
      "Train PSNR: 30.122\n",
      "Val PSNR: 29.951\n",
      "Epoch 233 of 500\n"
     ]
    },
    {
     "name": "stderr",
     "output_type": "stream",
     "text": [
      "256it [00:13, 19.28it/s]                                                                                               \n",
      "86it [00:01, 45.45it/s]                                                                                                \n"
     ]
    },
    {
     "name": "stdout",
     "output_type": "stream",
     "text": [
      "Train PSNR: 30.124\n",
      "Val PSNR: 29.951\n",
      "Epoch 234 of 500\n"
     ]
    },
    {
     "name": "stderr",
     "output_type": "stream",
     "text": [
      "256it [00:13, 19.26it/s]                                                                                               \n",
      "86it [00:01, 45.81it/s]                                                                                                \n"
     ]
    },
    {
     "name": "stdout",
     "output_type": "stream",
     "text": [
      "Train PSNR: 30.128\n",
      "Val PSNR: 29.952\n",
      "Epoch 235 of 500\n"
     ]
    },
    {
     "name": "stderr",
     "output_type": "stream",
     "text": [
      "256it [00:13, 19.22it/s]                                                                                               \n",
      "86it [00:01, 45.78it/s]                                                                                                \n"
     ]
    },
    {
     "name": "stdout",
     "output_type": "stream",
     "text": [
      "Train PSNR: 30.131\n",
      "Val PSNR: 29.954\n",
      "Epoch 236 of 500\n"
     ]
    },
    {
     "name": "stderr",
     "output_type": "stream",
     "text": [
      "256it [00:13, 19.21it/s]                                                                                               \n",
      "86it [00:01, 45.72it/s]                                                                                                \n"
     ]
    },
    {
     "name": "stdout",
     "output_type": "stream",
     "text": [
      "Train PSNR: 30.133\n",
      "Val PSNR: 29.955\n",
      "Epoch 237 of 500\n"
     ]
    },
    {
     "name": "stderr",
     "output_type": "stream",
     "text": [
      "256it [00:13, 19.20it/s]                                                                                               \n",
      "86it [00:01, 45.69it/s]                                                                                                \n"
     ]
    },
    {
     "name": "stdout",
     "output_type": "stream",
     "text": [
      "Train PSNR: 30.137\n",
      "Val PSNR: 29.958\n",
      "Epoch 238 of 500\n"
     ]
    },
    {
     "name": "stderr",
     "output_type": "stream",
     "text": [
      "256it [00:13, 19.20it/s]                                                                                               \n",
      "86it [00:01, 45.75it/s]                                                                                                \n"
     ]
    },
    {
     "name": "stdout",
     "output_type": "stream",
     "text": [
      "Train PSNR: 30.139\n",
      "Val PSNR: 29.955\n",
      "Epoch 239 of 500\n"
     ]
    },
    {
     "name": "stderr",
     "output_type": "stream",
     "text": [
      "256it [00:13, 19.18it/s]                                                                                               \n",
      "86it [00:01, 45.81it/s]                                                                                                \n"
     ]
    },
    {
     "name": "stdout",
     "output_type": "stream",
     "text": [
      "Train PSNR: 30.142\n",
      "Val PSNR: 29.959\n",
      "Epoch 240 of 500\n"
     ]
    },
    {
     "name": "stderr",
     "output_type": "stream",
     "text": [
      "256it [00:13, 19.15it/s]                                                                                               \n",
      "86it [00:01, 45.66it/s]                                                                                                \n"
     ]
    },
    {
     "name": "stdout",
     "output_type": "stream",
     "text": [
      "Train PSNR: 30.144\n",
      "Val PSNR: 29.955\n",
      "Epoch 241 of 500\n"
     ]
    },
    {
     "name": "stderr",
     "output_type": "stream",
     "text": [
      "256it [00:13, 19.19it/s]                                                                                               \n",
      "86it [00:01, 45.63it/s]                                                                                                \n"
     ]
    },
    {
     "name": "stdout",
     "output_type": "stream",
     "text": [
      "Train PSNR: 30.146\n",
      "Val PSNR: 29.964\n",
      "Epoch 242 of 500\n"
     ]
    },
    {
     "name": "stderr",
     "output_type": "stream",
     "text": [
      "256it [00:13, 19.21it/s]                                                                                               \n",
      "86it [00:01, 45.62it/s]                                                                                                \n"
     ]
    },
    {
     "name": "stdout",
     "output_type": "stream",
     "text": [
      "Train PSNR: 30.150\n",
      "Val PSNR: 29.961\n",
      "Epoch 243 of 500\n"
     ]
    },
    {
     "name": "stderr",
     "output_type": "stream",
     "text": [
      "256it [00:13, 19.18it/s]                                                                                               \n",
      "86it [00:01, 45.62it/s]                                                                                                \n"
     ]
    },
    {
     "name": "stdout",
     "output_type": "stream",
     "text": [
      "Train PSNR: 30.153\n",
      "Val PSNR: 29.965\n",
      "Epoch 244 of 500\n"
     ]
    },
    {
     "name": "stderr",
     "output_type": "stream",
     "text": [
      "256it [00:13, 19.21it/s]                                                                                               \n",
      "86it [00:01, 45.46it/s]                                                                                                \n"
     ]
    },
    {
     "name": "stdout",
     "output_type": "stream",
     "text": [
      "Train PSNR: 30.155\n",
      "Val PSNR: 29.970\n",
      "Epoch 245 of 500\n"
     ]
    },
    {
     "name": "stderr",
     "output_type": "stream",
     "text": [
      "256it [00:13, 19.21it/s]                                                                                               \n",
      "86it [00:01, 45.61it/s]                                                                                                \n"
     ]
    },
    {
     "name": "stdout",
     "output_type": "stream",
     "text": [
      "Train PSNR: 30.158\n",
      "Val PSNR: 29.972\n",
      "Epoch 246 of 500\n"
     ]
    },
    {
     "name": "stderr",
     "output_type": "stream",
     "text": [
      "256it [00:13, 19.20it/s]                                                                                               \n",
      "86it [00:01, 45.50it/s]                                                                                                \n"
     ]
    },
    {
     "name": "stdout",
     "output_type": "stream",
     "text": [
      "Train PSNR: 30.160\n",
      "Val PSNR: 29.976\n",
      "Epoch 247 of 500\n"
     ]
    },
    {
     "name": "stderr",
     "output_type": "stream",
     "text": [
      "256it [00:13, 19.26it/s]                                                                                               \n",
      "86it [00:01, 45.69it/s]                                                                                                \n"
     ]
    },
    {
     "name": "stdout",
     "output_type": "stream",
     "text": [
      "Train PSNR: 30.162\n",
      "Val PSNR: 29.978\n",
      "Epoch 248 of 500\n"
     ]
    },
    {
     "name": "stderr",
     "output_type": "stream",
     "text": [
      "256it [00:13, 19.24it/s]                                                                                               \n",
      "86it [00:01, 45.70it/s]                                                                                                \n"
     ]
    },
    {
     "name": "stdout",
     "output_type": "stream",
     "text": [
      "Train PSNR: 30.165\n",
      "Val PSNR: 29.980\n",
      "Epoch 249 of 500\n"
     ]
    },
    {
     "name": "stderr",
     "output_type": "stream",
     "text": [
      "256it [00:13, 19.20it/s]                                                                                               \n",
      "86it [00:01, 45.56it/s]                                                                                                \n"
     ]
    },
    {
     "name": "stdout",
     "output_type": "stream",
     "text": [
      "Train PSNR: 30.168\n",
      "Val PSNR: 29.980\n",
      "Epoch 250 of 500\n"
     ]
    },
    {
     "name": "stderr",
     "output_type": "stream",
     "text": [
      "256it [00:13, 19.25it/s]                                                                                               \n",
      "86it [00:01, 45.59it/s]                                                                                                \n"
     ]
    },
    {
     "name": "stdout",
     "output_type": "stream",
     "text": [
      "Train PSNR: 30.170\n",
      "Val PSNR: 29.983\n",
      "Epoch 251 of 500\n"
     ]
    },
    {
     "name": "stderr",
     "output_type": "stream",
     "text": [
      "256it [00:13, 19.23it/s]                                                                                               \n",
      "86it [00:01, 45.53it/s]                                                                                                \n"
     ]
    },
    {
     "name": "stdout",
     "output_type": "stream",
     "text": [
      "Train PSNR: 30.174\n",
      "Val PSNR: 29.985\n",
      "Epoch 252 of 500\n"
     ]
    },
    {
     "name": "stderr",
     "output_type": "stream",
     "text": [
      "256it [00:13, 19.22it/s]                                                                                               \n",
      "86it [00:01, 45.61it/s]                                                                                                \n"
     ]
    },
    {
     "name": "stdout",
     "output_type": "stream",
     "text": [
      "Train PSNR: 30.177\n",
      "Val PSNR: 29.986\n",
      "Epoch 253 of 500\n"
     ]
    },
    {
     "name": "stderr",
     "output_type": "stream",
     "text": [
      "256it [00:13, 19.24it/s]                                                                                               \n",
      "86it [00:01, 45.57it/s]                                                                                                \n"
     ]
    },
    {
     "name": "stdout",
     "output_type": "stream",
     "text": [
      "Train PSNR: 30.180\n",
      "Val PSNR: 29.986\n",
      "Epoch 254 of 500\n"
     ]
    },
    {
     "name": "stderr",
     "output_type": "stream",
     "text": [
      "256it [00:13, 19.21it/s]                                                                                               \n",
      "86it [00:01, 45.51it/s]                                                                                                \n"
     ]
    },
    {
     "name": "stdout",
     "output_type": "stream",
     "text": [
      "Train PSNR: 30.182\n",
      "Val PSNR: 29.984\n",
      "Epoch 255 of 500\n"
     ]
    },
    {
     "name": "stderr",
     "output_type": "stream",
     "text": [
      "256it [00:13, 19.20it/s]                                                                                               \n",
      "86it [00:01, 45.61it/s]                                                                                                \n"
     ]
    },
    {
     "name": "stdout",
     "output_type": "stream",
     "text": [
      "Train PSNR: 30.184\n",
      "Val PSNR: 29.986\n",
      "Epoch 256 of 500\n"
     ]
    },
    {
     "name": "stderr",
     "output_type": "stream",
     "text": [
      "256it [00:13, 19.23it/s]                                                                                               \n",
      "86it [00:01, 45.60it/s]                                                                                                \n"
     ]
    },
    {
     "name": "stdout",
     "output_type": "stream",
     "text": [
      "Train PSNR: 30.186\n",
      "Val PSNR: 29.980\n",
      "Epoch 257 of 500\n"
     ]
    },
    {
     "name": "stderr",
     "output_type": "stream",
     "text": [
      "256it [00:13, 19.22it/s]                                                                                               \n",
      "86it [00:01, 45.53it/s]                                                                                                \n"
     ]
    },
    {
     "name": "stdout",
     "output_type": "stream",
     "text": [
      "Train PSNR: 30.187\n",
      "Val PSNR: 29.981\n",
      "Epoch 258 of 500\n"
     ]
    },
    {
     "name": "stderr",
     "output_type": "stream",
     "text": [
      "256it [00:13, 19.18it/s]                                                                                               \n",
      "86it [00:01, 45.42it/s]                                                                                                \n"
     ]
    },
    {
     "name": "stdout",
     "output_type": "stream",
     "text": [
      "Train PSNR: 30.188\n",
      "Val PSNR: 29.985\n",
      "Epoch 259 of 500\n"
     ]
    },
    {
     "name": "stderr",
     "output_type": "stream",
     "text": [
      "256it [00:13, 19.19it/s]                                                                                               \n",
      "86it [00:01, 45.63it/s]                                                                                                \n"
     ]
    },
    {
     "name": "stdout",
     "output_type": "stream",
     "text": [
      "Train PSNR: 30.190\n",
      "Val PSNR: 29.993\n",
      "Epoch 260 of 500\n"
     ]
    },
    {
     "name": "stderr",
     "output_type": "stream",
     "text": [
      "256it [00:13, 19.20it/s]                                                                                               \n",
      "86it [00:01, 45.56it/s]                                                                                                \n"
     ]
    },
    {
     "name": "stdout",
     "output_type": "stream",
     "text": [
      "Train PSNR: 30.193\n",
      "Val PSNR: 29.995\n",
      "Epoch 261 of 500\n"
     ]
    },
    {
     "name": "stderr",
     "output_type": "stream",
     "text": [
      "256it [00:13, 19.11it/s]                                                                                               \n",
      "86it [00:01, 44.51it/s]                                                                                                \n"
     ]
    },
    {
     "name": "stdout",
     "output_type": "stream",
     "text": [
      "Train PSNR: 30.196\n",
      "Val PSNR: 29.999\n",
      "Epoch 262 of 500\n"
     ]
    },
    {
     "name": "stderr",
     "output_type": "stream",
     "text": [
      "256it [00:13, 18.95it/s]                                                                                               \n",
      "86it [00:01, 45.37it/s]                                                                                                \n"
     ]
    },
    {
     "name": "stdout",
     "output_type": "stream",
     "text": [
      "Train PSNR: 30.199\n",
      "Val PSNR: 29.997\n",
      "Epoch 263 of 500\n"
     ]
    },
    {
     "name": "stderr",
     "output_type": "stream",
     "text": [
      "256it [00:13, 19.19it/s]                                                                                               \n",
      "86it [00:01, 45.36it/s]                                                                                                \n"
     ]
    },
    {
     "name": "stdout",
     "output_type": "stream",
     "text": [
      "Train PSNR: 30.203\n",
      "Val PSNR: 30.000\n",
      "Epoch 264 of 500\n"
     ]
    },
    {
     "name": "stderr",
     "output_type": "stream",
     "text": [
      "256it [00:13, 19.17it/s]                                                                                               \n",
      "86it [00:01, 45.33it/s]                                                                                                \n"
     ]
    },
    {
     "name": "stdout",
     "output_type": "stream",
     "text": [
      "Train PSNR: 30.208\n",
      "Val PSNR: 30.003\n",
      "Epoch 265 of 500\n"
     ]
    },
    {
     "name": "stderr",
     "output_type": "stream",
     "text": [
      "256it [00:13, 19.13it/s]                                                                                               \n",
      "86it [00:01, 45.47it/s]                                                                                                \n"
     ]
    },
    {
     "name": "stdout",
     "output_type": "stream",
     "text": [
      "Train PSNR: 30.212\n",
      "Val PSNR: 30.005\n",
      "Epoch 266 of 500\n"
     ]
    },
    {
     "name": "stderr",
     "output_type": "stream",
     "text": [
      "256it [00:13, 19.14it/s]                                                                                               \n",
      "86it [00:01, 45.30it/s]                                                                                                \n"
     ]
    },
    {
     "name": "stdout",
     "output_type": "stream",
     "text": [
      "Train PSNR: 30.216\n",
      "Val PSNR: 30.007\n",
      "Epoch 267 of 500\n"
     ]
    },
    {
     "name": "stderr",
     "output_type": "stream",
     "text": [
      "256it [00:13, 19.16it/s]                                                                                               \n",
      "86it [00:01, 45.39it/s]                                                                                                \n"
     ]
    },
    {
     "name": "stdout",
     "output_type": "stream",
     "text": [
      "Train PSNR: 30.220\n",
      "Val PSNR: 30.010\n",
      "Epoch 268 of 500\n"
     ]
    },
    {
     "name": "stderr",
     "output_type": "stream",
     "text": [
      "256it [00:13, 19.15it/s]                                                                                               \n",
      "86it [00:01, 45.31it/s]                                                                                                \n"
     ]
    },
    {
     "name": "stdout",
     "output_type": "stream",
     "text": [
      "Train PSNR: 30.224\n",
      "Val PSNR: 30.012\n",
      "Epoch 269 of 500\n"
     ]
    },
    {
     "name": "stderr",
     "output_type": "stream",
     "text": [
      "256it [00:13, 19.15it/s]                                                                                               \n",
      "86it [00:01, 45.46it/s]                                                                                                \n"
     ]
    },
    {
     "name": "stdout",
     "output_type": "stream",
     "text": [
      "Train PSNR: 30.228\n",
      "Val PSNR: 30.013\n",
      "Epoch 270 of 500\n"
     ]
    },
    {
     "name": "stderr",
     "output_type": "stream",
     "text": [
      "256it [00:13, 19.13it/s]                                                                                               \n",
      "86it [00:01, 45.39it/s]                                                                                                \n"
     ]
    },
    {
     "name": "stdout",
     "output_type": "stream",
     "text": [
      "Train PSNR: 30.231\n",
      "Val PSNR: 30.016\n",
      "Epoch 271 of 500\n"
     ]
    },
    {
     "name": "stderr",
     "output_type": "stream",
     "text": [
      "256it [00:13, 19.16it/s]                                                                                               \n",
      "86it [00:01, 45.43it/s]                                                                                                \n"
     ]
    },
    {
     "name": "stdout",
     "output_type": "stream",
     "text": [
      "Train PSNR: 30.234\n",
      "Val PSNR: 30.020\n",
      "Epoch 272 of 500\n"
     ]
    },
    {
     "name": "stderr",
     "output_type": "stream",
     "text": [
      "256it [00:13, 19.14it/s]                                                                                               \n",
      "86it [00:01, 45.35it/s]                                                                                                \n"
     ]
    },
    {
     "name": "stdout",
     "output_type": "stream",
     "text": [
      "Train PSNR: 30.237\n",
      "Val PSNR: 30.019\n",
      "Epoch 273 of 500\n"
     ]
    },
    {
     "name": "stderr",
     "output_type": "stream",
     "text": [
      "256it [00:13, 19.13it/s]                                                                                               \n",
      "86it [00:01, 45.37it/s]                                                                                                \n"
     ]
    },
    {
     "name": "stdout",
     "output_type": "stream",
     "text": [
      "Train PSNR: 30.239\n",
      "Val PSNR: 30.022\n",
      "Epoch 274 of 500\n"
     ]
    },
    {
     "name": "stderr",
     "output_type": "stream",
     "text": [
      "256it [00:13, 19.14it/s]                                                                                               \n",
      "86it [00:01, 45.34it/s]                                                                                                \n"
     ]
    },
    {
     "name": "stdout",
     "output_type": "stream",
     "text": [
      "Train PSNR: 30.242\n",
      "Val PSNR: 30.023\n",
      "Epoch 275 of 500\n"
     ]
    },
    {
     "name": "stderr",
     "output_type": "stream",
     "text": [
      "256it [00:13, 19.14it/s]                                                                                               \n",
      "86it [00:01, 45.38it/s]                                                                                                \n"
     ]
    },
    {
     "name": "stdout",
     "output_type": "stream",
     "text": [
      "Train PSNR: 30.245\n",
      "Val PSNR: 30.023\n",
      "Epoch 276 of 500\n"
     ]
    },
    {
     "name": "stderr",
     "output_type": "stream",
     "text": [
      "256it [00:13, 19.15it/s]                                                                                               \n",
      "86it [00:01, 45.39it/s]                                                                                                \n"
     ]
    },
    {
     "name": "stdout",
     "output_type": "stream",
     "text": [
      "Train PSNR: 30.247\n",
      "Val PSNR: 30.022\n",
      "Epoch 277 of 500\n"
     ]
    },
    {
     "name": "stderr",
     "output_type": "stream",
     "text": [
      "256it [00:13, 19.13it/s]                                                                                               \n",
      "86it [00:01, 45.41it/s]                                                                                                \n"
     ]
    },
    {
     "name": "stdout",
     "output_type": "stream",
     "text": [
      "Train PSNR: 30.250\n",
      "Val PSNR: 30.021\n",
      "Epoch 278 of 500\n"
     ]
    },
    {
     "name": "stderr",
     "output_type": "stream",
     "text": [
      "256it [00:13, 19.16it/s]                                                                                               \n",
      "86it [00:01, 45.30it/s]                                                                                                \n"
     ]
    },
    {
     "name": "stdout",
     "output_type": "stream",
     "text": [
      "Train PSNR: 30.252\n",
      "Val PSNR: 30.025\n",
      "Epoch 279 of 500\n"
     ]
    },
    {
     "name": "stderr",
     "output_type": "stream",
     "text": [
      "256it [00:13, 19.18it/s]                                                                                               \n",
      "86it [00:01, 45.62it/s]                                                                                                \n"
     ]
    },
    {
     "name": "stdout",
     "output_type": "stream",
     "text": [
      "Train PSNR: 30.253\n",
      "Val PSNR: 30.023\n",
      "Epoch 280 of 500\n"
     ]
    },
    {
     "name": "stderr",
     "output_type": "stream",
     "text": [
      "256it [00:13, 19.04it/s]                                                                                               \n",
      "86it [00:01, 44.32it/s]                                                                                                \n"
     ]
    },
    {
     "name": "stdout",
     "output_type": "stream",
     "text": [
      "Train PSNR: 30.255\n",
      "Val PSNR: 30.023\n",
      "Epoch 281 of 500\n"
     ]
    },
    {
     "name": "stderr",
     "output_type": "stream",
     "text": [
      "256it [00:13, 18.93it/s]                                                                                               \n",
      "86it [00:01, 44.13it/s]                                                                                                \n"
     ]
    },
    {
     "name": "stdout",
     "output_type": "stream",
     "text": [
      "Train PSNR: 30.255\n",
      "Val PSNR: 30.021\n",
      "Epoch 282 of 500\n"
     ]
    },
    {
     "name": "stderr",
     "output_type": "stream",
     "text": [
      "256it [00:13, 18.86it/s]                                                                                               \n",
      "86it [00:01, 43.38it/s]                                                                                                \n"
     ]
    },
    {
     "name": "stdout",
     "output_type": "stream",
     "text": [
      "Train PSNR: 30.257\n",
      "Val PSNR: 30.019\n",
      "Epoch 283 of 500\n"
     ]
    },
    {
     "name": "stderr",
     "output_type": "stream",
     "text": [
      "256it [00:13, 18.98it/s]                                                                                               \n",
      "86it [00:01, 44.72it/s]                                                                                                \n"
     ]
    },
    {
     "name": "stdout",
     "output_type": "stream",
     "text": [
      "Train PSNR: 30.259\n",
      "Val PSNR: 30.024\n",
      "Epoch 284 of 500\n"
     ]
    },
    {
     "name": "stderr",
     "output_type": "stream",
     "text": [
      "256it [00:13, 19.04it/s]                                                                                               \n",
      "86it [00:01, 45.20it/s]                                                                                                \n"
     ]
    },
    {
     "name": "stdout",
     "output_type": "stream",
     "text": [
      "Train PSNR: 30.261\n",
      "Val PSNR: 30.027\n",
      "Epoch 285 of 500\n"
     ]
    },
    {
     "name": "stderr",
     "output_type": "stream",
     "text": [
      "256it [00:13, 19.00it/s]                                                                                               \n",
      "86it [00:01, 44.51it/s]                                                                                                \n"
     ]
    },
    {
     "name": "stdout",
     "output_type": "stream",
     "text": [
      "Train PSNR: 30.263\n",
      "Val PSNR: 30.031\n",
      "Epoch 286 of 500\n"
     ]
    },
    {
     "name": "stderr",
     "output_type": "stream",
     "text": [
      "256it [00:13, 18.93it/s]                                                                                               \n",
      "86it [00:01, 43.66it/s]                                                                                                \n"
     ]
    },
    {
     "name": "stdout",
     "output_type": "stream",
     "text": [
      "Train PSNR: 30.262\n",
      "Val PSNR: 30.033\n",
      "Epoch 287 of 500\n"
     ]
    },
    {
     "name": "stderr",
     "output_type": "stream",
     "text": [
      "256it [00:13, 18.93it/s]                                                                                               \n",
      "86it [00:01, 44.67it/s]                                                                                                \n"
     ]
    },
    {
     "name": "stdout",
     "output_type": "stream",
     "text": [
      "Train PSNR: 30.263\n",
      "Val PSNR: 30.030\n",
      "Epoch 288 of 500\n"
     ]
    },
    {
     "name": "stderr",
     "output_type": "stream",
     "text": [
      "256it [00:13, 19.06it/s]                                                                                               \n",
      "86it [00:01, 45.32it/s]                                                                                                \n"
     ]
    },
    {
     "name": "stdout",
     "output_type": "stream",
     "text": [
      "Train PSNR: 30.260\n",
      "Val PSNR: 30.033\n",
      "Epoch 289 of 500\n"
     ]
    },
    {
     "name": "stderr",
     "output_type": "stream",
     "text": [
      "256it [00:13, 19.14it/s]                                                                                               \n",
      "86it [00:01, 45.32it/s]                                                                                                \n"
     ]
    },
    {
     "name": "stdout",
     "output_type": "stream",
     "text": [
      "Train PSNR: 30.257\n",
      "Val PSNR: 30.045\n",
      "Epoch 290 of 500\n"
     ]
    },
    {
     "name": "stderr",
     "output_type": "stream",
     "text": [
      "256it [00:13, 19.14it/s]                                                                                               \n",
      "86it [00:01, 45.28it/s]                                                                                                \n"
     ]
    },
    {
     "name": "stdout",
     "output_type": "stream",
     "text": [
      "Train PSNR: 30.240\n",
      "Val PSNR: 30.039\n",
      "Epoch 291 of 500\n"
     ]
    },
    {
     "name": "stderr",
     "output_type": "stream",
     "text": [
      "256it [00:13, 19.13it/s]                                                                                               \n",
      "86it [00:01, 45.42it/s]                                                                                                \n"
     ]
    },
    {
     "name": "stdout",
     "output_type": "stream",
     "text": [
      "Train PSNR: 30.238\n",
      "Val PSNR: 30.035\n",
      "Epoch 292 of 500\n"
     ]
    },
    {
     "name": "stderr",
     "output_type": "stream",
     "text": [
      "256it [00:13, 19.14it/s]                                                                                               \n",
      "86it [00:01, 45.39it/s]                                                                                                \n"
     ]
    },
    {
     "name": "stdout",
     "output_type": "stream",
     "text": [
      "Train PSNR: 30.249\n",
      "Val PSNR: 30.035\n",
      "Epoch 293 of 500\n"
     ]
    },
    {
     "name": "stderr",
     "output_type": "stream",
     "text": [
      "256it [00:13, 19.13it/s]                                                                                               \n",
      "86it [00:01, 45.30it/s]                                                                                                \n"
     ]
    },
    {
     "name": "stdout",
     "output_type": "stream",
     "text": [
      "Train PSNR: 30.256\n",
      "Val PSNR: 30.036\n",
      "Epoch 294 of 500\n"
     ]
    },
    {
     "name": "stderr",
     "output_type": "stream",
     "text": [
      "256it [00:13, 19.15it/s]                                                                                               \n",
      "86it [00:01, 45.33it/s]                                                                                                \n"
     ]
    },
    {
     "name": "stdout",
     "output_type": "stream",
     "text": [
      "Train PSNR: 30.261\n",
      "Val PSNR: 30.034\n",
      "Epoch 295 of 500\n"
     ]
    },
    {
     "name": "stderr",
     "output_type": "stream",
     "text": [
      "256it [00:13, 19.08it/s]                                                                                               \n",
      "86it [00:01, 45.39it/s]                                                                                                \n"
     ]
    },
    {
     "name": "stdout",
     "output_type": "stream",
     "text": [
      "Train PSNR: 30.264\n",
      "Val PSNR: 30.037\n",
      "Epoch 296 of 500\n"
     ]
    },
    {
     "name": "stderr",
     "output_type": "stream",
     "text": [
      "256it [00:13, 19.15it/s]                                                                                               \n",
      "86it [00:01, 45.37it/s]                                                                                                \n"
     ]
    },
    {
     "name": "stdout",
     "output_type": "stream",
     "text": [
      "Train PSNR: 30.269\n",
      "Val PSNR: 30.041\n",
      "Epoch 297 of 500\n"
     ]
    },
    {
     "name": "stderr",
     "output_type": "stream",
     "text": [
      "256it [00:13, 19.13it/s]                                                                                               \n",
      "86it [00:01, 45.33it/s]                                                                                                \n"
     ]
    },
    {
     "name": "stdout",
     "output_type": "stream",
     "text": [
      "Train PSNR: 30.274\n",
      "Val PSNR: 30.041\n",
      "Epoch 298 of 500\n"
     ]
    },
    {
     "name": "stderr",
     "output_type": "stream",
     "text": [
      "256it [00:13, 19.14it/s]                                                                                               \n",
      "86it [00:01, 45.25it/s]                                                                                                \n"
     ]
    },
    {
     "name": "stdout",
     "output_type": "stream",
     "text": [
      "Train PSNR: 30.280\n",
      "Val PSNR: 30.041\n",
      "Epoch 299 of 500\n"
     ]
    },
    {
     "name": "stderr",
     "output_type": "stream",
     "text": [
      "256it [00:13, 19.13it/s]                                                                                               \n",
      "86it [00:01, 45.37it/s]                                                                                                \n"
     ]
    },
    {
     "name": "stdout",
     "output_type": "stream",
     "text": [
      "Train PSNR: 30.286\n",
      "Val PSNR: 30.044\n",
      "Epoch 300 of 500\n"
     ]
    },
    {
     "name": "stderr",
     "output_type": "stream",
     "text": [
      "256it [00:13, 19.11it/s]                                                                                               \n",
      "86it [00:01, 45.27it/s]                                                                                                \n"
     ]
    },
    {
     "name": "stdout",
     "output_type": "stream",
     "text": [
      "Train PSNR: 30.291\n",
      "Val PSNR: 30.047\n",
      "Epoch 301 of 500\n"
     ]
    },
    {
     "name": "stderr",
     "output_type": "stream",
     "text": [
      "256it [00:13, 19.14it/s]                                                                                               \n",
      "86it [00:03, 26.11it/s]                                                                                                \n"
     ]
    },
    {
     "name": "stdout",
     "output_type": "stream",
     "text": [
      "Train PSNR: 30.297\n",
      "Val PSNR: 30.051\n",
      "Epoch 302 of 500\n"
     ]
    },
    {
     "name": "stderr",
     "output_type": "stream",
     "text": [
      "256it [00:25,  9.86it/s]                                                                                               \n",
      "86it [00:03, 25.55it/s]                                                                                                \n"
     ]
    },
    {
     "name": "stdout",
     "output_type": "stream",
     "text": [
      "Train PSNR: 30.303\n",
      "Val PSNR: 30.051\n",
      "Epoch 303 of 500\n"
     ]
    },
    {
     "name": "stderr",
     "output_type": "stream",
     "text": [
      "256it [00:24, 10.25it/s]                                                                                               \n",
      "86it [00:03, 26.04it/s]                                                                                                \n"
     ]
    },
    {
     "name": "stdout",
     "output_type": "stream",
     "text": [
      "Train PSNR: 30.308\n",
      "Val PSNR: 30.056\n",
      "Epoch 304 of 500\n"
     ]
    },
    {
     "name": "stderr",
     "output_type": "stream",
     "text": [
      "256it [00:24, 10.56it/s]                                                                                               \n",
      "86it [00:03, 27.51it/s]                                                                                                \n"
     ]
    },
    {
     "name": "stdout",
     "output_type": "stream",
     "text": [
      "Train PSNR: 30.311\n",
      "Val PSNR: 30.053\n",
      "Epoch 305 of 500\n"
     ]
    },
    {
     "name": "stderr",
     "output_type": "stream",
     "text": [
      "256it [00:23, 10.77it/s]                                                                                               \n",
      "86it [00:03, 27.55it/s]                                                                                                \n"
     ]
    },
    {
     "name": "stdout",
     "output_type": "stream",
     "text": [
      "Train PSNR: 30.315\n",
      "Val PSNR: 30.058\n",
      "Epoch 306 of 500\n"
     ]
    },
    {
     "name": "stderr",
     "output_type": "stream",
     "text": [
      "256it [00:23, 10.86it/s]                                                                                               \n",
      "86it [00:03, 27.78it/s]                                                                                                \n"
     ]
    },
    {
     "name": "stdout",
     "output_type": "stream",
     "text": [
      "Train PSNR: 30.319\n",
      "Val PSNR: 30.058\n",
      "Epoch 307 of 500\n"
     ]
    },
    {
     "name": "stderr",
     "output_type": "stream",
     "text": [
      "256it [00:23, 10.93it/s]                                                                                               \n",
      "86it [00:03, 28.07it/s]                                                                                                \n"
     ]
    },
    {
     "name": "stdout",
     "output_type": "stream",
     "text": [
      "Train PSNR: 30.322\n",
      "Val PSNR: 30.058\n",
      "Epoch 308 of 500\n"
     ]
    },
    {
     "name": "stderr",
     "output_type": "stream",
     "text": [
      "256it [00:23, 10.85it/s]                                                                                               \n",
      "86it [00:03, 28.06it/s]                                                                                                \n"
     ]
    },
    {
     "name": "stdout",
     "output_type": "stream",
     "text": [
      "Train PSNR: 30.325\n",
      "Val PSNR: 30.060\n",
      "Epoch 309 of 500\n"
     ]
    },
    {
     "name": "stderr",
     "output_type": "stream",
     "text": [
      "256it [00:23, 10.98it/s]                                                                                               \n",
      "86it [00:03, 28.37it/s]                                                                                                \n"
     ]
    },
    {
     "name": "stdout",
     "output_type": "stream",
     "text": [
      "Train PSNR: 30.328\n",
      "Val PSNR: 30.062\n",
      "Epoch 310 of 500\n"
     ]
    },
    {
     "name": "stderr",
     "output_type": "stream",
     "text": [
      "256it [00:23, 11.04it/s]                                                                                               \n",
      "86it [00:03, 28.64it/s]                                                                                                \n"
     ]
    },
    {
     "name": "stdout",
     "output_type": "stream",
     "text": [
      "Train PSNR: 30.330\n",
      "Val PSNR: 30.064\n",
      "Epoch 311 of 500\n"
     ]
    },
    {
     "name": "stderr",
     "output_type": "stream",
     "text": [
      "256it [00:23, 11.00it/s]                                                                                               \n",
      "86it [00:03, 28.66it/s]                                                                                                \n"
     ]
    },
    {
     "name": "stdout",
     "output_type": "stream",
     "text": [
      "Train PSNR: 30.332\n",
      "Val PSNR: 30.061\n",
      "Epoch 312 of 500\n"
     ]
    },
    {
     "name": "stderr",
     "output_type": "stream",
     "text": [
      "256it [00:23, 11.11it/s]                                                                                               \n",
      "86it [00:02, 28.72it/s]                                                                                                \n"
     ]
    },
    {
     "name": "stdout",
     "output_type": "stream",
     "text": [
      "Train PSNR: 30.335\n",
      "Val PSNR: 30.067\n",
      "Epoch 313 of 500\n"
     ]
    },
    {
     "name": "stderr",
     "output_type": "stream",
     "text": [
      "256it [00:23, 11.11it/s]                                                                                               \n",
      "86it [00:02, 28.74it/s]                                                                                                \n"
     ]
    },
    {
     "name": "stdout",
     "output_type": "stream",
     "text": [
      "Train PSNR: 30.337\n",
      "Val PSNR: 30.067\n",
      "Epoch 314 of 500\n"
     ]
    },
    {
     "name": "stderr",
     "output_type": "stream",
     "text": [
      "256it [00:22, 11.16it/s]                                                                                               \n",
      "86it [00:02, 28.96it/s]                                                                                                \n"
     ]
    },
    {
     "name": "stdout",
     "output_type": "stream",
     "text": [
      "Train PSNR: 30.339\n",
      "Val PSNR: 30.065\n",
      "Epoch 315 of 500\n"
     ]
    },
    {
     "name": "stderr",
     "output_type": "stream",
     "text": [
      "256it [00:22, 11.15it/s]                                                                                               \n",
      "86it [00:02, 29.13it/s]                                                                                                \n"
     ]
    },
    {
     "name": "stdout",
     "output_type": "stream",
     "text": [
      "Train PSNR: 30.340\n",
      "Val PSNR: 30.067\n",
      "Epoch 316 of 500\n"
     ]
    },
    {
     "name": "stderr",
     "output_type": "stream",
     "text": [
      "256it [00:23, 11.12it/s]                                                                                               \n",
      "86it [00:02, 28.87it/s]                                                                                                \n"
     ]
    },
    {
     "name": "stdout",
     "output_type": "stream",
     "text": [
      "Train PSNR: 30.342\n",
      "Val PSNR: 30.067\n",
      "Epoch 317 of 500\n"
     ]
    },
    {
     "name": "stderr",
     "output_type": "stream",
     "text": [
      "256it [00:23, 11.13it/s]                                                                                               \n",
      "86it [00:03, 28.61it/s]                                                                                                \n"
     ]
    },
    {
     "name": "stdout",
     "output_type": "stream",
     "text": [
      "Train PSNR: 30.343\n",
      "Val PSNR: 30.068\n",
      "Epoch 318 of 500\n"
     ]
    },
    {
     "name": "stderr",
     "output_type": "stream",
     "text": [
      "256it [00:22, 11.17it/s]                                                                                               \n",
      "86it [00:03, 28.59it/s]                                                                                                \n"
     ]
    },
    {
     "name": "stdout",
     "output_type": "stream",
     "text": [
      "Train PSNR: 30.343\n",
      "Val PSNR: 30.063\n",
      "Epoch 319 of 500\n"
     ]
    },
    {
     "name": "stderr",
     "output_type": "stream",
     "text": [
      "256it [00:22, 11.15it/s]                                                                                               \n",
      "86it [00:02, 28.89it/s]                                                                                                \n"
     ]
    },
    {
     "name": "stdout",
     "output_type": "stream",
     "text": [
      "Train PSNR: 30.345\n",
      "Val PSNR: 30.063\n",
      "Epoch 320 of 500\n"
     ]
    },
    {
     "name": "stderr",
     "output_type": "stream",
     "text": [
      "256it [00:23, 11.13it/s]                                                                                               \n",
      "86it [00:03, 28.61it/s]                                                                                                \n"
     ]
    },
    {
     "name": "stdout",
     "output_type": "stream",
     "text": [
      "Train PSNR: 30.348\n",
      "Val PSNR: 30.067\n",
      "Epoch 321 of 500\n"
     ]
    },
    {
     "name": "stderr",
     "output_type": "stream",
     "text": [
      "256it [00:22, 11.13it/s]                                                                                               \n",
      "86it [00:02, 28.83it/s]                                                                                                \n"
     ]
    },
    {
     "name": "stdout",
     "output_type": "stream",
     "text": [
      "Train PSNR: 30.351\n",
      "Val PSNR: 30.071\n",
      "Epoch 322 of 500\n"
     ]
    },
    {
     "name": "stderr",
     "output_type": "stream",
     "text": [
      "256it [00:22, 11.15it/s]                                                                                               \n",
      "86it [00:02, 28.80it/s]                                                                                                \n"
     ]
    },
    {
     "name": "stdout",
     "output_type": "stream",
     "text": [
      "Train PSNR: 30.354\n",
      "Val PSNR: 30.073\n",
      "Epoch 323 of 500\n"
     ]
    },
    {
     "name": "stderr",
     "output_type": "stream",
     "text": [
      "256it [00:22, 11.14it/s]                                                                                               \n",
      "86it [00:02, 28.77it/s]                                                                                                \n"
     ]
    },
    {
     "name": "stdout",
     "output_type": "stream",
     "text": [
      "Train PSNR: 30.357\n",
      "Val PSNR: 30.079\n",
      "Epoch 324 of 500\n"
     ]
    },
    {
     "name": "stderr",
     "output_type": "stream",
     "text": [
      "256it [00:23, 11.12it/s]                                                                                               \n",
      "86it [00:02, 28.82it/s]                                                                                                \n"
     ]
    },
    {
     "name": "stdout",
     "output_type": "stream",
     "text": [
      "Train PSNR: 30.360\n",
      "Val PSNR: 30.079\n",
      "Epoch 325 of 500\n"
     ]
    },
    {
     "name": "stderr",
     "output_type": "stream",
     "text": [
      "256it [00:23, 11.13it/s]                                                                                               \n",
      "86it [00:02, 28.94it/s]                                                                                                \n"
     ]
    },
    {
     "name": "stdout",
     "output_type": "stream",
     "text": [
      "Train PSNR: 30.363\n",
      "Val PSNR: 30.081\n",
      "Epoch 326 of 500\n"
     ]
    },
    {
     "name": "stderr",
     "output_type": "stream",
     "text": [
      "256it [00:22, 11.16it/s]                                                                                               \n",
      "86it [00:02, 28.72it/s]                                                                                                \n"
     ]
    },
    {
     "name": "stdout",
     "output_type": "stream",
     "text": [
      "Train PSNR: 30.365\n",
      "Val PSNR: 30.080\n",
      "Epoch 327 of 500\n"
     ]
    },
    {
     "name": "stderr",
     "output_type": "stream",
     "text": [
      "256it [00:22, 11.15it/s]                                                                                               \n",
      "86it [00:02, 28.86it/s]                                                                                                \n"
     ]
    },
    {
     "name": "stdout",
     "output_type": "stream",
     "text": [
      "Train PSNR: 30.368\n",
      "Val PSNR: 30.081\n",
      "Epoch 328 of 500\n"
     ]
    },
    {
     "name": "stderr",
     "output_type": "stream",
     "text": [
      "256it [00:22, 11.15it/s]                                                                                               \n",
      "86it [00:02, 28.92it/s]                                                                                                \n"
     ]
    },
    {
     "name": "stdout",
     "output_type": "stream",
     "text": [
      "Train PSNR: 30.369\n",
      "Val PSNR: 30.081\n",
      "Epoch 329 of 500\n"
     ]
    },
    {
     "name": "stderr",
     "output_type": "stream",
     "text": [
      "256it [00:22, 11.17it/s]                                                                                               \n",
      "86it [00:02, 28.88it/s]                                                                                                \n"
     ]
    },
    {
     "name": "stdout",
     "output_type": "stream",
     "text": [
      "Train PSNR: 30.370\n",
      "Val PSNR: 30.083\n",
      "Epoch 330 of 500\n"
     ]
    },
    {
     "name": "stderr",
     "output_type": "stream",
     "text": [
      "256it [00:23, 11.13it/s]                                                                                               \n",
      "86it [00:02, 29.04it/s]                                                                                                \n"
     ]
    },
    {
     "name": "stdout",
     "output_type": "stream",
     "text": [
      "Train PSNR: 30.372\n",
      "Val PSNR: 30.082\n",
      "Epoch 331 of 500\n"
     ]
    },
    {
     "name": "stderr",
     "output_type": "stream",
     "text": [
      "256it [00:22, 11.18it/s]                                                                                               \n",
      "86it [00:02, 29.08it/s]                                                                                                \n"
     ]
    },
    {
     "name": "stdout",
     "output_type": "stream",
     "text": [
      "Train PSNR: 30.373\n",
      "Val PSNR: 30.081\n",
      "Epoch 332 of 500\n"
     ]
    },
    {
     "name": "stderr",
     "output_type": "stream",
     "text": [
      "256it [00:22, 11.18it/s]                                                                                               \n",
      "86it [00:02, 28.75it/s]                                                                                                \n"
     ]
    },
    {
     "name": "stdout",
     "output_type": "stream",
     "text": [
      "Train PSNR: 30.375\n",
      "Val PSNR: 30.080\n",
      "Epoch 333 of 500\n"
     ]
    },
    {
     "name": "stderr",
     "output_type": "stream",
     "text": [
      "256it [00:22, 11.15it/s]                                                                                               \n",
      "86it [00:02, 28.85it/s]                                                                                                \n"
     ]
    },
    {
     "name": "stdout",
     "output_type": "stream",
     "text": [
      "Train PSNR: 30.376\n",
      "Val PSNR: 30.085\n",
      "Epoch 334 of 500\n"
     ]
    },
    {
     "name": "stderr",
     "output_type": "stream",
     "text": [
      "256it [00:22, 11.15it/s]                                                                                               \n",
      "86it [00:02, 29.23it/s]                                                                                                \n"
     ]
    },
    {
     "name": "stdout",
     "output_type": "stream",
     "text": [
      "Train PSNR: 30.376\n",
      "Val PSNR: 30.084\n",
      "Epoch 335 of 500\n"
     ]
    },
    {
     "name": "stderr",
     "output_type": "stream",
     "text": [
      "256it [00:22, 11.19it/s]                                                                                               \n",
      "86it [00:02, 29.04it/s]                                                                                                \n"
     ]
    },
    {
     "name": "stdout",
     "output_type": "stream",
     "text": [
      "Train PSNR: 30.376\n",
      "Val PSNR: 30.091\n",
      "Epoch 336 of 500\n"
     ]
    },
    {
     "name": "stderr",
     "output_type": "stream",
     "text": [
      "256it [00:22, 11.22it/s]                                                                                               \n",
      "86it [00:02, 28.85it/s]                                                                                                \n"
     ]
    },
    {
     "name": "stdout",
     "output_type": "stream",
     "text": [
      "Train PSNR: 30.373\n",
      "Val PSNR: 30.084\n",
      "Epoch 337 of 500\n"
     ]
    },
    {
     "name": "stderr",
     "output_type": "stream",
     "text": [
      "256it [00:22, 11.16it/s]                                                                                               \n",
      "86it [00:02, 29.05it/s]                                                                                                \n"
     ]
    },
    {
     "name": "stdout",
     "output_type": "stream",
     "text": [
      "Train PSNR: 30.374\n",
      "Val PSNR: 30.088\n",
      "Epoch 338 of 500\n"
     ]
    },
    {
     "name": "stderr",
     "output_type": "stream",
     "text": [
      "256it [00:22, 11.20it/s]                                                                                               \n",
      "86it [00:02, 29.66it/s]                                                                                                \n"
     ]
    },
    {
     "name": "stdout",
     "output_type": "stream",
     "text": [
      "Train PSNR: 30.371\n",
      "Val PSNR: 30.090\n",
      "Epoch 339 of 500\n"
     ]
    },
    {
     "name": "stderr",
     "output_type": "stream",
     "text": [
      "256it [00:22, 11.21it/s]                                                                                               \n",
      "86it [00:02, 29.08it/s]                                                                                                \n"
     ]
    },
    {
     "name": "stdout",
     "output_type": "stream",
     "text": [
      "Train PSNR: 30.372\n",
      "Val PSNR: 30.096\n",
      "Epoch 340 of 500\n"
     ]
    },
    {
     "name": "stderr",
     "output_type": "stream",
     "text": [
      "256it [00:22, 11.23it/s]                                                                                               \n",
      "86it [00:02, 29.03it/s]                                                                                                \n"
     ]
    },
    {
     "name": "stdout",
     "output_type": "stream",
     "text": [
      "Train PSNR: 30.369\n",
      "Val PSNR: 30.100\n",
      "Epoch 341 of 500\n"
     ]
    },
    {
     "name": "stderr",
     "output_type": "stream",
     "text": [
      "256it [00:22, 11.19it/s]                                                                                               \n",
      "86it [00:02, 29.06it/s]                                                                                                \n"
     ]
    },
    {
     "name": "stdout",
     "output_type": "stream",
     "text": [
      "Train PSNR: 30.367\n",
      "Val PSNR: 30.111\n",
      "Epoch 342 of 500\n"
     ]
    },
    {
     "name": "stderr",
     "output_type": "stream",
     "text": [
      "256it [00:22, 11.18it/s]                                                                                               \n",
      "86it [00:02, 28.86it/s]                                                                                                \n"
     ]
    },
    {
     "name": "stdout",
     "output_type": "stream",
     "text": [
      "Train PSNR: 30.365\n",
      "Val PSNR: 30.117\n",
      "Epoch 343 of 500\n"
     ]
    },
    {
     "name": "stderr",
     "output_type": "stream",
     "text": [
      "256it [00:22, 11.16it/s]                                                                                               \n",
      "86it [00:02, 28.97it/s]                                                                                                \n"
     ]
    },
    {
     "name": "stdout",
     "output_type": "stream",
     "text": [
      "Train PSNR: 30.363\n",
      "Val PSNR: 30.120\n",
      "Epoch 344 of 500\n"
     ]
    },
    {
     "name": "stderr",
     "output_type": "stream",
     "text": [
      "256it [00:22, 11.16it/s]                                                                                               \n",
      "86it [00:02, 28.85it/s]                                                                                                \n"
     ]
    },
    {
     "name": "stdout",
     "output_type": "stream",
     "text": [
      "Train PSNR: 30.361\n",
      "Val PSNR: 30.112\n",
      "Epoch 345 of 500\n"
     ]
    },
    {
     "name": "stderr",
     "output_type": "stream",
     "text": [
      "256it [00:22, 11.23it/s]                                                                                               \n",
      "86it [00:02, 29.03it/s]                                                                                                \n"
     ]
    },
    {
     "name": "stdout",
     "output_type": "stream",
     "text": [
      "Train PSNR: 30.362\n",
      "Val PSNR: 30.100\n",
      "Epoch 346 of 500\n"
     ]
    },
    {
     "name": "stderr",
     "output_type": "stream",
     "text": [
      "256it [00:22, 11.16it/s]                                                                                               \n",
      "86it [00:02, 28.88it/s]                                                                                                \n"
     ]
    },
    {
     "name": "stdout",
     "output_type": "stream",
     "text": [
      "Train PSNR: 30.364\n",
      "Val PSNR: 30.092\n",
      "Epoch 347 of 500\n"
     ]
    },
    {
     "name": "stderr",
     "output_type": "stream",
     "text": [
      "256it [00:22, 11.17it/s]                                                                                               \n",
      "86it [00:02, 28.79it/s]                                                                                                \n"
     ]
    },
    {
     "name": "stdout",
     "output_type": "stream",
     "text": [
      "Train PSNR: 30.366\n",
      "Val PSNR: 30.093\n",
      "Epoch 348 of 500\n"
     ]
    },
    {
     "name": "stderr",
     "output_type": "stream",
     "text": [
      "256it [00:22, 11.16it/s]                                                                                               \n",
      "86it [00:02, 28.98it/s]                                                                                                \n"
     ]
    },
    {
     "name": "stdout",
     "output_type": "stream",
     "text": [
      "Train PSNR: 30.368\n",
      "Val PSNR: 30.086\n",
      "Epoch 349 of 500\n"
     ]
    },
    {
     "name": "stderr",
     "output_type": "stream",
     "text": [
      "256it [00:22, 11.16it/s]                                                                                               \n",
      "86it [00:02, 28.89it/s]                                                                                                \n"
     ]
    },
    {
     "name": "stdout",
     "output_type": "stream",
     "text": [
      "Train PSNR: 30.369\n",
      "Val PSNR: 30.087\n",
      "Epoch 350 of 500\n"
     ]
    },
    {
     "name": "stderr",
     "output_type": "stream",
     "text": [
      "256it [00:22, 11.16it/s]                                                                                               \n",
      "86it [00:02, 29.02it/s]                                                                                                \n"
     ]
    },
    {
     "name": "stdout",
     "output_type": "stream",
     "text": [
      "Train PSNR: 30.371\n",
      "Val PSNR: 30.094\n",
      "Epoch 351 of 500\n"
     ]
    },
    {
     "name": "stderr",
     "output_type": "stream",
     "text": [
      "256it [00:22, 11.16it/s]                                                                                               \n",
      "86it [00:02, 29.02it/s]                                                                                                \n"
     ]
    },
    {
     "name": "stdout",
     "output_type": "stream",
     "text": [
      "Train PSNR: 30.376\n",
      "Val PSNR: 30.096\n",
      "Epoch 352 of 500\n"
     ]
    },
    {
     "name": "stderr",
     "output_type": "stream",
     "text": [
      "256it [00:22, 11.16it/s]                                                                                               \n",
      "86it [00:02, 28.90it/s]                                                                                                \n"
     ]
    },
    {
     "name": "stdout",
     "output_type": "stream",
     "text": [
      "Train PSNR: 30.382\n",
      "Val PSNR: 30.101\n",
      "Epoch 353 of 500\n"
     ]
    },
    {
     "name": "stderr",
     "output_type": "stream",
     "text": [
      "256it [00:22, 11.14it/s]                                                                                               \n",
      "86it [00:02, 28.90it/s]                                                                                                \n"
     ]
    },
    {
     "name": "stdout",
     "output_type": "stream",
     "text": [
      "Train PSNR: 30.388\n",
      "Val PSNR: 30.103\n",
      "Epoch 354 of 500\n"
     ]
    },
    {
     "name": "stderr",
     "output_type": "stream",
     "text": [
      "256it [00:22, 11.14it/s]                                                                                               \n",
      "86it [00:02, 28.79it/s]                                                                                                \n"
     ]
    },
    {
     "name": "stdout",
     "output_type": "stream",
     "text": [
      "Train PSNR: 30.395\n",
      "Val PSNR: 30.107\n",
      "Epoch 355 of 500\n"
     ]
    },
    {
     "name": "stderr",
     "output_type": "stream",
     "text": [
      "256it [00:22, 11.13it/s]                                                                                               \n",
      "86it [00:02, 28.90it/s]                                                                                                \n"
     ]
    },
    {
     "name": "stdout",
     "output_type": "stream",
     "text": [
      "Train PSNR: 30.405\n",
      "Val PSNR: 30.115\n",
      "Epoch 356 of 500\n"
     ]
    },
    {
     "name": "stderr",
     "output_type": "stream",
     "text": [
      "256it [00:22, 11.19it/s]                                                                                               \n",
      "86it [00:02, 28.99it/s]                                                                                                \n"
     ]
    },
    {
     "name": "stdout",
     "output_type": "stream",
     "text": [
      "Train PSNR: 30.414\n",
      "Val PSNR: 30.116\n",
      "Epoch 357 of 500\n"
     ]
    },
    {
     "name": "stderr",
     "output_type": "stream",
     "text": [
      "256it [00:22, 11.16it/s]                                                                                               \n",
      "86it [00:02, 28.86it/s]                                                                                                \n"
     ]
    },
    {
     "name": "stdout",
     "output_type": "stream",
     "text": [
      "Train PSNR: 30.422\n",
      "Val PSNR: 30.119\n",
      "Epoch 358 of 500\n"
     ]
    },
    {
     "name": "stderr",
     "output_type": "stream",
     "text": [
      "256it [00:22, 11.14it/s]                                                                                               \n",
      "86it [00:02, 28.68it/s]                                                                                                \n"
     ]
    },
    {
     "name": "stdout",
     "output_type": "stream",
     "text": [
      "Train PSNR: 30.428\n",
      "Val PSNR: 30.123\n",
      "Epoch 359 of 500\n"
     ]
    },
    {
     "name": "stderr",
     "output_type": "stream",
     "text": [
      "256it [00:22, 11.17it/s]                                                                                               \n",
      "86it [00:02, 28.71it/s]                                                                                                \n"
     ]
    },
    {
     "name": "stdout",
     "output_type": "stream",
     "text": [
      "Train PSNR: 30.433\n",
      "Val PSNR: 30.127\n",
      "Epoch 360 of 500\n"
     ]
    },
    {
     "name": "stderr",
     "output_type": "stream",
     "text": [
      "256it [00:22, 11.17it/s]                                                                                               \n",
      "86it [00:02, 29.17it/s]                                                                                                \n"
     ]
    },
    {
     "name": "stdout",
     "output_type": "stream",
     "text": [
      "Train PSNR: 30.437\n",
      "Val PSNR: 30.128\n",
      "Epoch 361 of 500\n"
     ]
    },
    {
     "name": "stderr",
     "output_type": "stream",
     "text": [
      "256it [00:22, 11.14it/s]                                                                                               \n",
      "86it [00:02, 28.73it/s]                                                                                                \n"
     ]
    },
    {
     "name": "stdout",
     "output_type": "stream",
     "text": [
      "Train PSNR: 30.441\n",
      "Val PSNR: 30.129\n",
      "Epoch 362 of 500\n"
     ]
    },
    {
     "name": "stderr",
     "output_type": "stream",
     "text": [
      "256it [00:22, 11.14it/s]                                                                                               \n",
      "86it [00:02, 28.80it/s]                                                                                                \n"
     ]
    },
    {
     "name": "stdout",
     "output_type": "stream",
     "text": [
      "Train PSNR: 30.444\n",
      "Val PSNR: 30.127\n",
      "Epoch 363 of 500\n"
     ]
    },
    {
     "name": "stderr",
     "output_type": "stream",
     "text": [
      "256it [00:22, 11.14it/s]                                                                                               \n",
      "86it [00:02, 28.79it/s]                                                                                                \n"
     ]
    },
    {
     "name": "stdout",
     "output_type": "stream",
     "text": [
      "Train PSNR: 30.447\n",
      "Val PSNR: 30.129\n",
      "Epoch 364 of 500\n"
     ]
    },
    {
     "name": "stderr",
     "output_type": "stream",
     "text": [
      "256it [00:23, 11.11it/s]                                                                                               \n",
      "86it [00:02, 29.04it/s]                                                                                                \n"
     ]
    },
    {
     "name": "stdout",
     "output_type": "stream",
     "text": [
      "Train PSNR: 30.450\n",
      "Val PSNR: 30.132\n",
      "Epoch 365 of 500\n"
     ]
    },
    {
     "name": "stderr",
     "output_type": "stream",
     "text": [
      "256it [00:22, 11.16it/s]                                                                                               \n",
      "86it [00:02, 28.89it/s]                                                                                                \n"
     ]
    },
    {
     "name": "stdout",
     "output_type": "stream",
     "text": [
      "Train PSNR: 30.453\n",
      "Val PSNR: 30.133\n",
      "Epoch 366 of 500\n"
     ]
    },
    {
     "name": "stderr",
     "output_type": "stream",
     "text": [
      "256it [00:22, 11.15it/s]                                                                                               \n",
      "86it [00:03, 28.56it/s]                                                                                                \n"
     ]
    },
    {
     "name": "stdout",
     "output_type": "stream",
     "text": [
      "Train PSNR: 30.456\n",
      "Val PSNR: 30.132\n",
      "Epoch 367 of 500\n"
     ]
    },
    {
     "name": "stderr",
     "output_type": "stream",
     "text": [
      "256it [00:23, 11.11it/s]                                                                                               \n",
      "86it [00:03, 28.63it/s]                                                                                                \n"
     ]
    },
    {
     "name": "stdout",
     "output_type": "stream",
     "text": [
      "Train PSNR: 30.457\n",
      "Val PSNR: 30.135\n",
      "Epoch 368 of 500\n"
     ]
    },
    {
     "name": "stderr",
     "output_type": "stream",
     "text": [
      "256it [00:23, 11.10it/s]                                                                                               \n",
      "86it [00:03, 28.63it/s]                                                                                                \n"
     ]
    },
    {
     "name": "stdout",
     "output_type": "stream",
     "text": [
      "Train PSNR: 30.459\n",
      "Val PSNR: 30.135\n",
      "Epoch 369 of 500\n"
     ]
    },
    {
     "name": "stderr",
     "output_type": "stream",
     "text": [
      "256it [00:23, 11.04it/s]                                                                                               \n",
      "86it [00:03, 28.64it/s]                                                                                                \n"
     ]
    },
    {
     "name": "stdout",
     "output_type": "stream",
     "text": [
      "Train PSNR: 30.460\n",
      "Val PSNR: 30.134\n",
      "Epoch 370 of 500\n"
     ]
    },
    {
     "name": "stderr",
     "output_type": "stream",
     "text": [
      "256it [00:23, 11.11it/s]                                                                                               \n",
      "86it [00:03, 28.43it/s]                                                                                                \n"
     ]
    },
    {
     "name": "stdout",
     "output_type": "stream",
     "text": [
      "Train PSNR: 30.461\n",
      "Val PSNR: 30.133\n",
      "Epoch 371 of 500\n"
     ]
    },
    {
     "name": "stderr",
     "output_type": "stream",
     "text": [
      "256it [00:23, 11.08it/s]                                                                                               \n",
      "86it [00:02, 28.73it/s]                                                                                                \n"
     ]
    },
    {
     "name": "stdout",
     "output_type": "stream",
     "text": [
      "Train PSNR: 30.461\n",
      "Val PSNR: 30.136\n",
      "Epoch 372 of 500\n"
     ]
    },
    {
     "name": "stderr",
     "output_type": "stream",
     "text": [
      "256it [00:23, 11.13it/s]                                                                                               \n",
      "86it [00:03, 28.65it/s]                                                                                                \n"
     ]
    },
    {
     "name": "stdout",
     "output_type": "stream",
     "text": [
      "Train PSNR: 30.463\n",
      "Val PSNR: 30.137\n",
      "Epoch 373 of 500\n"
     ]
    },
    {
     "name": "stderr",
     "output_type": "stream",
     "text": [
      "256it [00:22, 11.13it/s]                                                                                               \n",
      "86it [00:03, 28.52it/s]                                                                                                \n"
     ]
    },
    {
     "name": "stdout",
     "output_type": "stream",
     "text": [
      "Train PSNR: 30.464\n",
      "Val PSNR: 30.136\n",
      "Epoch 374 of 500\n"
     ]
    },
    {
     "name": "stderr",
     "output_type": "stream",
     "text": [
      "256it [00:22, 11.13it/s]                                                                                               \n",
      "86it [00:03, 28.65it/s]                                                                                                \n"
     ]
    },
    {
     "name": "stdout",
     "output_type": "stream",
     "text": [
      "Train PSNR: 30.466\n",
      "Val PSNR: 30.134\n",
      "Epoch 375 of 500\n"
     ]
    },
    {
     "name": "stderr",
     "output_type": "stream",
     "text": [
      "256it [00:23, 11.11it/s]                                                                                               \n",
      "86it [00:02, 28.89it/s]                                                                                                \n"
     ]
    },
    {
     "name": "stdout",
     "output_type": "stream",
     "text": [
      "Train PSNR: 30.467\n",
      "Val PSNR: 30.135\n",
      "Epoch 376 of 500\n"
     ]
    },
    {
     "name": "stderr",
     "output_type": "stream",
     "text": [
      "256it [00:23, 11.09it/s]                                                                                               \n",
      "86it [00:03, 28.61it/s]                                                                                                \n"
     ]
    },
    {
     "name": "stdout",
     "output_type": "stream",
     "text": [
      "Train PSNR: 30.469\n",
      "Val PSNR: 30.137\n",
      "Epoch 377 of 500\n"
     ]
    },
    {
     "name": "stderr",
     "output_type": "stream",
     "text": [
      "256it [00:22, 11.14it/s]                                                                                               \n",
      "86it [00:02, 28.85it/s]                                                                                                \n"
     ]
    },
    {
     "name": "stdout",
     "output_type": "stream",
     "text": [
      "Train PSNR: 30.471\n",
      "Val PSNR: 30.133\n",
      "Epoch 378 of 500\n"
     ]
    },
    {
     "name": "stderr",
     "output_type": "stream",
     "text": [
      "256it [00:23, 11.10it/s]                                                                                               \n",
      "86it [00:03, 28.57it/s]                                                                                                \n"
     ]
    },
    {
     "name": "stdout",
     "output_type": "stream",
     "text": [
      "Train PSNR: 30.472\n",
      "Val PSNR: 30.132\n",
      "Epoch 379 of 500\n"
     ]
    },
    {
     "name": "stderr",
     "output_type": "stream",
     "text": [
      "256it [00:23, 11.09it/s]                                                                                               \n",
      "86it [00:02, 28.68it/s]                                                                                                \n"
     ]
    },
    {
     "name": "stdout",
     "output_type": "stream",
     "text": [
      "Train PSNR: 30.476\n",
      "Val PSNR: 30.132\n",
      "Epoch 380 of 500\n"
     ]
    },
    {
     "name": "stderr",
     "output_type": "stream",
     "text": [
      "256it [00:23, 11.08it/s]                                                                                               \n",
      "86it [00:02, 28.79it/s]                                                                                                \n"
     ]
    },
    {
     "name": "stdout",
     "output_type": "stream",
     "text": [
      "Train PSNR: 30.480\n",
      "Val PSNR: 30.135\n",
      "Epoch 381 of 500\n"
     ]
    },
    {
     "name": "stderr",
     "output_type": "stream",
     "text": [
      "256it [00:23, 11.11it/s]                                                                                               \n",
      "86it [00:03, 28.60it/s]                                                                                                \n"
     ]
    },
    {
     "name": "stdout",
     "output_type": "stream",
     "text": [
      "Train PSNR: 30.482\n",
      "Val PSNR: 30.140\n",
      "Epoch 382 of 500\n"
     ]
    },
    {
     "name": "stderr",
     "output_type": "stream",
     "text": [
      "256it [00:23, 11.09it/s]                                                                                               \n",
      "86it [00:02, 28.80it/s]                                                                                                \n"
     ]
    },
    {
     "name": "stdout",
     "output_type": "stream",
     "text": [
      "Train PSNR: 30.485\n",
      "Val PSNR: 30.138\n",
      "Epoch 383 of 500\n"
     ]
    },
    {
     "name": "stderr",
     "output_type": "stream",
     "text": [
      "256it [00:22, 11.13it/s]                                                                                               \n",
      "86it [00:02, 28.72it/s]                                                                                                \n"
     ]
    },
    {
     "name": "stdout",
     "output_type": "stream",
     "text": [
      "Train PSNR: 30.488\n",
      "Val PSNR: 30.141\n",
      "Epoch 384 of 500\n"
     ]
    },
    {
     "name": "stderr",
     "output_type": "stream",
     "text": [
      "256it [00:23, 11.10it/s]                                                                                               \n",
      "86it [00:03, 28.51it/s]                                                                                                \n"
     ]
    },
    {
     "name": "stdout",
     "output_type": "stream",
     "text": [
      "Train PSNR: 30.491\n",
      "Val PSNR: 30.144\n",
      "Epoch 385 of 500\n"
     ]
    },
    {
     "name": "stderr",
     "output_type": "stream",
     "text": [
      "256it [00:23, 11.11it/s]                                                                                               \n",
      "86it [00:02, 28.96it/s]                                                                                                \n"
     ]
    },
    {
     "name": "stdout",
     "output_type": "stream",
     "text": [
      "Train PSNR: 30.493\n",
      "Val PSNR: 30.146\n",
      "Epoch 386 of 500\n"
     ]
    },
    {
     "name": "stderr",
     "output_type": "stream",
     "text": [
      "256it [00:23, 11.11it/s]                                                                                               \n",
      "86it [00:02, 28.68it/s]                                                                                                \n"
     ]
    },
    {
     "name": "stdout",
     "output_type": "stream",
     "text": [
      "Train PSNR: 30.494\n",
      "Val PSNR: 30.151\n",
      "Epoch 387 of 500\n"
     ]
    },
    {
     "name": "stderr",
     "output_type": "stream",
     "text": [
      "256it [00:23, 11.11it/s]                                                                                               \n",
      "86it [00:03, 28.39it/s]                                                                                                \n"
     ]
    },
    {
     "name": "stdout",
     "output_type": "stream",
     "text": [
      "Train PSNR: 30.496\n",
      "Val PSNR: 30.152\n",
      "Epoch 388 of 500\n"
     ]
    },
    {
     "name": "stderr",
     "output_type": "stream",
     "text": [
      "256it [00:23, 11.02it/s]                                                                                               \n",
      "86it [00:03, 28.23it/s]                                                                                                \n"
     ]
    },
    {
     "name": "stdout",
     "output_type": "stream",
     "text": [
      "Train PSNR: 30.498\n",
      "Val PSNR: 30.154\n",
      "Epoch 389 of 500\n"
     ]
    },
    {
     "name": "stderr",
     "output_type": "stream",
     "text": [
      "256it [00:23, 11.05it/s]                                                                                               \n",
      "86it [00:02, 28.77it/s]                                                                                                \n"
     ]
    },
    {
     "name": "stdout",
     "output_type": "stream",
     "text": [
      "Train PSNR: 30.499\n",
      "Val PSNR: 30.155\n",
      "Epoch 390 of 500\n"
     ]
    },
    {
     "name": "stderr",
     "output_type": "stream",
     "text": [
      "256it [00:23, 11.04it/s]                                                                                               \n",
      "86it [00:03, 28.37it/s]                                                                                                \n"
     ]
    },
    {
     "name": "stdout",
     "output_type": "stream",
     "text": [
      "Train PSNR: 30.500\n",
      "Val PSNR: 30.153\n",
      "Epoch 391 of 500\n"
     ]
    },
    {
     "name": "stderr",
     "output_type": "stream",
     "text": [
      "256it [00:23, 10.94it/s]                                                                                               \n",
      "86it [00:03, 28.28it/s]                                                                                                \n"
     ]
    },
    {
     "name": "stdout",
     "output_type": "stream",
     "text": [
      "Train PSNR: 30.502\n",
      "Val PSNR: 30.155\n",
      "Epoch 392 of 500\n"
     ]
    },
    {
     "name": "stderr",
     "output_type": "stream",
     "text": [
      "256it [00:23, 10.94it/s]                                                                                               \n",
      "86it [00:03, 28.31it/s]                                                                                                \n"
     ]
    },
    {
     "name": "stdout",
     "output_type": "stream",
     "text": [
      "Train PSNR: 30.501\n",
      "Val PSNR: 30.155\n",
      "Epoch 393 of 500\n"
     ]
    },
    {
     "name": "stderr",
     "output_type": "stream",
     "text": [
      "256it [00:23, 10.99it/s]                                                                                               \n",
      "86it [00:03, 28.57it/s]                                                                                                \n"
     ]
    },
    {
     "name": "stdout",
     "output_type": "stream",
     "text": [
      "Train PSNR: 30.501\n",
      "Val PSNR: 30.155\n",
      "Epoch 394 of 500\n"
     ]
    },
    {
     "name": "stderr",
     "output_type": "stream",
     "text": [
      "256it [00:23, 11.04it/s]                                                                                               \n",
      "86it [00:03, 28.51it/s]                                                                                                \n"
     ]
    },
    {
     "name": "stdout",
     "output_type": "stream",
     "text": [
      "Train PSNR: 30.500\n",
      "Val PSNR: 30.156\n",
      "Epoch 395 of 500\n"
     ]
    },
    {
     "name": "stderr",
     "output_type": "stream",
     "text": [
      "256it [00:23, 11.05it/s]                                                                                               \n",
      "86it [00:03, 28.55it/s]                                                                                                \n"
     ]
    },
    {
     "name": "stdout",
     "output_type": "stream",
     "text": [
      "Train PSNR: 30.499\n",
      "Val PSNR: 30.157\n",
      "Epoch 396 of 500\n"
     ]
    },
    {
     "name": "stderr",
     "output_type": "stream",
     "text": [
      "256it [00:23, 11.12it/s]                                                                                               \n",
      "86it [00:03, 28.62it/s]                                                                                                \n"
     ]
    },
    {
     "name": "stdout",
     "output_type": "stream",
     "text": [
      "Train PSNR: 30.499\n",
      "Val PSNR: 30.157\n",
      "Epoch 397 of 500\n"
     ]
    },
    {
     "name": "stderr",
     "output_type": "stream",
     "text": [
      "256it [00:23, 11.12it/s]                                                                                               \n",
      "86it [00:03, 28.53it/s]                                                                                                \n"
     ]
    },
    {
     "name": "stdout",
     "output_type": "stream",
     "text": [
      "Train PSNR: 30.494\n",
      "Val PSNR: 30.160\n",
      "Epoch 398 of 500\n"
     ]
    },
    {
     "name": "stderr",
     "output_type": "stream",
     "text": [
      "256it [00:23, 11.08it/s]                                                                                               \n",
      "86it [00:03, 28.64it/s]                                                                                                \n"
     ]
    },
    {
     "name": "stdout",
     "output_type": "stream",
     "text": [
      "Train PSNR: 30.486\n",
      "Val PSNR: 30.156\n",
      "Epoch 399 of 500\n"
     ]
    },
    {
     "name": "stderr",
     "output_type": "stream",
     "text": [
      "256it [00:23, 11.12it/s]                                                                                               \n",
      "86it [00:02, 28.75it/s]                                                                                                \n"
     ]
    },
    {
     "name": "stdout",
     "output_type": "stream",
     "text": [
      "Train PSNR: 30.484\n",
      "Val PSNR: 30.151\n",
      "Epoch 400 of 500\n"
     ]
    },
    {
     "name": "stderr",
     "output_type": "stream",
     "text": [
      "256it [00:23, 11.08it/s]                                                                                               \n",
      "86it [00:03, 28.62it/s]                                                                                                \n"
     ]
    },
    {
     "name": "stdout",
     "output_type": "stream",
     "text": [
      "Train PSNR: 30.486\n",
      "Val PSNR: 30.148\n",
      "Epoch 401 of 500\n"
     ]
    },
    {
     "name": "stderr",
     "output_type": "stream",
     "text": [
      "256it [00:23, 11.11it/s]                                                                                               \n",
      "86it [00:03, 28.52it/s]                                                                                                \n"
     ]
    },
    {
     "name": "stdout",
     "output_type": "stream",
     "text": [
      "Train PSNR: 30.490\n",
      "Val PSNR: 30.148\n",
      "Epoch 402 of 500\n"
     ]
    },
    {
     "name": "stderr",
     "output_type": "stream",
     "text": [
      "256it [00:23, 11.06it/s]                                                                                               \n",
      "86it [00:03, 28.34it/s]                                                                                                \n"
     ]
    },
    {
     "name": "stdout",
     "output_type": "stream",
     "text": [
      "Train PSNR: 30.488\n",
      "Val PSNR: 30.148\n",
      "Epoch 403 of 500\n"
     ]
    },
    {
     "name": "stderr",
     "output_type": "stream",
     "text": [
      "256it [00:23, 11.03it/s]                                                                                               \n",
      "86it [00:03, 28.54it/s]                                                                                                \n"
     ]
    },
    {
     "name": "stdout",
     "output_type": "stream",
     "text": [
      "Train PSNR: 30.487\n",
      "Val PSNR: 30.141\n",
      "Epoch 404 of 500\n"
     ]
    },
    {
     "name": "stderr",
     "output_type": "stream",
     "text": [
      "256it [00:23, 11.02it/s]                                                                                               \n",
      "86it [00:03, 28.52it/s]                                                                                                \n"
     ]
    },
    {
     "name": "stdout",
     "output_type": "stream",
     "text": [
      "Train PSNR: 30.486\n",
      "Val PSNR: 30.138\n",
      "Epoch 405 of 500\n"
     ]
    },
    {
     "name": "stderr",
     "output_type": "stream",
     "text": [
      "256it [00:23, 11.02it/s]                                                                                               \n",
      "86it [00:02, 28.72it/s]                                                                                                \n"
     ]
    },
    {
     "name": "stdout",
     "output_type": "stream",
     "text": [
      "Train PSNR: 30.487\n",
      "Val PSNR: 30.136\n",
      "Epoch 406 of 500\n"
     ]
    },
    {
     "name": "stderr",
     "output_type": "stream",
     "text": [
      "256it [00:23, 11.07it/s]                                                                                               \n",
      "86it [00:02, 28.77it/s]                                                                                                \n"
     ]
    },
    {
     "name": "stdout",
     "output_type": "stream",
     "text": [
      "Train PSNR: 30.489\n",
      "Val PSNR: 30.141\n",
      "Epoch 407 of 500\n"
     ]
    },
    {
     "name": "stderr",
     "output_type": "stream",
     "text": [
      "256it [00:23, 11.05it/s]                                                                                               \n",
      "86it [00:03, 28.46it/s]                                                                                                \n"
     ]
    },
    {
     "name": "stdout",
     "output_type": "stream",
     "text": [
      "Train PSNR: 30.494\n",
      "Val PSNR: 30.142\n",
      "Epoch 408 of 500\n"
     ]
    },
    {
     "name": "stderr",
     "output_type": "stream",
     "text": [
      "256it [00:23, 11.07it/s]                                                                                               \n",
      "86it [00:02, 28.67it/s]                                                                                                \n"
     ]
    },
    {
     "name": "stdout",
     "output_type": "stream",
     "text": [
      "Train PSNR: 30.501\n",
      "Val PSNR: 30.151\n",
      "Epoch 409 of 500\n"
     ]
    },
    {
     "name": "stderr",
     "output_type": "stream",
     "text": [
      "256it [00:22, 11.13it/s]                                                                                               \n",
      "86it [00:02, 28.70it/s]                                                                                                \n"
     ]
    },
    {
     "name": "stdout",
     "output_type": "stream",
     "text": [
      "Train PSNR: 30.508\n",
      "Val PSNR: 30.160\n",
      "Epoch 410 of 500\n"
     ]
    },
    {
     "name": "stderr",
     "output_type": "stream",
     "text": [
      "256it [00:23, 11.10it/s]                                                                                               \n",
      "86it [00:03, 28.61it/s]                                                                                                \n"
     ]
    },
    {
     "name": "stdout",
     "output_type": "stream",
     "text": [
      "Train PSNR: 30.515\n",
      "Val PSNR: 30.168\n",
      "Epoch 411 of 500\n"
     ]
    },
    {
     "name": "stderr",
     "output_type": "stream",
     "text": [
      "256it [00:23, 10.99it/s]                                                                                               \n",
      "86it [00:03, 28.37it/s]                                                                                                \n"
     ]
    },
    {
     "name": "stdout",
     "output_type": "stream",
     "text": [
      "Train PSNR: 30.523\n",
      "Val PSNR: 30.168\n",
      "Epoch 412 of 500\n"
     ]
    },
    {
     "name": "stderr",
     "output_type": "stream",
     "text": [
      "256it [00:23, 11.01it/s]                                                                                               \n",
      "86it [00:03, 28.26it/s]                                                                                                \n"
     ]
    },
    {
     "name": "stdout",
     "output_type": "stream",
     "text": [
      "Train PSNR: 30.528\n",
      "Val PSNR: 30.175\n",
      "Epoch 413 of 500\n"
     ]
    },
    {
     "name": "stderr",
     "output_type": "stream",
     "text": [
      "256it [00:23, 11.11it/s]                                                                                               \n",
      "86it [00:02, 28.76it/s]                                                                                                \n"
     ]
    },
    {
     "name": "stdout",
     "output_type": "stream",
     "text": [
      "Train PSNR: 30.534\n",
      "Val PSNR: 30.180\n",
      "Epoch 414 of 500\n"
     ]
    },
    {
     "name": "stderr",
     "output_type": "stream",
     "text": [
      "256it [00:23, 11.07it/s]                                                                                               \n",
      "86it [00:02, 28.74it/s]                                                                                                \n"
     ]
    },
    {
     "name": "stdout",
     "output_type": "stream",
     "text": [
      "Train PSNR: 30.539\n",
      "Val PSNR: 30.185\n",
      "Epoch 415 of 500\n"
     ]
    },
    {
     "name": "stderr",
     "output_type": "stream",
     "text": [
      "256it [00:23, 11.12it/s]                                                                                               \n",
      "86it [00:03, 28.42it/s]                                                                                                \n"
     ]
    },
    {
     "name": "stdout",
     "output_type": "stream",
     "text": [
      "Train PSNR: 30.543\n",
      "Val PSNR: 30.188\n",
      "Epoch 416 of 500\n"
     ]
    },
    {
     "name": "stderr",
     "output_type": "stream",
     "text": [
      "256it [00:23, 11.10it/s]                                                                                               \n",
      "86it [00:03, 28.62it/s]                                                                                                \n"
     ]
    },
    {
     "name": "stdout",
     "output_type": "stream",
     "text": [
      "Train PSNR: 30.546\n",
      "Val PSNR: 30.190\n",
      "Epoch 417 of 500\n"
     ]
    },
    {
     "name": "stderr",
     "output_type": "stream",
     "text": [
      "256it [00:23, 11.13it/s]                                                                                               \n",
      "86it [00:03, 28.50it/s]                                                                                                \n"
     ]
    },
    {
     "name": "stdout",
     "output_type": "stream",
     "text": [
      "Train PSNR: 30.549\n",
      "Val PSNR: 30.192\n",
      "Epoch 418 of 500\n"
     ]
    },
    {
     "name": "stderr",
     "output_type": "stream",
     "text": [
      "256it [00:23, 11.05it/s]                                                                                               \n",
      "86it [00:03, 28.51it/s]                                                                                                \n"
     ]
    },
    {
     "name": "stdout",
     "output_type": "stream",
     "text": [
      "Train PSNR: 30.551\n",
      "Val PSNR: 30.195\n",
      "Epoch 419 of 500\n"
     ]
    },
    {
     "name": "stderr",
     "output_type": "stream",
     "text": [
      "256it [00:23, 11.09it/s]                                                                                               \n",
      "86it [00:03, 28.55it/s]                                                                                                \n"
     ]
    },
    {
     "name": "stdout",
     "output_type": "stream",
     "text": [
      "Train PSNR: 30.553\n",
      "Val PSNR: 30.196\n",
      "Epoch 420 of 500\n"
     ]
    },
    {
     "name": "stderr",
     "output_type": "stream",
     "text": [
      "256it [00:23, 11.09it/s]                                                                                               \n",
      "86it [00:03, 28.45it/s]                                                                                                \n"
     ]
    },
    {
     "name": "stdout",
     "output_type": "stream",
     "text": [
      "Train PSNR: 30.556\n",
      "Val PSNR: 30.198\n",
      "Epoch 421 of 500\n"
     ]
    },
    {
     "name": "stderr",
     "output_type": "stream",
     "text": [
      "256it [00:23, 11.07it/s]                                                                                               \n",
      "86it [00:03, 28.20it/s]                                                                                                \n"
     ]
    },
    {
     "name": "stdout",
     "output_type": "stream",
     "text": [
      "Train PSNR: 30.557\n",
      "Val PSNR: 30.197\n",
      "Epoch 422 of 500\n"
     ]
    },
    {
     "name": "stderr",
     "output_type": "stream",
     "text": [
      "256it [00:23, 11.04it/s]                                                                                               \n",
      "86it [00:03, 28.41it/s]                                                                                                \n"
     ]
    },
    {
     "name": "stdout",
     "output_type": "stream",
     "text": [
      "Train PSNR: 30.558\n",
      "Val PSNR: 30.196\n",
      "Epoch 423 of 500\n"
     ]
    },
    {
     "name": "stderr",
     "output_type": "stream",
     "text": [
      "256it [00:23, 11.05it/s]                                                                                               \n",
      "86it [00:03, 28.44it/s]                                                                                                \n"
     ]
    },
    {
     "name": "stdout",
     "output_type": "stream",
     "text": [
      "Train PSNR: 30.560\n",
      "Val PSNR: 30.197\n",
      "Epoch 424 of 500\n"
     ]
    },
    {
     "name": "stderr",
     "output_type": "stream",
     "text": [
      "256it [00:23, 11.11it/s]                                                                                               \n",
      "86it [00:03, 28.57it/s]                                                                                                \n"
     ]
    },
    {
     "name": "stdout",
     "output_type": "stream",
     "text": [
      "Train PSNR: 30.561\n",
      "Val PSNR: 30.198\n",
      "Epoch 425 of 500\n"
     ]
    },
    {
     "name": "stderr",
     "output_type": "stream",
     "text": [
      "256it [00:23, 11.09it/s]                                                                                               \n",
      "86it [00:03, 28.62it/s]                                                                                                \n"
     ]
    },
    {
     "name": "stdout",
     "output_type": "stream",
     "text": [
      "Train PSNR: 30.559\n",
      "Val PSNR: 30.197\n",
      "Epoch 426 of 500\n"
     ]
    },
    {
     "name": "stderr",
     "output_type": "stream",
     "text": [
      "256it [00:23, 11.06it/s]                                                                                               \n",
      "86it [00:03, 28.67it/s]                                                                                                \n"
     ]
    },
    {
     "name": "stdout",
     "output_type": "stream",
     "text": [
      "Train PSNR: 30.561\n",
      "Val PSNR: 30.199\n",
      "Epoch 427 of 500\n"
     ]
    },
    {
     "name": "stderr",
     "output_type": "stream",
     "text": [
      "256it [00:23, 11.11it/s]                                                                                               \n",
      "86it [00:03, 28.55it/s]                                                                                                \n"
     ]
    },
    {
     "name": "stdout",
     "output_type": "stream",
     "text": [
      "Train PSNR: 30.559\n",
      "Val PSNR: 30.196\n",
      "Epoch 428 of 500\n"
     ]
    },
    {
     "name": "stderr",
     "output_type": "stream",
     "text": [
      "256it [00:23, 11.08it/s]                                                                                               \n",
      "86it [00:03, 28.49it/s]                                                                                                \n"
     ]
    },
    {
     "name": "stdout",
     "output_type": "stream",
     "text": [
      "Train PSNR: 30.556\n",
      "Val PSNR: 30.193\n",
      "Epoch 429 of 500\n"
     ]
    },
    {
     "name": "stderr",
     "output_type": "stream",
     "text": [
      "256it [00:23, 11.07it/s]                                                                                               \n",
      "86it [00:03, 28.36it/s]                                                                                                \n"
     ]
    },
    {
     "name": "stdout",
     "output_type": "stream",
     "text": [
      "Train PSNR: 30.556\n",
      "Val PSNR: 30.198\n",
      "Epoch 430 of 500\n"
     ]
    },
    {
     "name": "stderr",
     "output_type": "stream",
     "text": [
      "256it [00:23, 11.01it/s]                                                                                               \n",
      "86it [00:03, 28.43it/s]                                                                                                \n"
     ]
    },
    {
     "name": "stdout",
     "output_type": "stream",
     "text": [
      "Train PSNR: 30.561\n",
      "Val PSNR: 30.200\n",
      "Epoch 431 of 500\n"
     ]
    },
    {
     "name": "stderr",
     "output_type": "stream",
     "text": [
      "256it [00:23, 11.09it/s]                                                                                               \n",
      "86it [00:03, 28.60it/s]                                                                                                \n"
     ]
    },
    {
     "name": "stdout",
     "output_type": "stream",
     "text": [
      "Train PSNR: 30.564\n",
      "Val PSNR: 30.202\n",
      "Epoch 432 of 500\n"
     ]
    },
    {
     "name": "stderr",
     "output_type": "stream",
     "text": [
      "256it [00:23, 11.07it/s]                                                                                               \n",
      "86it [00:03, 28.59it/s]                                                                                                \n"
     ]
    },
    {
     "name": "stdout",
     "output_type": "stream",
     "text": [
      "Train PSNR: 30.566\n",
      "Val PSNR: 30.202\n",
      "Epoch 433 of 500\n"
     ]
    },
    {
     "name": "stderr",
     "output_type": "stream",
     "text": [
      "256it [00:23, 11.03it/s]                                                                                               \n",
      "86it [00:03, 28.30it/s]                                                                                                \n"
     ]
    },
    {
     "name": "stdout",
     "output_type": "stream",
     "text": [
      "Train PSNR: 30.567\n",
      "Val PSNR: 30.204\n",
      "Epoch 434 of 500\n"
     ]
    },
    {
     "name": "stderr",
     "output_type": "stream",
     "text": [
      "256it [00:23, 10.94it/s]                                                                                               \n",
      "86it [00:03, 28.29it/s]                                                                                                \n"
     ]
    },
    {
     "name": "stdout",
     "output_type": "stream",
     "text": [
      "Train PSNR: 30.569\n",
      "Val PSNR: 30.199\n",
      "Epoch 435 of 500\n"
     ]
    },
    {
     "name": "stderr",
     "output_type": "stream",
     "text": [
      "256it [00:23, 11.05it/s]                                                                                               \n",
      "86it [00:03, 28.58it/s]                                                                                                \n"
     ]
    },
    {
     "name": "stdout",
     "output_type": "stream",
     "text": [
      "Train PSNR: 30.569\n",
      "Val PSNR: 30.193\n",
      "Epoch 436 of 500\n"
     ]
    },
    {
     "name": "stderr",
     "output_type": "stream",
     "text": [
      "256it [00:23, 11.11it/s]                                                                                               \n",
      "86it [00:03, 28.63it/s]                                                                                                \n"
     ]
    },
    {
     "name": "stdout",
     "output_type": "stream",
     "text": [
      "Train PSNR: 30.568\n",
      "Val PSNR: 30.185\n",
      "Epoch 437 of 500\n"
     ]
    },
    {
     "name": "stderr",
     "output_type": "stream",
     "text": [
      "256it [00:23, 11.11it/s]                                                                                               \n",
      "86it [00:03, 28.50it/s]                                                                                                \n"
     ]
    },
    {
     "name": "stdout",
     "output_type": "stream",
     "text": [
      "Train PSNR: 30.565\n",
      "Val PSNR: 30.182\n",
      "Epoch 438 of 500\n"
     ]
    },
    {
     "name": "stderr",
     "output_type": "stream",
     "text": [
      "256it [00:22, 11.14it/s]                                                                                               \n",
      "86it [00:02, 28.82it/s]                                                                                                \n"
     ]
    },
    {
     "name": "stdout",
     "output_type": "stream",
     "text": [
      "Train PSNR: 30.557\n",
      "Val PSNR: 30.178\n",
      "Epoch 439 of 500\n"
     ]
    },
    {
     "name": "stderr",
     "output_type": "stream",
     "text": [
      "256it [00:22, 11.15it/s]                                                                                               \n",
      "86it [00:03, 28.58it/s]                                                                                                \n"
     ]
    },
    {
     "name": "stdout",
     "output_type": "stream",
     "text": [
      "Train PSNR: 30.555\n",
      "Val PSNR: 30.177\n",
      "Epoch 440 of 500\n"
     ]
    },
    {
     "name": "stderr",
     "output_type": "stream",
     "text": [
      "256it [00:23, 11.12it/s]                                                                                               \n",
      "86it [00:03, 28.60it/s]                                                                                                \n"
     ]
    },
    {
     "name": "stdout",
     "output_type": "stream",
     "text": [
      "Train PSNR: 30.557\n",
      "Val PSNR: 30.177\n",
      "Epoch 441 of 500\n"
     ]
    },
    {
     "name": "stderr",
     "output_type": "stream",
     "text": [
      "256it [00:23, 11.12it/s]                                                                                               \n",
      "86it [00:02, 28.98it/s]                                                                                                \n"
     ]
    },
    {
     "name": "stdout",
     "output_type": "stream",
     "text": [
      "Train PSNR: 30.558\n",
      "Val PSNR: 30.173\n",
      "Epoch 442 of 500\n"
     ]
    },
    {
     "name": "stderr",
     "output_type": "stream",
     "text": [
      "256it [00:23, 11.13it/s]                                                                                               \n",
      "86it [00:03, 28.46it/s]                                                                                                \n"
     ]
    },
    {
     "name": "stdout",
     "output_type": "stream",
     "text": [
      "Train PSNR: 30.560\n",
      "Val PSNR: 30.173\n",
      "Epoch 443 of 500\n"
     ]
    },
    {
     "name": "stderr",
     "output_type": "stream",
     "text": [
      "256it [00:23, 11.09it/s]                                                                                               \n",
      "86it [00:03, 28.55it/s]                                                                                                \n"
     ]
    },
    {
     "name": "stdout",
     "output_type": "stream",
     "text": [
      "Train PSNR: 30.558\n",
      "Val PSNR: 30.166\n",
      "Epoch 444 of 500\n"
     ]
    },
    {
     "name": "stderr",
     "output_type": "stream",
     "text": [
      "256it [00:23, 11.12it/s]                                                                                               \n",
      "86it [00:02, 28.75it/s]                                                                                                \n"
     ]
    },
    {
     "name": "stdout",
     "output_type": "stream",
     "text": [
      "Train PSNR: 30.555\n",
      "Val PSNR: 30.156\n",
      "Epoch 445 of 500\n"
     ]
    },
    {
     "name": "stderr",
     "output_type": "stream",
     "text": [
      "256it [00:22, 11.15it/s]                                                                                               \n",
      "86it [00:02, 28.79it/s]                                                                                                \n"
     ]
    },
    {
     "name": "stdout",
     "output_type": "stream",
     "text": [
      "Train PSNR: 30.547\n",
      "Val PSNR: 30.145\n",
      "Epoch 446 of 500\n"
     ]
    },
    {
     "name": "stderr",
     "output_type": "stream",
     "text": [
      "256it [00:23, 11.11it/s]                                                                                               \n",
      "86it [00:02, 28.73it/s]                                                                                                \n"
     ]
    },
    {
     "name": "stdout",
     "output_type": "stream",
     "text": [
      "Train PSNR: 30.534\n",
      "Val PSNR: 30.141\n",
      "Epoch 447 of 500\n"
     ]
    },
    {
     "name": "stderr",
     "output_type": "stream",
     "text": [
      "256it [00:23, 11.04it/s]                                                                                               \n",
      "86it [00:02, 28.82it/s]                                                                                                \n"
     ]
    },
    {
     "name": "stdout",
     "output_type": "stream",
     "text": [
      "Train PSNR: 30.530\n",
      "Val PSNR: 30.170\n",
      "Epoch 448 of 500\n"
     ]
    },
    {
     "name": "stderr",
     "output_type": "stream",
     "text": [
      "256it [00:23, 11.11it/s]                                                                                               \n",
      "86it [00:02, 28.71it/s]                                                                                                \n"
     ]
    },
    {
     "name": "stdout",
     "output_type": "stream",
     "text": [
      "Train PSNR: 30.536\n",
      "Val PSNR: 30.188\n",
      "Epoch 449 of 500\n"
     ]
    },
    {
     "name": "stderr",
     "output_type": "stream",
     "text": [
      "256it [00:23, 11.12it/s]                                                                                               \n",
      "86it [00:02, 28.95it/s]                                                                                                \n"
     ]
    },
    {
     "name": "stdout",
     "output_type": "stream",
     "text": [
      "Train PSNR: 30.544\n",
      "Val PSNR: 30.190\n",
      "Epoch 450 of 500\n"
     ]
    },
    {
     "name": "stderr",
     "output_type": "stream",
     "text": [
      "256it [00:22, 11.16it/s]                                                                                               \n",
      "86it [00:02, 28.69it/s]                                                                                                \n"
     ]
    },
    {
     "name": "stdout",
     "output_type": "stream",
     "text": [
      "Train PSNR: 30.550\n",
      "Val PSNR: 30.193\n",
      "Epoch 451 of 500\n"
     ]
    },
    {
     "name": "stderr",
     "output_type": "stream",
     "text": [
      "256it [00:22, 11.15it/s]                                                                                               \n",
      "86it [00:02, 28.81it/s]                                                                                                \n"
     ]
    },
    {
     "name": "stdout",
     "output_type": "stream",
     "text": [
      "Train PSNR: 30.558\n",
      "Val PSNR: 30.191\n",
      "Epoch 452 of 500\n"
     ]
    },
    {
     "name": "stderr",
     "output_type": "stream",
     "text": [
      "256it [00:22, 11.15it/s]                                                                                               \n",
      "86it [00:02, 28.77it/s]                                                                                                \n"
     ]
    },
    {
     "name": "stdout",
     "output_type": "stream",
     "text": [
      "Train PSNR: 30.565\n",
      "Val PSNR: 30.190\n",
      "Epoch 453 of 500\n"
     ]
    },
    {
     "name": "stderr",
     "output_type": "stream",
     "text": [
      "256it [00:22, 11.14it/s]                                                                                               \n",
      "86it [00:03, 28.66it/s]                                                                                                \n"
     ]
    },
    {
     "name": "stdout",
     "output_type": "stream",
     "text": [
      "Train PSNR: 30.571\n",
      "Val PSNR: 30.190\n",
      "Epoch 454 of 500\n"
     ]
    },
    {
     "name": "stderr",
     "output_type": "stream",
     "text": [
      "256it [00:22, 11.15it/s]                                                                                               \n",
      "86it [00:02, 28.82it/s]                                                                                                \n"
     ]
    },
    {
     "name": "stdout",
     "output_type": "stream",
     "text": [
      "Train PSNR: 30.577\n",
      "Val PSNR: 30.187\n",
      "Epoch 455 of 500\n"
     ]
    },
    {
     "name": "stderr",
     "output_type": "stream",
     "text": [
      "256it [00:22, 11.15it/s]                                                                                               \n",
      "86it [00:02, 29.00it/s]                                                                                                \n"
     ]
    },
    {
     "name": "stdout",
     "output_type": "stream",
     "text": [
      "Train PSNR: 30.586\n",
      "Val PSNR: 30.193\n",
      "Epoch 456 of 500\n"
     ]
    },
    {
     "name": "stderr",
     "output_type": "stream",
     "text": [
      "256it [00:22, 11.16it/s]                                                                                               \n",
      "86it [00:02, 29.10it/s]                                                                                                \n"
     ]
    },
    {
     "name": "stdout",
     "output_type": "stream",
     "text": [
      "Train PSNR: 30.593\n",
      "Val PSNR: 30.195\n",
      "Epoch 457 of 500\n"
     ]
    },
    {
     "name": "stderr",
     "output_type": "stream",
     "text": [
      "256it [00:22, 11.18it/s]                                                                                               \n",
      "86it [00:02, 28.96it/s]                                                                                                \n"
     ]
    },
    {
     "name": "stdout",
     "output_type": "stream",
     "text": [
      "Train PSNR: 30.600\n",
      "Val PSNR: 30.202\n",
      "Epoch 458 of 500\n"
     ]
    },
    {
     "name": "stderr",
     "output_type": "stream",
     "text": [
      "256it [00:22, 11.19it/s]                                                                                               \n",
      "86it [00:02, 28.89it/s]                                                                                                \n"
     ]
    },
    {
     "name": "stdout",
     "output_type": "stream",
     "text": [
      "Train PSNR: 30.606\n",
      "Val PSNR: 30.206\n",
      "Epoch 459 of 500\n"
     ]
    },
    {
     "name": "stderr",
     "output_type": "stream",
     "text": [
      "256it [00:22, 11.18it/s]                                                                                               \n",
      "86it [00:02, 28.83it/s]                                                                                                \n"
     ]
    },
    {
     "name": "stdout",
     "output_type": "stream",
     "text": [
      "Train PSNR: 30.611\n",
      "Val PSNR: 30.210\n",
      "Epoch 460 of 500\n"
     ]
    },
    {
     "name": "stderr",
     "output_type": "stream",
     "text": [
      "256it [00:22, 11.20it/s]                                                                                               \n",
      "86it [00:02, 29.03it/s]                                                                                                \n"
     ]
    },
    {
     "name": "stdout",
     "output_type": "stream",
     "text": [
      "Train PSNR: 30.614\n",
      "Val PSNR: 30.213\n",
      "Epoch 461 of 500\n"
     ]
    },
    {
     "name": "stderr",
     "output_type": "stream",
     "text": [
      "256it [00:22, 11.18it/s]                                                                                               \n",
      "86it [00:02, 29.04it/s]                                                                                                \n"
     ]
    },
    {
     "name": "stdout",
     "output_type": "stream",
     "text": [
      "Train PSNR: 30.618\n",
      "Val PSNR: 30.215\n",
      "Epoch 462 of 500\n"
     ]
    },
    {
     "name": "stderr",
     "output_type": "stream",
     "text": [
      "256it [00:22, 11.21it/s]                                                                                               \n",
      "86it [00:02, 29.02it/s]                                                                                                \n"
     ]
    },
    {
     "name": "stdout",
     "output_type": "stream",
     "text": [
      "Train PSNR: 30.620\n",
      "Val PSNR: 30.220\n",
      "Epoch 463 of 500\n"
     ]
    },
    {
     "name": "stderr",
     "output_type": "stream",
     "text": [
      "256it [00:22, 11.14it/s]                                                                                               \n",
      "86it [00:02, 28.84it/s]                                                                                                \n"
     ]
    },
    {
     "name": "stdout",
     "output_type": "stream",
     "text": [
      "Train PSNR: 30.623\n",
      "Val PSNR: 30.221\n",
      "Epoch 464 of 500\n"
     ]
    },
    {
     "name": "stderr",
     "output_type": "stream",
     "text": [
      "256it [00:22, 11.17it/s]                                                                                               \n",
      "86it [00:02, 28.88it/s]                                                                                                \n"
     ]
    },
    {
     "name": "stdout",
     "output_type": "stream",
     "text": [
      "Train PSNR: 30.624\n",
      "Val PSNR: 30.224\n",
      "Epoch 465 of 500\n"
     ]
    },
    {
     "name": "stderr",
     "output_type": "stream",
     "text": [
      "256it [00:22, 11.14it/s]                                                                                               \n",
      "86it [00:02, 29.32it/s]                                                                                                \n"
     ]
    },
    {
     "name": "stdout",
     "output_type": "stream",
     "text": [
      "Train PSNR: 30.627\n",
      "Val PSNR: 30.223\n",
      "Epoch 466 of 500\n"
     ]
    },
    {
     "name": "stderr",
     "output_type": "stream",
     "text": [
      "256it [00:22, 11.15it/s]                                                                                               \n",
      "86it [00:02, 28.98it/s]                                                                                                \n"
     ]
    },
    {
     "name": "stdout",
     "output_type": "stream",
     "text": [
      "Train PSNR: 30.628\n",
      "Val PSNR: 30.223\n",
      "Epoch 467 of 500\n"
     ]
    },
    {
     "name": "stderr",
     "output_type": "stream",
     "text": [
      "256it [00:22, 11.20it/s]                                                                                               \n",
      "86it [00:02, 29.06it/s]                                                                                                \n"
     ]
    },
    {
     "name": "stdout",
     "output_type": "stream",
     "text": [
      "Train PSNR: 30.630\n",
      "Val PSNR: 30.222\n",
      "Epoch 468 of 500\n"
     ]
    },
    {
     "name": "stderr",
     "output_type": "stream",
     "text": [
      "256it [00:22, 11.16it/s]                                                                                               \n",
      "86it [00:02, 28.92it/s]                                                                                                \n"
     ]
    },
    {
     "name": "stdout",
     "output_type": "stream",
     "text": [
      "Train PSNR: 30.632\n",
      "Val PSNR: 30.222\n",
      "Epoch 469 of 500\n"
     ]
    },
    {
     "name": "stderr",
     "output_type": "stream",
     "text": [
      "256it [00:22, 11.16it/s]                                                                                               \n",
      "86it [00:02, 28.97it/s]                                                                                                \n"
     ]
    },
    {
     "name": "stdout",
     "output_type": "stream",
     "text": [
      "Train PSNR: 30.634\n",
      "Val PSNR: 30.222\n",
      "Epoch 470 of 500\n"
     ]
    },
    {
     "name": "stderr",
     "output_type": "stream",
     "text": [
      "256it [00:22, 11.14it/s]                                                                                               \n",
      "86it [00:02, 28.90it/s]                                                                                                \n"
     ]
    },
    {
     "name": "stdout",
     "output_type": "stream",
     "text": [
      "Train PSNR: 30.634\n",
      "Val PSNR: 30.218\n",
      "Epoch 471 of 500\n"
     ]
    },
    {
     "name": "stderr",
     "output_type": "stream",
     "text": [
      "256it [00:22, 11.16it/s]                                                                                               \n",
      "86it [00:02, 28.92it/s]                                                                                                \n"
     ]
    },
    {
     "name": "stdout",
     "output_type": "stream",
     "text": [
      "Train PSNR: 30.635\n",
      "Val PSNR: 30.219\n",
      "Epoch 472 of 500\n"
     ]
    },
    {
     "name": "stderr",
     "output_type": "stream",
     "text": [
      "256it [00:22, 11.15it/s]                                                                                               \n",
      "86it [00:02, 29.01it/s]                                                                                                \n"
     ]
    },
    {
     "name": "stdout",
     "output_type": "stream",
     "text": [
      "Train PSNR: 30.636\n",
      "Val PSNR: 30.216\n",
      "Epoch 473 of 500\n"
     ]
    },
    {
     "name": "stderr",
     "output_type": "stream",
     "text": [
      "256it [00:23, 11.13it/s]                                                                                               \n",
      "86it [00:02, 29.10it/s]                                                                                                \n"
     ]
    },
    {
     "name": "stdout",
     "output_type": "stream",
     "text": [
      "Train PSNR: 30.636\n",
      "Val PSNR: 30.213\n",
      "Epoch 474 of 500\n"
     ]
    },
    {
     "name": "stderr",
     "output_type": "stream",
     "text": [
      "256it [00:22, 11.17it/s]                                                                                               \n",
      "86it [00:02, 28.96it/s]                                                                                                \n"
     ]
    },
    {
     "name": "stdout",
     "output_type": "stream",
     "text": [
      "Train PSNR: 30.634\n",
      "Val PSNR: 30.215\n",
      "Epoch 475 of 500\n"
     ]
    },
    {
     "name": "stderr",
     "output_type": "stream",
     "text": [
      "256it [00:22, 11.22it/s]                                                                                               \n",
      "86it [00:02, 28.93it/s]                                                                                                \n"
     ]
    },
    {
     "name": "stdout",
     "output_type": "stream",
     "text": [
      "Train PSNR: 30.631\n",
      "Val PSNR: 30.212\n",
      "Epoch 476 of 500\n"
     ]
    },
    {
     "name": "stderr",
     "output_type": "stream",
     "text": [
      "256it [00:22, 11.23it/s]                                                                                               \n",
      "86it [00:02, 28.89it/s]                                                                                                \n"
     ]
    },
    {
     "name": "stdout",
     "output_type": "stream",
     "text": [
      "Train PSNR: 30.631\n",
      "Val PSNR: 30.215\n",
      "Epoch 477 of 500\n"
     ]
    },
    {
     "name": "stderr",
     "output_type": "stream",
     "text": [
      "256it [00:22, 11.19it/s]                                                                                               \n",
      "86it [00:02, 29.30it/s]                                                                                                \n"
     ]
    },
    {
     "name": "stdout",
     "output_type": "stream",
     "text": [
      "Train PSNR: 30.634\n",
      "Val PSNR: 30.223\n",
      "Epoch 478 of 500\n"
     ]
    },
    {
     "name": "stderr",
     "output_type": "stream",
     "text": [
      "256it [00:22, 11.19it/s]                                                                                               \n",
      "86it [00:02, 29.20it/s]                                                                                                \n"
     ]
    },
    {
     "name": "stdout",
     "output_type": "stream",
     "text": [
      "Train PSNR: 30.639\n",
      "Val PSNR: 30.228\n",
      "Epoch 479 of 500\n"
     ]
    },
    {
     "name": "stderr",
     "output_type": "stream",
     "text": [
      "256it [00:22, 11.22it/s]                                                                                               \n",
      "86it [00:02, 28.99it/s]                                                                                                \n"
     ]
    },
    {
     "name": "stdout",
     "output_type": "stream",
     "text": [
      "Train PSNR: 30.642\n",
      "Val PSNR: 30.230\n",
      "Epoch 480 of 500\n"
     ]
    },
    {
     "name": "stderr",
     "output_type": "stream",
     "text": [
      "256it [00:22, 11.21it/s]                                                                                               \n",
      "86it [00:02, 28.87it/s]                                                                                                \n"
     ]
    },
    {
     "name": "stdout",
     "output_type": "stream",
     "text": [
      "Train PSNR: 30.644\n",
      "Val PSNR: 30.230\n",
      "Epoch 481 of 500\n"
     ]
    },
    {
     "name": "stderr",
     "output_type": "stream",
     "text": [
      "256it [00:22, 11.18it/s]                                                                                               \n",
      "86it [00:02, 29.08it/s]                                                                                                \n"
     ]
    },
    {
     "name": "stdout",
     "output_type": "stream",
     "text": [
      "Train PSNR: 30.647\n",
      "Val PSNR: 30.230\n",
      "Epoch 482 of 500\n"
     ]
    },
    {
     "name": "stderr",
     "output_type": "stream",
     "text": [
      "256it [00:22, 11.21it/s]                                                                                               \n",
      "86it [00:02, 29.12it/s]                                                                                                \n"
     ]
    },
    {
     "name": "stdout",
     "output_type": "stream",
     "text": [
      "Train PSNR: 30.650\n",
      "Val PSNR: 30.231\n",
      "Epoch 483 of 500\n"
     ]
    },
    {
     "name": "stderr",
     "output_type": "stream",
     "text": [
      "256it [00:22, 11.18it/s]                                                                                               \n",
      "86it [00:02, 29.08it/s]                                                                                                \n"
     ]
    },
    {
     "name": "stdout",
     "output_type": "stream",
     "text": [
      "Train PSNR: 30.652\n",
      "Val PSNR: 30.233\n",
      "Epoch 484 of 500\n"
     ]
    },
    {
     "name": "stderr",
     "output_type": "stream",
     "text": [
      "256it [00:22, 11.19it/s]                                                                                               \n",
      "86it [00:02, 29.00it/s]                                                                                                \n"
     ]
    },
    {
     "name": "stdout",
     "output_type": "stream",
     "text": [
      "Train PSNR: 30.655\n",
      "Val PSNR: 30.233\n",
      "Epoch 485 of 500\n"
     ]
    },
    {
     "name": "stderr",
     "output_type": "stream",
     "text": [
      "256it [00:22, 11.17it/s]                                                                                               \n",
      "86it [00:02, 29.02it/s]                                                                                                \n"
     ]
    },
    {
     "name": "stdout",
     "output_type": "stream",
     "text": [
      "Train PSNR: 30.656\n",
      "Val PSNR: 30.230\n",
      "Epoch 486 of 500\n"
     ]
    },
    {
     "name": "stderr",
     "output_type": "stream",
     "text": [
      "256it [00:22, 11.14it/s]                                                                                               \n",
      "86it [00:02, 28.93it/s]                                                                                                \n"
     ]
    },
    {
     "name": "stdout",
     "output_type": "stream",
     "text": [
      "Train PSNR: 30.659\n",
      "Val PSNR: 30.229\n",
      "Epoch 487 of 500\n"
     ]
    },
    {
     "name": "stderr",
     "output_type": "stream",
     "text": [
      "256it [00:22, 11.20it/s]                                                                                               \n",
      "86it [00:02, 28.90it/s]                                                                                                \n"
     ]
    },
    {
     "name": "stdout",
     "output_type": "stream",
     "text": [
      "Train PSNR: 30.661\n",
      "Val PSNR: 30.228\n",
      "Epoch 488 of 500\n"
     ]
    },
    {
     "name": "stderr",
     "output_type": "stream",
     "text": [
      "256it [00:22, 11.15it/s]                                                                                               \n",
      "86it [00:02, 28.86it/s]                                                                                                \n"
     ]
    },
    {
     "name": "stdout",
     "output_type": "stream",
     "text": [
      "Train PSNR: 30.662\n",
      "Val PSNR: 30.230\n",
      "Epoch 489 of 500\n"
     ]
    },
    {
     "name": "stderr",
     "output_type": "stream",
     "text": [
      "256it [00:22, 11.15it/s]                                                                                               \n",
      "86it [00:02, 28.67it/s]                                                                                                \n"
     ]
    },
    {
     "name": "stdout",
     "output_type": "stream",
     "text": [
      "Train PSNR: 30.663\n",
      "Val PSNR: 30.230\n",
      "Epoch 490 of 500\n"
     ]
    },
    {
     "name": "stderr",
     "output_type": "stream",
     "text": [
      "256it [00:22, 11.19it/s]                                                                                               \n",
      "86it [00:02, 29.04it/s]                                                                                                \n"
     ]
    },
    {
     "name": "stdout",
     "output_type": "stream",
     "text": [
      "Train PSNR: 30.664\n",
      "Val PSNR: 30.231\n",
      "Epoch 491 of 500\n"
     ]
    },
    {
     "name": "stderr",
     "output_type": "stream",
     "text": [
      "256it [00:22, 11.19it/s]                                                                                               \n",
      "86it [00:02, 28.99it/s]                                                                                                \n"
     ]
    },
    {
     "name": "stdout",
     "output_type": "stream",
     "text": [
      "Train PSNR: 30.666\n",
      "Val PSNR: 30.230\n",
      "Epoch 492 of 500\n"
     ]
    },
    {
     "name": "stderr",
     "output_type": "stream",
     "text": [
      "256it [00:22, 11.20it/s]                                                                                               \n",
      "86it [00:02, 29.09it/s]                                                                                                \n"
     ]
    },
    {
     "name": "stdout",
     "output_type": "stream",
     "text": [
      "Train PSNR: 30.667\n",
      "Val PSNR: 30.231\n",
      "Epoch 493 of 500\n"
     ]
    },
    {
     "name": "stderr",
     "output_type": "stream",
     "text": [
      "256it [00:22, 11.21it/s]                                                                                               \n",
      "86it [00:02, 29.18it/s]                                                                                                \n"
     ]
    },
    {
     "name": "stdout",
     "output_type": "stream",
     "text": [
      "Train PSNR: 30.667\n",
      "Val PSNR: 30.230\n",
      "Epoch 494 of 500\n"
     ]
    },
    {
     "name": "stderr",
     "output_type": "stream",
     "text": [
      "256it [00:22, 11.23it/s]                                                                                               \n",
      "86it [00:02, 29.28it/s]                                                                                                \n"
     ]
    },
    {
     "name": "stdout",
     "output_type": "stream",
     "text": [
      "Train PSNR: 30.667\n",
      "Val PSNR: 30.230\n",
      "Epoch 495 of 500\n"
     ]
    },
    {
     "name": "stderr",
     "output_type": "stream",
     "text": [
      "256it [00:22, 11.19it/s]                                                                                               \n",
      "86it [00:02, 28.96it/s]                                                                                                \n"
     ]
    },
    {
     "name": "stdout",
     "output_type": "stream",
     "text": [
      "Train PSNR: 30.664\n",
      "Val PSNR: 30.230\n",
      "Epoch 496 of 500\n"
     ]
    },
    {
     "name": "stderr",
     "output_type": "stream",
     "text": [
      "256it [00:22, 11.17it/s]                                                                                               \n",
      "86it [00:02, 29.31it/s]                                                                                                \n"
     ]
    },
    {
     "name": "stdout",
     "output_type": "stream",
     "text": [
      "Train PSNR: 30.663\n",
      "Val PSNR: 30.232\n",
      "Epoch 497 of 500\n"
     ]
    },
    {
     "name": "stderr",
     "output_type": "stream",
     "text": [
      "256it [00:22, 11.20it/s]                                                                                               \n",
      "86it [00:02, 28.97it/s]                                                                                                \n"
     ]
    },
    {
     "name": "stdout",
     "output_type": "stream",
     "text": [
      "Train PSNR: 30.663\n",
      "Val PSNR: 30.234\n",
      "Epoch 498 of 500\n"
     ]
    },
    {
     "name": "stderr",
     "output_type": "stream",
     "text": [
      "256it [00:22, 11.22it/s]                                                                                               \n",
      "86it [00:02, 29.11it/s]                                                                                                \n"
     ]
    },
    {
     "name": "stdout",
     "output_type": "stream",
     "text": [
      "Train PSNR: 30.664\n",
      "Val PSNR: 30.235\n",
      "Epoch 499 of 500\n"
     ]
    },
    {
     "name": "stderr",
     "output_type": "stream",
     "text": [
      "256it [00:22, 11.25it/s]                                                                                               \n",
      "86it [00:02, 29.09it/s]                                                                                                \n"
     ]
    },
    {
     "name": "stdout",
     "output_type": "stream",
     "text": [
      "Train PSNR: 30.664\n",
      "Val PSNR: 30.239\n",
      "Epoch 500 of 500\n"
     ]
    },
    {
     "name": "stderr",
     "output_type": "stream",
     "text": [
      "256it [00:20, 12.28it/s]                                                                                               \n",
      "86it [00:01, 43.96it/s]                                                                                                \n"
     ]
    },
    {
     "name": "stdout",
     "output_type": "stream",
     "text": [
      "Train PSNR: 30.666\n",
      "Val PSNR: 30.242\n",
      "Finished training in: 303.631 minutes\n"
     ]
    }
   ],
   "source": [
    "train_loss, val_loss = [], []\n",
    "train_psnr, val_psnr = [], []\n",
    "start = time.time()\n",
    "for epoch in range(epochs):\n",
    "    print(f\"Epoch {epoch + 1} of {epochs}\")\n",
    "    train_epoch_loss, train_epoch_psnr = train(model, train_loader)\n",
    "    val_epoch_loss, val_epoch_psnr = validate(model, val_loader, epoch)\n",
    "    print(f\"Train PSNR: {train_epoch_psnr:.3f}\")\n",
    "    print(f\"Val PSNR: {val_epoch_psnr:.3f}\")\n",
    "    train_loss.append(train_epoch_loss)\n",
    "    train_psnr.append(train_epoch_psnr)\n",
    "    val_loss.append(val_epoch_loss)\n",
    "    val_psnr.append(val_epoch_psnr)\n",
    "end = time.time()\n",
    "print(f\"Finished training in: {((end-start)/60):.3f} minutes\")\n",
    "torch.save(model,'S6model/DIPmode____.pt')\n",
    "# torch.Size([64, 64, 29, 29])"
   ]
  },
  {
   "cell_type": "code",
   "execution_count": 16,
   "id": "67080c25",
   "metadata": {
    "scrolled": true
   },
   "outputs": [
    {
     "data": {
      "image/png": "[encoded data removed]",
      "text/plain": [
       "<Figure size 1000x700 with 1 Axes>"
      ]
     },
     "metadata": {},
     "output_type": "display_data"
    },
    {
     "data": {
      "image/png": "[encoded data removed]",
      "text/plain": [
       "<Figure size 1000x700 with 1 Axes>"
      ]
     },
     "metadata": {},
     "output_type": "display_data"
    },
    {
     "name": "stdout",
     "output_type": "stream",
     "text": [
      "Saving model...\n"
     ]
    }
   ],
   "source": [
    "# loss plots\n",
    "plt.figure(figsize=(10, 7))\n",
    "plt.plot(train_loss, color='orange', label='train loss')\n",
    "plt.plot(val_loss, color='red', label='validataion loss')\n",
    "plt.xlabel('Epochs')\n",
    "plt.ylabel('Loss')\n",
    "plt.legend()\n",
    "plt.savefig('val_outputs/lossgpu.png')\n",
    "plt.show()\n",
    "# psnr plots\n",
    "plt.figure(figsize=(10, 7))\n",
    "plt.plot(train_psnr, color='green', label='train PSNR dB')\n",
    "plt.plot(val_psnr, color='blue', label='validataion PSNR dB')\n",
    "plt.xlabel('Epochs')\n",
    "plt.ylabel('PSNR (dB)')\n",
    "plt.legend()\n",
    "plt.savefig('val_outputs/psnrgpubetter.png')\n",
    "plt.show()\n",
    "# save the model to disk\n",
    "print('Saving model...')\n",
    "torch.save(model.state_dict(), 'val_outputs/modelgpu.pth')"
   ]
  },
  {
   "cell_type": "code",
   "execution_count": 17,
   "id": "966b6709",
   "metadata": {},
   "outputs": [
    {
     "name": "stdout",
     "output_type": "stream",
     "text": [
      "['input/bicubic_2x\\\\baby_GT.bmp', 'input/bicubic_2x\\\\bird_GT.bmp', 'input/bicubic_2x\\\\butterfly_GT.bmp', 'input/bicubic_2x\\\\head_GT.bmp', 'input/bicubic_2x\\\\woman_GT.bmp']\n"
     ]
    }
   ],
   "source": [
    "image_paths = glob('input/bicubic_2x/*')\n",
    "print(image_paths)"
   ]
  },
  {
   "cell_type": "code",
   "execution_count": null,
   "id": "679f53b8",
   "metadata": {},
   "outputs": [],
   "source": []
  },
  {
   "cell_type": "code",
   "execution_count": 18,
   "id": "5b799e9c",
   "metadata": {},
   "outputs": [
    {
     "name": "stdout",
     "output_type": "stream",
     "text": [
      "(504, 504, 1)\n",
      "(288, 288, 1)\n",
      "(252, 252, 1)\n",
      "(276, 276, 1)\n",
      "(336, 228, 1)\n"
     ]
    }
   ],
   "source": [
    "for image_path in image_paths:\n",
    "    image = cv2.imread(image_path, cv2.IMREAD_COLOR)\n",
    "    test_image_name = image_path.split(os.path.sep)[-1].split('.')[0]\n",
    "    image = cv2.cvtColor(image, cv2.COLOR_BGR2GRAY)\n",
    "    image = image.reshape(image.shape[0], image.shape[1], 1)\n",
    "    cv2.imwrite(f\"outputs/test_{test_image_name}.png\", image)\n",
    "    image = image / 255. # normalize the pixel values\n",
    "    cv2.imshow('Greyscale image', image)\n",
    "    model.eval()\n",
    "    with torch.no_grad():\n",
    "        image = np.transpose(image, (2, 0, 1)).astype(np.float32)\n",
    "        image = torch.tensor(image, dtype=torch.float).to(device)\n",
    "        image = image.unsqueeze(0)\n",
    "        outputs = model(image)\n",
    "    outputs = outputs.cpu()\n",
    "    save_image(outputs, f\"outputs/output_{test_image_name}.png\")\n",
    "    outputs = outputs.detach().numpy()\n",
    "    outputs = outputs.reshape(outputs.shape[2], outputs.shape[3], outputs.shape[1])\n",
    "    print(outputs.shape)\n",
    "    cv2.imshow('Output', outputs)\n"
   ]
  },
  {
   "cell_type": "code",
   "execution_count": 19,
   "id": "1dd61b3b",
   "metadata": {},
   "outputs": [
    {
     "name": "stdout",
     "output_type": "stream",
     "text": [
      "+\n"
     ]
    }
   ],
   "source": [
    "print(\"+\")"
   ]
  },
  {
   "cell_type": "code",
   "execution_count": null,
   "id": "f6d8df62",
   "metadata": {},
   "outputs": [],
   "source": []
  }
 ],
 "metadata": {
  "kernelspec": {
   "display_name": "Python 3 (ipykernel)",
   "language": "python",
   "name": "python3"
  },
  "language_info": {
   "codemirror_mode": {
    "name": "ipython",
    "version": 3
   },
   "file_extension": ".py",
   "mimetype": "text/x-python",
   "name": "python",
   "nbconvert_exporter": "python",
   "pygments_lexer": "ipython3",
   "version": "3.10.10"
  }
 },
 "nbformat": 4,
 "nbformat_minor": 5
}
